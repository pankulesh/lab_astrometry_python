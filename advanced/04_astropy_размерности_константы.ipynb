{
 "cells": [
  {
   "cell_type": "markdown",
   "id": "8a88de68-aca8-4de3-b13b-8e991067f21c",
   "metadata": {},
   "source": [
    "# Про astropy\n",
    "\n",
    "`astropy` — обширная библиотека для обработки астрономических данных, активно разрабатываемая сообществом ученых-энтузиастов. Именно `astropy` лежит в основе экосистемы современных астрономических пакетов в Python, так как реализует разнообразнейшие методы наблюдательной и теоретической астрономии.\n",
    "\n",
    "`astropy` создан в ответ на растущий запрос в стандартизованном, поддерживаемом и совместимом программном обеспечении для астрономического сообщества. До `astropy`, исследователи зачастую опирались на разрозненные самописные инструменты, устаревшие и несовместимые друг с другом, что затрудняло сотрудничество, воспроизводимость и долговременную поддержку. Сегодня `astropy` стал де-факто стандартом в обработке астрономических данных с помощью Python, широко распространившись в академическом и исследовательском поле.\n",
    "\n",
    "Библиотека базируется на следующих принципах:\n",
    "\n",
    "1) **Научная точность:** тщательно проверенные и утвержденные инструменты для реальных задач\n",
    "2) **Воспроизводимость:** стимулирование прозрачного анализа данных с помощью отслеживания единиц измерения, метаданных и открытых стандартов\n",
    "3) **Совместимость:** бесшовная интеграция с другими научными библиотеками (NumPy, SciPy, Matplotlib)\n",
    "4) **Модульность:** индивидуальные подпакеты, разработанные для отдельных областей астрономического знания\n",
    "5) **Управление сообществом:** открытая модель, разработанная астрономами для астрономов\n",
    "\n",
    "Подпакеты, включенные в `astropy`:\n",
    "\n",
    "* Физические единицы измерения (`astropy.units`)\n",
    "* Физические и астрономические постоянные (`astropy.constants`)\n",
    "* Преобразования небесных координат (`astropy.coordinates`)\n",
    "* Временные и календарные системы (`astropy.time`)\n",
    "* Обработка FITS и других табличных данных (`astropy.io`, `astropy.table`)\n",
    "* Обработка и преобразование земных координат (World Coordinate System, `astropy.wcs`)\n",
    "* Аналитическое моделирование и подгонка (`astropy.modeling`)\n",
    "* Космологические вычисления (`astropy.cosmology`)\n",
    "* Визуализация изображений (`astropy.visualization`)\n",
    "\n",
    "Эти компоненты тесно интегрируюстя друг с другом и отлично документированы на английском языке. Это делает `astropy` мощным инструментом не только для исследования, но и для преподавания астрономического анализа данных.\n",
    "\n",
    "**Замечание:**\n",
    "Если вы ещё не установили бибилотеки ниже, установите их, запустив ячейку ниже с помощью `SHIFT+ENTER`:"
   ]
  },
  {
   "cell_type": "code",
   "execution_count": 1,
   "id": "9c993263-1c36-4bf0-a3f9-8fad6e250981",
   "metadata": {},
   "outputs": [
    {
     "name": "stdout",
     "output_type": "stream",
     "text": [
      "Requirement already satisfied: astropy in /home/pan/.venvs/research/lib/python3.13/site-packages (7.1.0)\n",
      "Requirement already satisfied: astroquery in /home/pan/.venvs/research/lib/python3.13/site-packages (0.4.10)\n",
      "Requirement already satisfied: numpy>=1.23.2 in /home/pan/.venvs/research/lib/python3.13/site-packages (from astropy) (2.3.2)\n",
      "Requirement already satisfied: pyerfa>=2.0.1.1 in /home/pan/.venvs/research/lib/python3.13/site-packages (from astropy) (2.0.1.5)\n",
      "Requirement already satisfied: astropy-iers-data>=0.2025.4.28.0.37.27 in /home/pan/.venvs/research/lib/python3.13/site-packages (from astropy) (0.2025.6.9.14.9.37)\n",
      "Requirement already satisfied: PyYAML>=6.0.0 in /home/pan/.venvs/research/lib/python3.13/site-packages (from astropy) (6.0.2)\n",
      "Requirement already satisfied: packaging>=22.0.0 in /home/pan/.venvs/research/lib/python3.13/site-packages (from astropy) (25.0)\n",
      "Requirement already satisfied: requests>=2.19 in /home/pan/.venvs/research/lib/python3.13/site-packages (from astroquery) (2.32.4)\n",
      "Requirement already satisfied: beautifulsoup4>=4.8 in /home/pan/.venvs/research/lib/python3.13/site-packages (from astroquery) (4.13.4)\n",
      "Requirement already satisfied: html5lib>=0.999 in /home/pan/.venvs/research/lib/python3.13/site-packages (from astroquery) (1.1)\n",
      "Requirement already satisfied: keyring>=15.0 in /home/pan/.venvs/research/lib/python3.13/site-packages (from astroquery) (25.6.0)\n",
      "Requirement already satisfied: pyvo>=1.5 in /home/pan/.venvs/research/lib/python3.13/site-packages (from astroquery) (1.7)\n",
      "Requirement already satisfied: soupsieve>1.2 in /home/pan/.venvs/research/lib/python3.13/site-packages (from beautifulsoup4>=4.8->astroquery) (2.7)\n",
      "Requirement already satisfied: typing-extensions>=4.0.0 in /home/pan/.venvs/research/lib/python3.13/site-packages (from beautifulsoup4>=4.8->astroquery) (4.14.0)\n",
      "Requirement already satisfied: six>=1.9 in /home/pan/.venvs/research/lib/python3.13/site-packages (from html5lib>=0.999->astroquery) (1.17.0)\n",
      "Requirement already satisfied: webencodings in /home/pan/.venvs/research/lib/python3.13/site-packages (from html5lib>=0.999->astroquery) (0.5.1)\n",
      "Requirement already satisfied: SecretStorage>=3.2 in /home/pan/.venvs/research/lib/python3.13/site-packages (from keyring>=15.0->astroquery) (3.3.3)\n",
      "Requirement already satisfied: jeepney>=0.4.2 in /home/pan/.venvs/research/lib/python3.13/site-packages (from keyring>=15.0->astroquery) (0.9.0)\n",
      "Requirement already satisfied: jaraco.classes in /home/pan/.venvs/research/lib/python3.13/site-packages (from keyring>=15.0->astroquery) (3.4.0)\n",
      "Requirement already satisfied: jaraco.functools in /home/pan/.venvs/research/lib/python3.13/site-packages (from keyring>=15.0->astroquery) (4.1.0)\n",
      "Requirement already satisfied: jaraco.context in /home/pan/.venvs/research/lib/python3.13/site-packages (from keyring>=15.0->astroquery) (6.0.1)\n",
      "Requirement already satisfied: charset_normalizer<4,>=2 in /home/pan/.venvs/research/lib/python3.13/site-packages (from requests>=2.19->astroquery) (3.4.2)\n",
      "Requirement already satisfied: idna<4,>=2.5 in /home/pan/.venvs/research/lib/python3.13/site-packages (from requests>=2.19->astroquery) (3.10)\n",
      "Requirement already satisfied: urllib3<3,>=1.21.1 in /home/pan/.venvs/research/lib/python3.13/site-packages (from requests>=2.19->astroquery) (2.4.0)\n",
      "Requirement already satisfied: certifi>=2017.4.17 in /home/pan/.venvs/research/lib/python3.13/site-packages (from requests>=2.19->astroquery) (2025.4.26)\n",
      "Requirement already satisfied: cryptography>=2.0 in /home/pan/.venvs/research/lib/python3.13/site-packages (from SecretStorage>=3.2->keyring>=15.0->astroquery) (45.0.4)\n",
      "Requirement already satisfied: cffi>=1.14 in /home/pan/.venvs/research/lib/python3.13/site-packages (from cryptography>=2.0->SecretStorage>=3.2->keyring>=15.0->astroquery) (1.17.1)\n",
      "Requirement already satisfied: pycparser in /home/pan/.venvs/research/lib/python3.13/site-packages (from cffi>=1.14->cryptography>=2.0->SecretStorage>=3.2->keyring>=15.0->astroquery) (2.22)\n",
      "Requirement already satisfied: more-itertools in /home/pan/.venvs/research/lib/python3.13/site-packages (from jaraco.classes->keyring>=15.0->astroquery) (10.7.0)\n"
     ]
    }
   ],
   "source": [
    "!pip install astropy astroquery"
   ]
  },
  {
   "cell_type": "markdown",
   "id": "c186cadb-7a58-44ea-ba05-e71756e4033a",
   "metadata": {},
   "source": [
    "## Размерные величины и постоянные в astropy\n",
    "\n",
    "Астрономические вычисления обычно включают в себя работу с физическими величинами, выраженными в различных специализированных единицах. В отличие от стандартизованной системы СИ, используемой физиками, астрономы часто используют исторически или практически обусловленные единицы вроде **парсеков**, **астрономических единиц**, **солнечных масс и светимостей**, и единиц для энергетических потоков вроде **янских**.\n",
    "\n",
    "`astropy` предоставляет три тесно связанных компоненты для упрощения работы с этими разномастными величинами, сохраняя научную строгость: \n",
    "\n",
    "### 1. Единицы измерения (`astropy.units`)\n",
    "Единицы измерения нужны для измерения различных физических величин, например, парсеки, километры в секунду, или солнечные массы. `astropy` упрощает взаимодействие с единицами измерения, позволяя с легкостью и надежностью преобразовывать одни в другие, автоматически следя за их постоянством.\n",
    "\n",
    "### 2. Размерные величины (Quantities)\n",
    "Размерная величина есть комбинация числа и соотвествующей единицы измерения, например, `10 пк` или `1.5 M⊙`. Объекты класса `astropy.units.Quantity` автоматически отслеживает размерности, избавляя от шансов совершить ошибку из-за преобразований величин вручную.\n",
    "\n",
    "### 3. Постоянные (`astropy.constants`)\n",
    "Постоянные есть фундаментальные физические параметры, такие как ньютоновская постоянная гравитации (`G`), скорость света (`c`), или масса Солнца (`M_sun`). `astropy` предоставляет эти константы предопределенным с точным численным значением и единицей измерения согласно общепринятым стандартам Международного Астрономического Союза. Благодаря этому можно не переживать за воспроизводимость и аккуратность вычислений, опирающихся на эти константы. \n",
    "\n",
    "Все вместе, **единицы измерения**, **размерные величины** и **постоянные** образуют надежный фундамент для прозрачных и надежных физических вычислений. Включая единицы измерения непосредственно в вычисления, `astropy` стимулирует лучшие практики научного программирования и кратно упрощает анализ."
   ]
  },
  {
   "cell_type": "code",
   "execution_count": 2,
   "id": "753f607b-c070-433f-b018-99dc0f2b43fe",
   "metadata": {},
   "outputs": [],
   "source": [
    "from astropy import units as u # общепринятое сокращение для набора единиц измерения\n",
    "\n",
    "# определим простейшие размерные величины и запишем их в переменные\n",
    "distance = 1000 * u.km          # расстояние в км\n",
    "velocity = 200 * u.km / u.s   # скорость в км/с\n",
    "time = distance / velocity # а что тут?"
   ]
  },
  {
   "cell_type": "markdown",
   "id": "120d59ca-5b08-4667-82e2-3e30ac980c4f",
   "metadata": {},
   "source": [
    "Каждая из этих переменных есть объект класса `astropy.units.Quantity`, который хранит в себе одновременно численное значение и физическую единицу измерения. Эти объекты могут быть использованы непосредственно в вычислениях, при этом всевозможные преобразования единиц измерения будут отслеживаться автоматически. "
   ]
  },
  {
   "cell_type": "code",
   "execution_count": 3,
   "id": "d0700306-473e-4cb9-842f-25670e636919",
   "metadata": {},
   "outputs": [
    {
     "name": "stdout",
     "output_type": "stream",
     "text": [
      "<class 'astropy.units.quantity.Quantity'>\n",
      "1000.0 km\n",
      "200.0 km / s\n",
      "5.0 s\n"
     ]
    }
   ],
   "source": [
    "print(type(time))\n",
    "print(distance)\n",
    "print(velocity)\n",
    "print(time)"
   ]
  },
  {
   "cell_type": "code",
   "execution_count": 4,
   "id": "7926d988-7cc6-4681-8e04-00adce619368",
   "metadata": {},
   "outputs": [
    {
     "name": "stdout",
     "output_type": "stream",
     "text": [
      "Расстояние: distance = 1000.00 km\n",
      "km\n",
      "1000.0\n",
      "<class 'numpy.float64'>\n"
     ]
    }
   ],
   "source": [
    "print(f\"Расстояние: distance = {distance:.2f}\") # обратите внимание, что форматирование работает!\n",
    "print(distance.unit) # единица измерения величины\n",
    "print(distance.value) # численное значение величины\n",
    "print(type(distance.value)) # тип численного значения, как правило, NumPy float"
   ]
  },
  {
   "cell_type": "markdown",
   "id": "dceb14af-44bb-4674-ae57-2719a96d29df",
   "metadata": {},
   "source": [
    "## Примеры единиц измерения в astropy\n",
    "Неполный список, взято из <https://docs.astropy.org/en/stable/units/ref_api.html#module-astropy.units>"
   ]
  },
  {
   "cell_type": "markdown",
   "id": "ca8acd11-5ff7-47a4-8968-7c3bbb2fb4b7",
   "metadata": {},
   "source": [
    "### Единицы длины\n",
    "\n",
    "| Единица    | Описание                | Представление   |\n",
    "|------------|-------------------------|-----------------|\n",
    "| м          | метр                    | `u.m`           |\n",
    "| см         | сантиметр               | `u.cm`          |\n",
    "| мм         | миллиметр               | `u.mm`          |\n",
    "| нм         | нанометр                | `u.nm`          |\n",
    "| км         | километр                | `u.km`          |\n",
    "| Å          | ангстрем                | `u.Angstrom`    |\n",
    "| а.е.       | астрономическая единица | `u.au`          |\n",
    "| пк         | парсек                  | `u.pc`          |\n",
    "| св. год    | световой год            | `u.lyr`         |\n",
    "| $R_\\odot$  | радиус Солнца           | `u.R_sun`       |\n",
    "| $R_\\oplus$ | радиус Земли            | `u.R_earth`     |\n",
    "| $R_{Юп}$   | радиус Юпитера          | `u.R_jup`       |\n",
    "| $R_{Лун}$  | радиус Луны             | `u.R_moon`      |"
   ]
  },
  {
   "cell_type": "markdown",
   "id": "2ada71e1-6a34-4351-aff8-1488f8fe2b0a",
   "metadata": {},
   "source": [
    "### Единицы времени\n",
    "\n",
    "| Единица    | Описание      | Представление |\n",
    "|------------|---------------|---------------|\n",
    "| c          | секунда       | `u.s`         |\n",
    "| мс         | миллисекунда  | `u.ms`        |\n",
    "| мкс        | микросекунда  | `u.us`        |\n",
    "| нс         | наносекунда   | `u.ns`        |\n",
    "| м          | минута        | `u.min`       |\n",
    "| ч          | час           | `u.h`         |\n",
    "| сут        | сутки         | `u.day`       |\n",
    "| год        | юлианский год | `u.yr`        |\n",
    "| млрд. лет  | миллиард лет  | `u.Gyr`       |"
   ]
  },
  {
   "cell_type": "markdown",
   "id": "aec4838e-0edf-47dd-8cdb-3af99d425c4e",
   "metadata": {},
   "source": [
    "### Единицы массы\n",
    "\n",
    "| Единица    | Описание              | Представление |\n",
    "|------------|-----------------------|---------------|\n",
    "| кг         | килограмм             | `u.kg`        |\n",
    "| г          | грамм                 | `u.g`         |\n",
    "| мг         | миллиграмм            | `u.mg`        |\n",
    "| мкг        | микрограмм            | `u.ug`        |\n",
    "| а.е.м      | атомная единица массы | `u.u`         |\n",
    "| $M_\\odot$  | масса Солнца          | `u.M_sun`     |\n",
    "| $M_\\oplus$ | масса Земли           | `u.M_earth`   |\n",
    "| $M_{Юп}$   | масса Юпитера         | `u.M_jup`     |\n",
    "| $M_{Лун}$  | масса Луны            | `u.M_moon`    |"
   ]
  },
  {
   "cell_type": "markdown",
   "id": "997370dc-d1c3-4625-954b-92fc67b39926",
   "metadata": {},
   "source": [
    "### Единицы температуры\n",
    "\n",
    "| Единица    | Описание          | Представление      |\n",
    "|------------|-------------------|--------------------|\n",
    "| К          | кельвины          | `u.K`              |\n",
    "| $^\\circ C$ | градус Цельсия    | `u.deg_C`          |\n",
    "| $^\\circ F$ | градус Фаренгейта | `u.imperial.deg_F` |"
   ]
  },
  {
   "cell_type": "markdown",
   "id": "da9182bb-cb63-4721-91b6-de16238afd00",
   "metadata": {},
   "source": [
    "### Единицы энергии и мощности\n",
    "\n",
    "| Единица   | Описание             | Представление |\n",
    "|-----------|----------------------|---------------|\n",
    "| Дж        | джоуль               | `u.J`         |\n",
    "| эрг       | эрг                  | `u.erg`       |\n",
    "| эВ        | электрон-вольт       | `u.eV`        |\n",
    "| кэВ       | килоэлектрон-вольт   | `u.keV`       |\n",
    "| МэВ       | мегаэлектрон-вольт   | `u.MeV`       |\n",
    "| ГэВ       | гигаэлектрон-вольт   | `u.GeV`       |\n",
    "| Вт        | ватт                 | `u.W`         |\n",
    "| $L_\\odot$ | солнечная светимость | `u.L_sun`     |"
   ]
  },
  {
   "cell_type": "markdown",
   "id": "3d6bc93d-a079-4fda-b0f0-b9900d6a4ab5",
   "metadata": {},
   "source": [
    "### Единицы площади и объема\n",
    "\n",
    "| Единица | Описание         | Представление |\n",
    "|---------|------------------|---------------|\n",
    "| м²      | квадратный метр  | `u.m**2`      |\n",
    "| (а.е)²  | квадратная а.е.  | `u.au**2`     |\n",
    "| м³      | кубический метр  | `u.m**3`      |\n",
    "| л       | литр             | `u.L`         |"
   ]
  },
  {
   "cell_type": "markdown",
   "id": "3a81a8ea-3654-4d99-a2de-2d3ab33dc100",
   "metadata": {},
   "source": [
    "### Единицы частоты\n",
    "\n",
    "| Единица | Описание      | Представление |\n",
    "|---------|---------------|---------------|\n",
    "| Гц      | герц          | `u.Hz`        |\n",
    "| кГц     | килогерц      | `u.kHz`       |\n",
    "| МГц     | мегагерц      | `u.MHz`       |\n",
    "| ГГц     | гигагерц      | `u.GHz`       |\n",
    "| ТГц     | терагерц      | `u.THz`       |"
   ]
  },
  {
   "cell_type": "markdown",
   "id": "a936d848-b3f8-4bac-8019-74dbbdd3d885",
   "metadata": {},
   "source": [
    "### Электрические единицы\n",
    "\n",
    "| Единица | Описание      | Представление |\n",
    "|---------|---------------|---------------|\n",
    "| Кл      | кулон         | `u.C`         |\n",
    "| В       | вольт         | `u.V`         |\n",
    "| А       | ампер         | `u.A`         |\n",
    "| Ом      | ом            | `u.ohm`       |\n",
    "| См      | сименс        | `u.S`         |\n",
    "| Ф       | фарад         | `u.F`         |\n",
    "| Гн      | генри         | `u.H`         |\n",
    "| Тл      | тесла         | `u.T`         |\n",
    "| Вб      | вебер         | `u.Wb`        |"
   ]
  },
  {
   "cell_type": "markdown",
   "id": "09752e5f-104f-4653-9a37-4072124b6f62",
   "metadata": {},
   "source": [
    "### Единицы излучения и потоков\n",
    "\n",
    "| Единица           | Описание                                 | Представление                  |\n",
    "|-------------------|------------------------------------------|--------------------------------|\n",
    "| Ян                | янский                                   | `u.Jy`                         |\n",
    "| фотон             | штуки фотонов (безразмерная)             | `u.photon`                     |\n",
    "| Вт/(м² Гц стерад) | спектральная энергетическая яркость (СИ) | `u.W / (u.m**2 * u.Hz * u.sr)` |\n",
    "| эрг/(с см²)       | плотность потока энергии (СГС)           | `u.erg / (u.s * u.cm**2)`      |"
   ]
  },
  {
   "cell_type": "markdown",
   "id": "fbf52027-d934-4b54-82de-f11e6d65b3b6",
   "metadata": {},
   "source": [
    "### Плоские и телесные углы\n",
    "\n",
    "| Единица  | Описание          | Представление |\n",
    "|----------|-------------------|---------------|\n",
    "| $^\\circ$ | градус            | `u.deg`       |\n",
    "| $'$      | угловая минута    | `u.arcmin`    |\n",
    "| $''$     | угловая секунда   | `u.arcsec`    |\n",
    "| мсд      | миллисекунда дуги | `u.mas`       |\n",
    "| рад      | радиан            | `u.rad`       |\n",
    "| стерад   | стерадиан         | `u.sr`        |"
   ]
  },
  {
   "cell_type": "markdown",
   "id": "fbfb1f0e-dc58-4f09-8732-3dcd4835ef2f",
   "metadata": {},
   "source": [
    "### Безразмерные единицы\n",
    "\n",
    "| Единица                  | Описание               | Представление              |\n",
    "|--------------------------|------------------------|----------------------------|\n",
    "|                          | чистое число           | `u.dimensionless_unscaled` |\n",
    "| dex, dec                 | десятичный логариф     | `u.dex`                    |\n",
    "| зв. вел.                 | звездная величина      | `u.mag`                    |\n",
    "| %                        | процент                | `u.percent`                |\n",
    "| ppm                      | частей на миллион      | `u.ppm`                    |\n",
    "| шт.                      | штуки                  | `u.count`                  |"
   ]
  },
  {
   "cell_type": "code",
   "execution_count": 5,
   "id": "b12500d9-4e4d-49a1-a176-3e858b8537ee",
   "metadata": {},
   "outputs": [
    {
     "name": "stdout",
     "output_type": "stream",
     "text": [
      "Расстояние: 5.00 pc\n"
     ]
    }
   ],
   "source": [
    "distance_pc = u.Quantity(5, u.pc) # ещё один способ задать величину из значения и единицы измерения\n",
    "print(f\"Расстояние: {distance_pc:.2f}\")"
   ]
  },
  {
   "cell_type": "code",
   "execution_count": 6,
   "id": "d8dd8690-717d-494f-bab8-51926b0aa473",
   "metadata": {},
   "outputs": [
    {
     "name": "stdout",
     "output_type": "stream",
     "text": [
      "Скорость света [в световых годах в год]: 1.00 lyr / yr\n",
      "Скорость света [в км/c]: 299792.46 km / s\n"
     ]
    }
   ],
   "source": [
    "speed_of_light = u.Quantity(1, u.lyr/u.year)\n",
    "print(f\"Скорость света [в световых годах в год]: {speed_of_light:.2f}\")  \n",
    "print(f\"Скорость света [в км/c]: {speed_of_light.to(u.km/u.s):.2f}\") # магия конвертации в другие единицы осуществляется методом .to()"
   ]
  },
  {
   "cell_type": "markdown",
   "id": "343f9471-c218-4e6e-b240-702f57ff2d68",
   "metadata": {},
   "source": [
    "### Преобразование единиц измерения\n",
    "\n",
    "Одним из ключевых преимуществ объектов типа `astropy.units.Quantity` является способность преобразовать численное значение величины в другие совместимые единицы с помощью метода `.to()`.\n",
    "\n",
    "Объект класса `Quantity` — это пара из числа и физической единицы измерения. Если вам нужно выразить эту величину в иных единицах (например, метры выразить в километрах, или джоули в электрон-вольтах), метод `.to()` позволяет это сделать с легкостью:\n",
    "\n",
    "#### Синтаксис:\n",
    "```python\n",
    "преобразованная_величина = оригинальная_величина.to(новые_единицы_измерения)\n",
    "```\n",
    "\n",
    "#### Пример:\n",
    "Преобразовать 1.5 пк в световые года можно следующим образом:\n",
    "\n",
    "```python\n",
    "(1.5 * u.pc).to(u.lyr)\n",
    "```\n",
    "\n",
    "Метод вернет новый объект класса `Quantity`, содержащий физическую величину в нужной размерности.\n",
    "\n",
    "Метод `.to()` позволяет программисту четко и явно задавать единицы измерения физических величин во входных данных, не переживая за преобразования величин, что упрощает физический анализ в разы."
   ]
  },
  {
   "cell_type": "code",
   "execution_count": 7,
   "id": "752a9b86-6ef1-4a0c-91c7-79f3641c6105",
   "metadata": {},
   "outputs": [
    {
     "name": "stdout",
     "output_type": "stream",
     "text": [
      "Расстояние в парсеках: 5.00 pc\n",
      "Расстояние в миллипарсеках: 5000.00 mpc\n",
      "Расстояние в световых годах: 16.31 lyr\n",
      "Расстояние в астрономических единицах: 1031324.03 AU\n",
      "Расстояние в радиусах Солнца: 221767829.63 solRad\n",
      "Расстояние в километрах: 154283879074568.38 km\n",
      "Расстояние в миллиметрах: 154283879074568339456.00 mm\n",
      "Расстояние в пикометрах: 154283879074568357719543119872.00 pm\n"
     ]
    }
   ],
   "source": [
    "print(f\"Расстояние в парсеках: {distance_pc:.2f}\")\n",
    "print(f\"Расстояние в миллипарсеках: {distance_pc.to(u.mpc):.2f}\") # десятичные приставки для большинства величин определены без проблем\n",
    "print(f\"Расстояние в световых годах: {distance_pc.to(u.lyr):.2f}\")\n",
    "print(f\"Расстояние в астрономических единицах: {distance_pc.to(u.au):.2f}\")\n",
    "print(f\"Расстояние в радиусах Солнца: {distance_pc.to(u.R_sun):.2f}\")\n",
    "print(f\"Расстояние в километрах: {distance_pc.to(u.km):.2f}\") \n",
    "print(f\"Расстояние в миллиметрах: {distance_pc.to(u.mm):.2f}\") \n",
    "print(f\"Расстояние в пикометрах: {distance_pc.to(u.pm):.2f}\")"
   ]
  },
  {
   "cell_type": "markdown",
   "id": "b89d207b-9342-47b3-a5ea-137715902031",
   "metadata": {},
   "source": [
    "#### Замечание:\n",
    "- Требуемые единицы (`новые_единицы_измерения`) должны иметь **ту же размерность**, что и исходные.\n",
    "- В противном случае (например, при попытке преобразовать длину в секунды), `astropy` вызовет ошибку `UnitConversionError`:"
   ]
  },
  {
   "cell_type": "code",
   "execution_count": 8,
   "id": "4dd26f13-232a-4bd8-a3c2-68ba26ad6748",
   "metadata": {
    "scrolled": true
   },
   "outputs": [
    {
     "ename": "UnitConversionError",
     "evalue": "'pc' (length) and 's' (time) are not convertible",
     "output_type": "error",
     "traceback": [
      "\u001b[31m---------------------------------------------------------------------------\u001b[39m",
      "\u001b[31mUnitConversionError\u001b[39m                       Traceback (most recent call last)",
      "\u001b[36mCell\u001b[39m\u001b[36m \u001b[39m\u001b[32mIn[8]\u001b[39m\u001b[32m, line 1\u001b[39m\n\u001b[32m----> \u001b[39m\u001b[32m1\u001b[39m \u001b[43mdistance_pc\u001b[49m\u001b[43m.\u001b[49m\u001b[43mto\u001b[49m\u001b[43m(\u001b[49m\u001b[43mu\u001b[49m\u001b[43m.\u001b[49m\u001b[43ms\u001b[49m\u001b[43m)\u001b[49m\n",
      "\u001b[36mFile \u001b[39m\u001b[32m~/.venvs/research/lib/python3.13/site-packages/astropy/units/quantity.py:931\u001b[39m, in \u001b[36mQuantity.to\u001b[39m\u001b[34m(self, unit, equivalencies, copy)\u001b[39m\n\u001b[32m    927\u001b[39m unit = Unit(unit)\n\u001b[32m    928\u001b[39m \u001b[38;5;28;01mif\u001b[39;00m copy:\n\u001b[32m    929\u001b[39m     \u001b[38;5;66;03m# Avoid using to_value to ensure that we make a copy. We also\u001b[39;00m\n\u001b[32m    930\u001b[39m     \u001b[38;5;66;03m# don't want to slow down this method (esp. the scalar case).\u001b[39;00m\n\u001b[32m--> \u001b[39m\u001b[32m931\u001b[39m     value = \u001b[38;5;28;43mself\u001b[39;49m\u001b[43m.\u001b[49m\u001b[43m_to_value\u001b[49m\u001b[43m(\u001b[49m\u001b[43munit\u001b[49m\u001b[43m,\u001b[49m\u001b[43m \u001b[49m\u001b[43mequivalencies\u001b[49m\u001b[43m)\u001b[49m\n\u001b[32m    932\u001b[39m \u001b[38;5;28;01melse\u001b[39;00m:\n\u001b[32m    933\u001b[39m     \u001b[38;5;66;03m# to_value only copies if necessary\u001b[39;00m\n\u001b[32m    934\u001b[39m     value = \u001b[38;5;28mself\u001b[39m.to_value(unit, equivalencies)\n",
      "\u001b[36mFile \u001b[39m\u001b[32m~/.venvs/research/lib/python3.13/site-packages/astropy/units/quantity.py:884\u001b[39m, in \u001b[36mQuantity._to_value\u001b[39m\u001b[34m(self, unit, equivalencies)\u001b[39m\n\u001b[32m    881\u001b[39m     equivalencies = \u001b[38;5;28mself\u001b[39m._equivalencies\n\u001b[32m    882\u001b[39m \u001b[38;5;28;01mif\u001b[39;00m \u001b[38;5;129;01mnot\u001b[39;00m \u001b[38;5;28mself\u001b[39m.dtype.names \u001b[38;5;129;01mor\u001b[39;00m \u001b[38;5;28misinstance\u001b[39m(\u001b[38;5;28mself\u001b[39m.unit, StructuredUnit):\n\u001b[32m    883\u001b[39m     \u001b[38;5;66;03m# Standard path, let unit to do work.\u001b[39;00m\n\u001b[32m--> \u001b[39m\u001b[32m884\u001b[39m     \u001b[38;5;28;01mreturn\u001b[39;00m \u001b[38;5;28;43mself\u001b[39;49m\u001b[43m.\u001b[49m\u001b[43munit\u001b[49m\u001b[43m.\u001b[49m\u001b[43mto\u001b[49m\u001b[43m(\u001b[49m\n\u001b[32m    885\u001b[39m \u001b[43m        \u001b[49m\u001b[43munit\u001b[49m\u001b[43m,\u001b[49m\u001b[43m \u001b[49m\u001b[38;5;28;43mself\u001b[39;49m\u001b[43m.\u001b[49m\u001b[43mview\u001b[49m\u001b[43m(\u001b[49m\u001b[43mnp\u001b[49m\u001b[43m.\u001b[49m\u001b[43mndarray\u001b[49m\u001b[43m)\u001b[49m\u001b[43m,\u001b[49m\u001b[43m \u001b[49m\u001b[43mequivalencies\u001b[49m\u001b[43m=\u001b[49m\u001b[43mequivalencies\u001b[49m\n\u001b[32m    886\u001b[39m \u001b[43m    \u001b[49m\u001b[43m)\u001b[49m\n\u001b[32m    888\u001b[39m \u001b[38;5;28;01melse\u001b[39;00m:\n\u001b[32m    889\u001b[39m     \u001b[38;5;66;03m# The .to() method of a simple unit cannot convert a structured\u001b[39;00m\n\u001b[32m    890\u001b[39m     \u001b[38;5;66;03m# dtype, so we work around it, by recursing.\u001b[39;00m\n\u001b[32m    891\u001b[39m     \u001b[38;5;66;03m# TODO: deprecate this?\u001b[39;00m\n\u001b[32m    892\u001b[39m     \u001b[38;5;66;03m# Convert simple to Structured on initialization?\u001b[39;00m\n\u001b[32m    893\u001b[39m     result = np.empty_like(\u001b[38;5;28mself\u001b[39m.view(np.ndarray))\n",
      "\u001b[36mFile \u001b[39m\u001b[32m~/.venvs/research/lib/python3.13/site-packages/astropy/units/core.py:1208\u001b[39m, in \u001b[36mUnitBase.to\u001b[39m\u001b[34m(self, other, value, equivalencies)\u001b[39m\n\u001b[32m   1206\u001b[39m     \u001b[38;5;28;01mreturn\u001b[39;00m UNITY\n\u001b[32m   1207\u001b[39m \u001b[38;5;28;01melse\u001b[39;00m:\n\u001b[32m-> \u001b[39m\u001b[32m1208\u001b[39m     \u001b[38;5;28;01mreturn\u001b[39;00m \u001b[38;5;28;43mself\u001b[39;49m\u001b[43m.\u001b[49m\u001b[43mget_converter\u001b[49m\u001b[43m(\u001b[49m\u001b[43mUnit\u001b[49m\u001b[43m(\u001b[49m\u001b[43mother\u001b[49m\u001b[43m)\u001b[49m\u001b[43m,\u001b[49m\u001b[43m \u001b[49m\u001b[43mequivalencies\u001b[49m\u001b[43m)\u001b[49m(value)\n",
      "\u001b[36mFile \u001b[39m\u001b[32m~/.venvs/research/lib/python3.13/site-packages/astropy/units/core.py:1137\u001b[39m, in \u001b[36mUnitBase.get_converter\u001b[39m\u001b[34m(self, other, equivalencies)\u001b[39m\n\u001b[32m   1134\u001b[39m             \u001b[38;5;28;01melse\u001b[39;00m:\n\u001b[32m   1135\u001b[39m                 \u001b[38;5;28;01mreturn\u001b[39;00m \u001b[38;5;28;01mlambda\u001b[39;00m v: b(converter(v))\n\u001b[32m-> \u001b[39m\u001b[32m1137\u001b[39m \u001b[38;5;28;01mraise\u001b[39;00m exc\n",
      "\u001b[36mFile \u001b[39m\u001b[32m~/.venvs/research/lib/python3.13/site-packages/astropy/units/core.py:1120\u001b[39m, in \u001b[36mUnitBase.get_converter\u001b[39m\u001b[34m(self, other, equivalencies)\u001b[39m\n\u001b[32m   1118\u001b[39m \u001b[38;5;66;03m# if that doesn't work, maybe we can do it with equivalencies?\u001b[39;00m\n\u001b[32m   1119\u001b[39m \u001b[38;5;28;01mtry\u001b[39;00m:\n\u001b[32m-> \u001b[39m\u001b[32m1120\u001b[39m     \u001b[38;5;28;01mreturn\u001b[39;00m \u001b[38;5;28;43mself\u001b[39;49m\u001b[43m.\u001b[49m\u001b[43m_apply_equivalencies\u001b[49m\u001b[43m(\u001b[49m\n\u001b[32m   1121\u001b[39m \u001b[43m        \u001b[49m\u001b[38;5;28;43mself\u001b[39;49m\u001b[43m,\u001b[49m\u001b[43m \u001b[49m\u001b[43mother\u001b[49m\u001b[43m,\u001b[49m\u001b[43m \u001b[49m\u001b[38;5;28;43mself\u001b[39;49m\u001b[43m.\u001b[49m\u001b[43m_normalize_equivalencies\u001b[49m\u001b[43m(\u001b[49m\u001b[43mequivalencies\u001b[49m\u001b[43m)\u001b[49m\n\u001b[32m   1122\u001b[39m \u001b[43m    \u001b[49m\u001b[43m)\u001b[49m\n\u001b[32m   1123\u001b[39m \u001b[38;5;28;01mexcept\u001b[39;00m UnitsError \u001b[38;5;28;01mas\u001b[39;00m exc:\n\u001b[32m   1124\u001b[39m     \u001b[38;5;66;03m# Last hope: maybe other knows how to do it?\u001b[39;00m\n\u001b[32m   1125\u001b[39m     \u001b[38;5;66;03m# We assume the equivalencies have the unit itself as first item.\u001b[39;00m\n\u001b[32m   1126\u001b[39m     \u001b[38;5;66;03m# TODO: maybe better for other to have a `_back_converter` method?\u001b[39;00m\n\u001b[32m   1127\u001b[39m     \u001b[38;5;28;01mif\u001b[39;00m \u001b[38;5;28mhasattr\u001b[39m(other, \u001b[33m\"\u001b[39m\u001b[33mequivalencies\u001b[39m\u001b[33m\"\u001b[39m):\n",
      "\u001b[36mFile \u001b[39m\u001b[32m~/.venvs/research/lib/python3.13/site-packages/astropy/units/core.py:1071\u001b[39m, in \u001b[36mUnitBase._apply_equivalencies\u001b[39m\u001b[34m(self, unit, other, equivalencies)\u001b[39m\n\u001b[32m   1068\u001b[39m unit_str = get_err_str(unit)\n\u001b[32m   1069\u001b[39m other_str = get_err_str(other)\n\u001b[32m-> \u001b[39m\u001b[32m1071\u001b[39m \u001b[38;5;28;01mraise\u001b[39;00m UnitConversionError(\u001b[33mf\u001b[39m\u001b[33m\"\u001b[39m\u001b[38;5;132;01m{\u001b[39;00munit_str\u001b[38;5;132;01m}\u001b[39;00m\u001b[33m and \u001b[39m\u001b[38;5;132;01m{\u001b[39;00mother_str\u001b[38;5;132;01m}\u001b[39;00m\u001b[33m are not convertible\u001b[39m\u001b[33m\"\u001b[39m)\n",
      "\u001b[31mUnitConversionError\u001b[39m: 'pc' (length) and 's' (time) are not convertible"
     ]
    }
   ],
   "source": [
    "distance_pc.to(u.s)"
   ]
  },
  {
   "cell_type": "code",
   "execution_count": 9,
   "id": "a0d567ab-76d6-4e7f-a95d-5f7682b1568a",
   "metadata": {},
   "outputs": [
    {
     "name": "stdout",
     "output_type": "stream",
     "text": [
      "Скорость света (СИ): 299792458.00 m / s\n",
      "Скорость света (СГС): 29979245800.00 cm / s\n",
      "Значение скорости света в мм/нс: 299.79\n"
     ]
    }
   ],
   "source": [
    "# встроенные методы .si и .cgs позволяют представить величину в стандартах СИ и СГС\n",
    "print(f\"Скорость света (СИ): {speed_of_light.si:.2f}\")\n",
    "print(f\"Скорость света (СГС): {speed_of_light.cgs:.2f}\")\n",
    "# метод .to_value(новая_единица) аналогичен .to(новая_единица).value, полезно, когда нужно только число\n",
    "print(f\"Значение скорости света в мм/нс: {speed_of_light.to_value(u.mm/u.ns):.2f}\")"
   ]
  },
  {
   "cell_type": "markdown",
   "id": "8a2f8919-99b9-4abe-9401-0a99e65bb0b1",
   "metadata": {
    "jp-MarkdownHeadingCollapsed": true
   },
   "source": [
    "## Постоянные\n",
    "\n",
    "Теперь, когда мы знаем, как определять физические величины с явными единицами измерения с помощью `astropy.units`, следующим логичным шагом будет включить фундаментальные физические постоянные напрямую в наши вычисления.\n",
    "\n",
    "`astropy` упрощает этот шаг с помощью подпакета [`astropy.constants`](https://docs.astropy.org/en/stable/constants/), в котором представлена богатая коллекция физических и астрономических постоянных, каждая из которых приведена как величина с соответствующей ей единицей измерения.\n",
    "\n",
    "Постоянные в этом модуле не просто числа или объекты типа `Quantity`, они имеют специальный тип `astropy.constants.Constant`, что означает, что каждая постоянная включает в себя:\n",
    "- точное численное значение вместе с неопределенностью (определенное комитетом по сбору данных CODATA или МАС)\n",
    "- единицу измерения (совместимую с `astropy.units`),\n",
    "- описание,\n",
    "- поддержку бесшовной интеграции с остальными подпакетами `astropy`.\n",
    "\n",
    "Это обуславливает постоянство и научную строгость при использовании постоянных в выражениях и формулах внутри кода.\n",
    "\n",
    "### Преимущества в использовании `astropy.constants`\n",
    "\n",
    "- Аккуратность: все постоянные базируются на самых последних и надежных научных данных.\n",
    "- Встроенные единицы: каждая постоянная представлена вместе с единицей измерения, что позволяет без проблем её использовать вместе с другими размерными величинами.\n",
    "- Удобство: постоянные доступны по имени — больше не надо запоминать конкрентые численные значения или производить ручные преобразования величин.\n",
    "- Постоянство: постоянные не меняются от проекта к проекту, что позволяет научным группам избежать несовпадающих предположений об их значении.\n",
    "- Читаемость: код становится самодокументируемым, когда константы используются по их общепринятому имени.\n",
    "\n",
    "### Типы констант\n",
    "\n",
    "- **Фундаментальные физические постоянные**: гравитационная постоянная, постоянные Планка и Больцмана, скорость света, заряд электрона...\n",
    "- **Астрономические постоянные**: Солнечная масса, радиус и светимость; параметры главных планет; астрономическая единица, парсек, световой год...\n",
    "- **Производные постоянные излучения**: постоянная Вина, Ридберга, Стефана-Больцмана, томпсоновское сечение рассеяния...\n"
   ]
  },
  {
   "cell_type": "markdown",
   "id": "4b0fb9dc-baeb-4df1-9c35-7914a744c92b",
   "metadata": {},
   "source": [
    "# Постоянные в astropy (система СИ)\n",
    "\n",
    "## Физические постоянные\n",
    "\n",
    "| Обозначение | Описание                          | Значение                    | Единица измерения |\n",
    "|-------------|-----------------------------------|-----------------------------|-------------------|\n",
    "| `G`      | Гравитационная постоянная               | 6.67430e-11                   | м³ / (кг с²)     |\n",
    "| `c`      | Скорость света в вакууме             | 2.99792458e8                  | м / с            |\n",
    "| `h`      | Постоянная Планка                      | 6.62607015e-34                | Дж с              |\n",
    "| `hbar`      | Приведённая постоянная Планка              | 1.054571817e-34               | Дж с              |\n",
    "| `k_B`    | Постоянная Больцмана                   | 1.380649e-23                  | Дж / К            |\n",
    "| `sigma_sb`| Постоянная Стефана–Больцмана           | 5.670374419e-8                | Вт / (м² К⁴)      |\n",
    "| `R`      | Универсальная газовая постоянная                   | 8.314462618                   | Дж / (моль К)      |\n",
    "| `N_A`    | Число Авогадро                    | 6.02214076e23                 | 1 / моль          |\n",
    "| `e`      | Элементарный заряд                    | 1.602176634e-19               | Кл                |\n",
    "| `m_e`    | Масса электрона                        | 9.1093837015e-31              | кг               |\n",
    "| `m_p`    | Масса протона                          | 1.67262192369e-27             | кг               |\n",
    "| `m_n`    | Масса нейтрона                         | 1.67492749804e-27             | кг               |\n",
    "| `mu_B`   | Магнетон Бора                        | 9.2740100783e-24              | Дж / Тл            |\n",
    "| `mu_N`   | Ядерный магнетон                     | 5.0507837461e-27              | Дж / Тл            |\n",
    "| `alpha`  | Постоянная тонкой структуры              | 7.2973525693e-3               | безразмерная    |\n",
    "| `sigma_T`| Томсоновское сечение рассеяния     | 6.6524587321e-29              | м²               |\n",
    "| `eps0`   | Диэлектрическая проницаемость вакуума | 8.8541878128e-12           | Ф / м            |\n",
    "| `mu0`    | Магнитная проницаемость вакуума | 1.25663706212e-6          | Н / А²           |\n",
    "| `atm`    | Стандартная атмосфера                  | 101325                        | Па               |\n",
    "| `g0`     | Стандартное ускорение свободного падения                     | 9.80665                       | м / с²           |\n",
    "| `u`      | Атомная единица массы                     | 1.66053906660e-27             | кг               |\n",
    "| `Ryd`    | Постоянная Ридберга                     | 10973731.568160               | 1 / м            |\n",
    "| `a0`     | Боровский радиус                          | 5.29177210903e-11             | м                |\n",
    "| `b_wien` | Постоянная Вина | 2.897771955e-3                | м К              |\n",
    "\n",
    "## Астрономические постоянные\n",
    "\n",
    "| Обозначение | Описание                       | Значение                         | Единица измерения             |\n",
    "|-------------|-----------------------------------|-------------------------------|------------------|\n",
    "| `M_sun`    | Масса Солнца                        | 1.98847e30                    | кг               |\n",
    "| `R_sun`    | Радиус Солнца                      | 6.957e8                       | м                |\n",
    "| `L_sun`    | Светимость Солнца                  | 3.828e26                      | Вт                |\n",
    "| `M_earth`  | Масса Земли                        | 5.9722e24                     | кг               |\n",
    "| `R_earth`  | Радиус Земли (экваториальный)         | 6.3781e6                      | м                |\n",
    "| `R_jup`    | Радиус Юпитера                    | 7.1492e7                      | м                |\n",
    "| `au`       | Астрономическая единица                 | 1.495978707e11                | м                |\n",
    "| `pc`       | Парсек                            | 3.085677581e16                | м                |\n",
    "| `lyr`      | Световой год                        | 9.460730472e15                | м                |\n",
    "| `kpc`      | Килопарсек                        | 3.08567758e19                 | м                |\n",
    "| `GM_earth` | Гравитационный параметр Земли   | 3.986004e14                   | м³ / с²          |\n",
    "| `GM_jup`   | Гравитационный параметр Юпитера | 1.2668653e17                  | м³ / с²          |\n",
    "| `GM_sun`   | Гравитационный параметр Солнца     | 1.3271244e20                  | м³ / с²          |\n",
    "| `L_bol0`   | Светимость при $M_{bol} = 0^m$ | 3.0128e28                     | Вт                |"
   ]
  },
  {
   "cell_type": "code",
   "execution_count": 10,
   "id": "a63f07b3-3a6a-4c93-a5eb-3387e5a5c9f0",
   "metadata": {},
   "outputs": [
    {
     "name": "stdout",
     "output_type": "stream",
     "text": [
      "  Name   = Speed of light in vacuum\n",
      "  Value  = 299792458.0\n",
      "  Uncertainty  = 0.0\n",
      "  Unit  = m / s\n",
      "  Reference = CODATA 2018\n"
     ]
    }
   ],
   "source": [
    "from astropy.constants import c # импортировать можно непосредственно по обозначению\n",
    "print(c)"
   ]
  },
  {
   "cell_type": "code",
   "execution_count": 11,
   "id": "d06d7e7a-ba5c-419c-9e5f-3b738d888791",
   "metadata": {},
   "outputs": [
    {
     "name": "stdout",
     "output_type": "stream",
     "text": [
      "  Name   = Boltzmann constant\n",
      "  Value  = 1.380649e-23\n",
      "  Uncertainty  = 0.0\n",
      "  Unit  = J / K\n",
      "  Reference = CODATA 2018\n"
     ]
    }
   ],
   "source": [
    "from astropy import constants as const # или так\n",
    "print(const.k_B) "
   ]
  },
  {
   "cell_type": "code",
   "execution_count": 12,
   "id": "fbdc8370-0ff2-42a2-892b-22732ff1bf00",
   "metadata": {},
   "outputs": [
    {
     "name": "stdout",
     "output_type": "stream",
     "text": [
      "0.30660139378555057 pc / yr\n",
      "29979245800.0 cm / s\n"
     ]
    },
    {
     "data": {
      "text/latex": [
       "$\\displaystyle 2.9979246 \\times 10^{8} \\; \\mathrm{\\frac{m}{s}}$"
      ],
      "text/plain": [
       "<IPython.core.display.Math object>"
      ]
     },
     "metadata": {},
     "output_type": "display_data"
    }
   ],
   "source": [
    "print(c.to(u.pc/u.year)) # преобразовывать можно аналогично другим величинам\n",
    "print(const.c.cgs)\n",
    "\n",
    "from IPython.display import Math, display\n",
    "display(Math(f\"{c:latex}\")) # чучуть магии IPython"
   ]
  },
  {
   "cell_type": "markdown",
   "id": "5168cb30-395f-49e5-9752-456df7528fd4",
   "metadata": {},
   "source": [
    "## Пример: светимость коричневого карлика через закон Стефана-Больцмана\n",
    "\n",
    "В этом примере рассмотрим, как `astropy.units` и `astropy.constants` могут без проблем взаимодействовать друг с другом.\n",
    "\n",
    "Сосчитаем **полную энергетическую светимость** $L$ коричневого карлика через **закон Стефана-Больцмана**:\n",
    "\n",
    "$$\n",
    "L = 4\\pi R^2 \\sigma T^4,\n",
    "$$\n",
    "\n",
    "где\n",
    "- $R$ — **радиус**, который мы определим как 1.6 радиусов Юпитера,\n",
    "- $T$ — **эффективная температура**, которую мы положим равной 1800 К,\n",
    "- $\\sigma$ — **постоянная Стефана-Больцмана**, которую мы используем из `astropy.constants`.\n",
    "\n",
    "В этом примере показано:\n",
    "- Как использовать физические величины и постоянные в реальных выражениях,\n",
    "- Как величины автоматически преобразуются при математических операциях,\n",
    "- Как **сравнить результат** с другой постоянной, такой как светимость Солнца `L_sun`.\n",
    "\n",
    "Финальный ответ дан в **ваттах** и **доле от солнечной светимости**."
   ]
  },
  {
   "cell_type": "code",
   "execution_count": 13,
   "id": "c833afbf-56f2-45af-91bf-2bb27db44b46",
   "metadata": {},
   "outputs": [
    {
     "name": "stdout",
     "output_type": "stream",
     "text": [
      "Светимость в Вт: 9.787e+22 W\n",
      "Доля солнечной светимости: 0.0003\n"
     ]
    }
   ],
   "source": [
    "from astropy.constants import sigma_sb, L_sun, R_jup\n",
    "import numpy as np\n",
    "\n",
    "radius = 1.6 * R_jup\n",
    "temperature = 1800 * u.K\n",
    "\n",
    "luminosity = 4 * np.pi * radius**2 * sigma_sb * temperature**4 \n",
    "\n",
    "print(f\"Светимость в Вт: {luminosity:.3e}\")\n",
    "print(f\"Доля солнечной светимости: {(luminosity / L_sun):.4f}\")"
   ]
  },
  {
   "cell_type": "markdown",
   "id": "d0ef737a-840a-47be-8894-cd2853e090d1",
   "metadata": {},
   "source": [
    "### Упрощение единиц с помощью`.decompose()`\n",
    "\n",
    "Вызов метода `.decompose()` от объекта типа `Quantity` позволяет произвести упрощение размерных единиц, преобразовав их в основные в стандартной системе (по умолчанию СИ, можно указать и СГС). Обратите внимание, как `.decompose()` отличается от `.to()`.\n",
    "\n",
    "Использование этого метода полезно для:\n",
    "- Проверки **фундаментальной формы** единицы измерения величины;\n",
    "- Отладки сложных формул;\n",
    "- Сравнения двух величин с **по-разному выглядящими, но эквивалентными единицами измерения**."
   ]
  },
  {
   "cell_type": "code",
   "execution_count": 14,
   "id": "c4eea4e1-506e-48a4-8ecb-8cf19b62d2d1",
   "metadata": {},
   "outputs": [
    {
     "name": "stdout",
     "output_type": "stream",
     "text": [
      "5.666 deg\n",
      "0.09889035541799872 rad\n",
      "980.0 cm / s2\n",
      "9.8 m / s2\n",
      "5.0 J\n",
      "50000000.0 cm2 g / s2\n",
      "50.0 cm / m\n",
      "0.5\n"
     ]
    }
   ],
   "source": [
    "ra = 5.666 * u.deg\n",
    "print(ra)\n",
    "print(ra.decompose())\n",
    "\n",
    "g = 980 * u.cm / u.s**2\n",
    "print(g) \n",
    "print(g.decompose())  # в СИ\n",
    "\n",
    "q = 5 * u.J\n",
    "print(q) \n",
    "print(q.decompose(u.cgs.bases))  # в СГС\n",
    "\n",
    "x = 50 * u.cm / u.m # \"размерная\" величина\n",
    "print(x) \n",
    "print(x.decompose()) # в действительности она безразмерна"
   ]
  },
  {
   "cell_type": "markdown",
   "id": "6971e0be-6498-4319-9227-2860d7763a79",
   "metadata": {},
   "source": [
    "### Метод `.compose()` как способ возможной интепретации размерной единицы\n",
    "\n",
    "Метод `.compose()` позволяет записать единицу измерения в виде **известных стандартных комбинаций** из физических наук. Это даёт возможность изнутри кода понять **физический контекст** вычислений. \n",
    "\n",
    "Рассмотрим для примера обратную секунду $c^{-1}$, очень часто встречающуюся в разных контекстах (частоты, скорости распада, осцилляции). Хотя технически единица измерения $1/с$ самодостаточна, `.compose()` помогает раскрыть **физические смыслы**, которые за ней могут стоять:"
   ]
  },
  {
   "cell_type": "code",
   "execution_count": 15,
   "id": "e62e053f-f1b4-42da-98ca-dac0075bfa05",
   "metadata": {},
   "outputs": [
    {
     "name": "stdout",
     "output_type": "stream",
     "text": [
      "[Unit(\"Bq\"), Unit(\"Hz\"), Unit(\"2.7027e-11 Ci\")]\n"
     ]
    }
   ],
   "source": [
    "unit = u.s**-1\n",
    "alternative_units = unit.compose()\n",
    "print(alternative_units) # список возможных эквивалентных величин"
   ]
  },
  {
   "cell_type": "markdown",
   "id": "0b7f3cb1-7b44-4e98-861b-1987abc9e8d3",
   "metadata": {},
   "source": [
    "#### Что это нам говорит:\n",
    "\n",
    "- `Hz` (герц) используют для измерения частот - число циклов в секунду.\n",
    "- `Bq` (беккерель) используют для измерения радиоактивности — число распадов в секунду.\n",
    "- `Ci` (кюри), устаревшая величина, тоже используется для измерения радиоактивности (с масштабным фактором).\n",
    "\n",
    "Эти величины **размерно идентичны**, однако семантически отличаются — и `.compose()` позволяет их рассмотреть."
   ]
  },
  {
   "cell_type": "markdown",
   "id": "0bdc59d2-0e05-4c92-a263-c074a85c8ecc",
   "metadata": {},
   "source": [
    "## Взаимодействие `astropy.units` с массивами NumPy\n",
    "\n",
    "`astropy.units` позволяет без проблем создавать размерные массивы NumPy и пользоваться всеми прелестями векторизации.\n",
    "\n",
    "Объект `Quantity` позволяет привязать единицы измерения непосредственно к массивам. Это открывает возможность пользоваться всеми преимуществами преобразования единиц измерения для операций над числовыми структурами.\n",
    "\n",
    "### Применяем Стефана-Больцмана к массиву звезд\n",
    "\n",
    "В предыдущем примере мы подсчитывали светимость субзвезды на основе её радиуса и эффективной температуры с помощью закона Стефана-Больцмана. Давайте теперь применим этот закон для подсчета светимости целого массива звезд с различными температурами.\n",
    "\n",
    "Здесь показано, как:\n",
    "- Единицы измерения сохраняются при поэлементных операциях над массивами;\n",
    "- Можно использовать метод `.to()` для конвертирования целого массива;\n",
    "- Преобразования влеичин происходят автоматически, что уменьшает риск ошибок."
   ]
  },
  {
   "cell_type": "code",
   "execution_count": 16,
   "id": "b973dea1-8488-45f1-b89b-8a574f8a83ae",
   "metadata": {},
   "outputs": [
    {
     "data": {
      "text/latex": [
       "$[0.072975772,~0.082166883,~0.092200015,~0.10312509,~0.11499347,~0.12785794,~0.14177275,~0.15679356,~0.17297749,~0.19038307] \\; \\mathrm{L_{\\odot}}$"
      ],
      "text/plain": [
       "<Quantity [0.07297577, 0.08216688, 0.09220002, 0.10312509, 0.11499347,\n",
       "           0.12785794, 0.14177275, 0.15679356, 0.17297749, 0.19038307] solLum>"
      ]
     },
     "execution_count": 16,
     "metadata": {},
     "output_type": "execute_result"
    }
   ],
   "source": [
    "radii = 1 * u.R_sun         # радиусы звезд\n",
    "temperatures = np.linspace(3000, 30000, 300) * u.K # эффективные температуры\n",
    "luminosities = 4 * np.pi * radii**2 * const.sigma_sb * temperatures**4\n",
    "luminosities.to(u.L_sun)[:10] # преобразуем все величины и покажем 10 из них"
   ]
  },
  {
   "cell_type": "code",
   "execution_count": 17,
   "id": "0390760c-b2e5-46c3-bc88-e69be66e8c60",
   "metadata": {},
   "outputs": [
    {
     "data": {
      "text/latex": [
       "$6.2337076 \\times 10^{35} \\; \\mathrm{\\frac{erg}{s}}$"
      ],
      "text/plain": [
       "<Quantity 6.23370764e+35 erg / s>"
      ]
     },
     "execution_count": 17,
     "metadata": {},
     "output_type": "execute_result"
    }
   ],
   "source": [
    "np.mean(luminosities.to(u.erg / u.s)) # размерные величины передаются в методы NumPy без проблем"
   ]
  },
  {
   "cell_type": "markdown",
   "id": "bf028fb5-2a8e-4335-a1fa-c564601dad95",
   "metadata": {},
   "source": [
    "### Построение графиков с учетом размерных единиц через `quantity_support()`\n",
    "\n",
    "Визуализируем взаимосвязь между эффективной температурой и светимостью, не убирая единицы измерения.\n",
    "\n",
    "Для этого активируем метод `astropy.visualization.quantity_support()` — он позволяет библиотеке **matplotlib** понимать и показывать единицы измерения осей автоматически. Это означает, что массивы типа `Quantity` можно засовывать прямо в методы построения типа  `plt.plot()` без ручных преообразований."
   ]
  },
  {
   "cell_type": "code",
   "execution_count": 18,
   "id": "5d724e9d-939c-4852-a341-8085334dad95",
   "metadata": {},
   "outputs": [
    {
     "data": {
      "text/plain": [
       "[<matplotlib.lines.Line2D at 0x7f11214f39d0>]"
      ]
     },
     "execution_count": 18,
     "metadata": {},
     "output_type": "execute_result"
    },
    {
     "data": {
      "image/png": "[encoded data removed]",
      "text/plain": [
       "<Figure size 640x480 with 1 Axes>"
      ]
     },
     "metadata": {},
     "output_type": "display_data"
    }
   ],
   "source": [
    "from matplotlib import pyplot as plt\n",
    "from astropy.visualization import quantity_support\n",
    "quantity_support()\n",
    "\n",
    "plt.plot(temperatures,luminosities.to(u.L_sun))"
   ]
  },
  {
   "cell_type": "code",
   "execution_count": 19,
   "id": "93dec6fb-ab57-423f-b878-efc812b08045",
   "metadata": {},
   "outputs": [
    {
     "data": {
      "text/plain": [
       "[<matplotlib.lines.Line2D at 0x7f112135b750>]"
      ]
     },
     "execution_count": 19,
     "metadata": {},
     "output_type": "execute_result"
    },
    {
     "data": {
      "image/png": "[encoded data removed]",
      "text/plain": [
       "<Figure size 640x480 with 1 Axes>"
      ]
     },
     "metadata": {},
     "output_type": "display_data"
    }
   ],
   "source": [
    "plt.plot(temperatures,luminosities.to(u.W))"
   ]
  },
  {
   "cell_type": "markdown",
   "id": "6388f040-76ef-4d16-886b-3195ff734885",
   "metadata": {},
   "source": [
    "#### Что произошло:\n",
    "\n",
    "- Ось x температур (temperature) в кельвинах, считавшихся автоматически из массива `temperatures` типа `Quantity`.\n",
    "- Ось y светимостей показана и в светимостях Солнца, и в ваттах,\n",
    "- Единицы измерения показываются в качестве подписей к осям (`W`, `K` и $L_\\odot$).\n",
    "- График показывает резкий и нелинейный рост светимости с увеличением температуры, в согласии с законом Стефана-Больцмана."
   ]
  },
  {
   "cell_type": "markdown",
   "id": "9538b543-2bd2-4713-96a8-749721041efb",
   "metadata": {},
   "source": [
    "### Для дополнительного ознакомления\n",
    "\n",
    "- **Эквивалентности (Equivalencies)**  \n",
    "  Конвертирование между единицами, которые размерно не идентичны, но отличаются на известную физически связующую константу (частота ↔ длина волны ↔ энергия, температура ↔ энергия): <https://docs.astropy.org/en/stable/units/equivalencies.html>\n",
    "\n",
    "- **Форматирование**  \n",
    "  Форматированный вывод единиц измерения через LaTeX, Юникод, или текстовую репрезентацию: <https://docs.astropy.org/en/stable/units/format.html>\n",
    "\n",
    "- **Создание новых единиц**  \n",
    "  Определение узкоспециализированных единиц измерения для узкоспециализированных нужд: <https://docs.astropy.org/en/stable/units/combining_and_defining.html>"
   ]
  },
  {
   "cell_type": "markdown",
   "id": "4423eb82-6d51-43af-9e71-be5bcdebefc8",
   "metadata": {},
   "source": [
    "## Упражнение 1: Расстояние из параллаксов\n",
    "\n",
    "В этом упражнении используйте `astropy.units` для подсчета расстояний до звезд через их **измеренные параллаксы**. \n",
    "\n",
    "### Справка\n",
    "\n",
    "Звездный параллакс как явление — это видимое смещение положения звезды из-за орбитального движения Земли вокруг Солнца. Расстояние $d$ до звезды в **парсеках** обратно пропорционально её параллактическому углу $p$ (который для краткости тоже называют параллаксом) **в угловых секундах**:\n",
    "\n",
    "$$\n",
    "d = \\frac{1}{p}\n",
    "$$\n",
    "\n",
    "**Это размерная формула!** Это означает, что для разных размерностей она работает по-разному. Если параллактический угол дан в **миллисекундах дуги (мсд, mas)**, то формула дает расстояние в **килопарсеках**. Чтобы снова получить расстояние в парсеках:\n",
    "\n",
    "$$\n",
    "d = \\frac{1000}{p_{\\text{мсд}}}\n",
    "$$\n",
    "\n",
    "### Дано:\n",
    "\n",
    "| Звезда             | Параллакс [мсд]|\n",
    "|--------------------|----------------|\n",
    "| Проксима Центавра   | 768.5          |\n",
    "| Альфа Центавра А  | 747.1          |\n",
    "| Звезда Барнарда     | 548.3          |\n",
    "| Вульф 359           | 419.1          |\n",
    "| Лаланд 21185      | 392.6          |\n",
    "| Сириус A           | 379.2          |\n",
    "| Звезда Лейтена      | 264.0          |\n",
    "| Росс 154           | 336.0          |\n",
    "| Эпсилон Эридана   | 310.9          |\n",
    "| Лакайль 9352      | 304.2          |\n",
    "\n",
    "---\n",
    "\n",
    "### Задачи:\n",
    "\n",
    "1. Используя `u.mas`, создайте массив `parallaxes` типа `Quantity` из приведенных выше параллаксов звезд.\n",
    "2. Преобразуйте параллаксы в расстояния в **парсеках** и выведите их.\n",
    "3. Преобразуйте получившиеся расстояния в **световые года** и в **астрономические единицы**, используя метод `.to()` и соответствующие единицы измерения из `astropy.units`.\n",
    "4. Считая, что каждый параллакс измерен с абсолютной ошибкой 0.1 мсд, а относительные ошибки расстояния в парсеках равны относительным ошибкам параллаксов, посчитайте ошибку определения расстояния в **парсеках**, **световых годах** и **астрономических единицах**."
   ]
  },
  {
   "cell_type": "code",
   "execution_count": null,
   "id": "86a158d5-0cf5-4f5e-abaf-866c8c7d0641",
   "metadata": {},
   "outputs": [],
   "source": []
  },
  {
   "cell_type": "markdown",
   "id": "9eec6979-1281-4c55-bb8d-a34ffb2cbed3",
   "metadata": {},
   "source": [
    "## Упражнение 2: к другим звездам со скоростью Вояджера-1\n",
    "\n",
    "После подсчета расстояний до ближайших звезд, оцените, сколько времени потребуется космическому кораблю, летящему со скоростью Вояджера-1, чтобы пересечь эти расстояния.\n",
    "\n",
    "### Дано:\n",
    "\n",
    "- Расстояние $d$ для каждой звезды из предыдущего упражнения;\n",
    "- Скорость Вояджера-1:  \n",
    "  $$v = 17\\ \\text{км/с}.$$\n",
    "\n",
    "### Задачи\n",
    "\n",
    "1. Создайте величину скорости `v` с нужной размерностью.\n",
    "\n",
    "2. Сосчитайте время `t` для полета к каждой звезде.\n",
    "\n",
    "3. Выразите это время в\n",
    "   - **секундах**\n",
    "   - **сутках**\n",
    "   - **годах**\n",
    "   - **тысячелетиях**\n",
    "\n",
    "4. Сравните результаты с временем существования Человека Разумного как вида (около 0.3 мегалет) и возрастом человеческой цивилизации (около 12 килолет) "
   ]
  },
  {
   "cell_type": "markdown",
   "id": "7fe2ca8e-6fc8-47ab-aabb-8e444df9c765",
   "metadata": {},
   "source": [
    "## Упражнение 3: планковские величины перебором!\n",
    "\n",
    "Произведение фундаментальных физических постоянных $G$, $h$ и $с$ в различных степенях позволяет определить единицы времени, длины и массы, называемые планковскими. Но каких именно степенях?\n",
    "\n",
    "Можно решить эту задачу, поигравшись с размерностями, но давайте решим её перебором! Будем рассматривать только степени со знаменателем 2 и числителями от -6 до 6.\n",
    "\n",
    "### Дано:\n",
    "- Константы $G$, $h$ и $с$ из `astropy.constants`\n",
    "\n",
    "### Задачи:\n",
    "\n",
    "1. Из модуля `astropy.constants` в переменные `Gu`, `hu` и `cu` запишите только **единицу измерения** соответствующих констант.\n",
    "2. Создайте массив целых чисел `numerator` от -6 до 6 включительно.\n",
    "3. Пусть `i`, `j` и `k` - переменные-счетчики, пробегающие по массиву из задачи 2. С помощью вложенных циклов методом `.decompose()` проверьте, является ли `Gu ** (i / 2) * hu ** (j / 2) * cu ** (k / 2)` простой размерностью вида `s`, `kg` или `m`.  Выведите соответствующие степени для `G`, `h` и `с`, а также численное выражение этой величины, преобразуя численные значения констант."
   ]
  },
  {
   "cell_type": "code",
   "execution_count": null,
   "id": "175a0b28-eba7-4c3e-ae4e-a724026f703b",
   "metadata": {},
   "outputs": [],
   "source": []
  }
 ],
 "metadata": {
  "kernelspec": {
   "display_name": "Python 3 (ipykernel)",
   "language": "python",
   "name": "python3"
  },
  "language_info": {
   "codemirror_mode": {
    "name": "ipython",
    "version": 3
   },
   "file_extension": ".py",
   "mimetype": "text/x-python",
   "name": "python",
   "nbconvert_exporter": "python",
   "pygments_lexer": "ipython3",
   "version": "3.13.7"
  }
 },
 "nbformat": 4,
 "nbformat_minor": 5
}
