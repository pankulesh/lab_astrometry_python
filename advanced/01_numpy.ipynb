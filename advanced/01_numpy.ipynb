{
 "cells": [
  {
   "cell_type": "markdown",
   "id": "255609e6-ab54-4a8c-a03b-9b7c5aac6624",
   "metadata": {},
   "source": [
    "# NumPy: Работаем с численными данными эффективно\n",
    "\n",
    "Во время работы с астрономическими данными очень часто нужно взаимодействовать с большими наборами чисел - список звездных величин, матрица значений пикселей в ПЗС-кадре, массивы результатов симуляций, и др.\n",
    "\n",
    "Хотя встроенные в Python списки достаточно гибкие, они не очень эффективны для проделывания математических операций на больших объемах чисел. Тут как раз и приходит на помощь библиотека **NumPy** (произносится как *\"Нам-Пай\"*).\n",
    "\n",
    "NumPy - фундаментальная библиотека Python, предоставляющая основные инструменты для работы с численными массивами. С помощью неё численные расчеты становятся быстрыми и легкими для написания, в сравнении со стандартными списками Python и работой в циклах. Огромное множество других научных библиотек Python, вроде Pandas, Matplotlib или Astropy, построены с Numpy в своей основе.\n",
    "\n",
    "В этом ноутбуке рассмотрим ключевые понятия NumPy и продемонстрируем, как с помощью них обрабатывать астрономические данные более эффективно.\n",
    "\n",
    "**Задачи:**\n",
    "\n",
    "* Сравнить стандартные методы обработки массивов с методами NumPy.\n",
    "*   Изучить ключевой объект NumPy: `ndarray`.\n",
    "*   Создать массивы NumPy разными способами.\n",
    "*   Посмотреть на свойства массивов NumPy (форма, размер, тип данных).\n",
    "*   Выбрать и изменить часть массива с помощью индексации и срезов.\n",
    "*   Произвести базовые математические операции над целыми массивами.\n",
    "*   Использовать общепринятые функции NumPy для вычислений.\n",
    "*   Рассмотреть примеры использования NumPy в астрономии.\n",
    "\n",
    "**Ноутбук предполагает знания основного синтаксиса Python (переменные, типы данных, списки, циклы)**\n",
    "\n",
    "**Замечание**\n",
    "Запустите ячейку ниже по `SHIFT+ENTER` для установки нужных пакетов, если вы не уверены, что такие установлены. Если они уже есть, её можно пропустить."
   ]
  },
  {
   "cell_type": "code",
   "execution_count": 1,
   "id": "3f51a52a-18f6-430f-a424-34f3aa785110",
   "metadata": {},
   "outputs": [
    {
     "name": "stdout",
     "output_type": "stream",
     "text": [
      "Requirement already satisfied: numpy in /home/pan/.venvs/research/lib/python3.13/site-packages (2.3.2)\n",
      "Requirement already satisfied: pandas in /home/pan/.venvs/research/lib/python3.13/site-packages (2.3.0)\n",
      "Requirement already satisfied: matplotlib in /home/pan/.venvs/research/lib/python3.13/site-packages (3.10.3)\n",
      "Requirement already satisfied: python-dateutil>=2.8.2 in /home/pan/.venvs/research/lib/python3.13/site-packages (from pandas) (2.9.0.post0)\n",
      "Requirement already satisfied: pytz>=2020.1 in /home/pan/.venvs/research/lib/python3.13/site-packages (from pandas) (2025.2)\n",
      "Requirement already satisfied: tzdata>=2022.7 in /home/pan/.venvs/research/lib/python3.13/site-packages (from pandas) (2025.2)\n",
      "Requirement already satisfied: contourpy>=1.0.1 in /home/pan/.venvs/research/lib/python3.13/site-packages (from matplotlib) (1.3.2)\n",
      "Requirement already satisfied: cycler>=0.10 in /home/pan/.venvs/research/lib/python3.13/site-packages (from matplotlib) (0.12.1)\n",
      "Requirement already satisfied: fonttools>=4.22.0 in /home/pan/.venvs/research/lib/python3.13/site-packages (from matplotlib) (4.58.4)\n",
      "Requirement already satisfied: kiwisolver>=1.3.1 in /home/pan/.venvs/research/lib/python3.13/site-packages (from matplotlib) (1.4.8)\n",
      "Requirement already satisfied: packaging>=20.0 in /home/pan/.venvs/research/lib/python3.13/site-packages (from matplotlib) (25.0)\n",
      "Requirement already satisfied: pillow>=8 in /home/pan/.venvs/research/lib/python3.13/site-packages (from matplotlib) (11.2.1)\n",
      "Requirement already satisfied: pyparsing>=2.3.1 in /home/pan/.venvs/research/lib/python3.13/site-packages (from matplotlib) (3.2.3)\n",
      "Requirement already satisfied: six>=1.5 in /home/pan/.venvs/research/lib/python3.13/site-packages (from python-dateutil>=2.8.2->pandas) (1.17.0)\n"
     ]
    }
   ],
   "source": [
    "!pip install numpy pandas matplotlib"
   ]
  },
  {
   "cell_type": "markdown",
   "id": "c0c6d69f-9fca-4387-8c13-8b44c0721637",
   "metadata": {},
   "source": [
    "## Зачем Numpy?\n",
    "Пусть у нас есть набор звездных величин `star_brightnesses`. Сгенерируем большие данные с помощью библиотеки random:"
   ]
  },
  {
   "cell_type": "code",
   "execution_count": 2,
   "id": "4049914a-73c1-47a1-b52f-0cb39c818aea",
   "metadata": {},
   "outputs": [
    {
     "name": "stdout",
     "output_type": "stream",
     "text": [
      "12.104891328789904\n"
     ]
    }
   ],
   "source": [
    "from random import Random\n",
    "\n",
    "r = Random(\"42\") # задаем для генератора псевдослучайных чисел базовое значение (сид), чтобы результаты воспроизводились\n",
    "print(r.uniform(5, 20)) # проверка: для сида 42 \"случайное\" число из диапазона от 5 до 20 равно 12.104891328789904"
   ]
  },
  {
   "cell_type": "code",
   "execution_count": 3,
   "id": "08927677-9676-4da2-a69f-39777677c35c",
   "metadata": {},
   "outputs": [],
   "source": [
    "n = 10 ** 3\n",
    "star_brightnesses = [r.uniform(5, 20) for _ in range(n)] # создадим тысячу случайных значений звездных величин"
   ]
  },
  {
   "cell_type": "markdown",
   "id": "7deb8a90-980a-4389-97a0-29808f0fbdec",
   "metadata": {},
   "source": [
    "Положим, мы хотим пересчитать звездные величины в поток в единицах потока звезды с $m=0$ по формуле Погсона:\n",
    "$$\\frac{F}{F_0} = 10^{-0.4 m}$$\n",
    "Со списками это делается примерно так:"
   ]
  },
  {
   "cell_type": "code",
   "execution_count": 4,
   "id": "5cbe76fb-acea-4eb3-ac58-f0b1a129a78d",
   "metadata": {},
   "outputs": [],
   "source": [
    "# %%timeit -n 1 -r 10  # магическая функция для подсчета времени выполнения\n",
    "fluxes_list = []\n",
    "for brightness in star_brightnesses:\n",
    "    fluxes_list.append(10 ** (-0.4 * brightness ))"
   ]
  },
  {
   "cell_type": "code",
   "execution_count": 5,
   "id": "1d70e5cb-8337-48ed-8fd1-5a53dc24edee",
   "metadata": {},
   "outputs": [
    {
     "name": "stdout",
     "output_type": "stream",
     "text": [
      "Используем списки и цикл, первые 10 значений: 1.588e-06 2.052e-04 2.649e-08 2.336e-03 2.443e-06 8.620e-08 7.328e-04 1.751e-04 6.526e-04 1.120e-07\n"
     ]
    }
   ],
   "source": [
    "print(\"Используем списки и цикл, первые 10 значений:\", ' '.join(f\"{i:.3e}\" for i in fluxes_list[:10]))"
   ]
  },
  {
   "cell_type": "markdown",
   "id": "11ecf28b-ce60-492b-a472-1c4811e9264a",
   "metadata": {},
   "source": [
    "В принципе сработало, но вот для больших объемов данных обработка циклом может быть медленной. Попробуйте заменить показатель степени в n на 5-6 и посмотреть на время выполнения.\n",
    "\n",
    "Смотрим, как это делается в Numpy:"
   ]
  },
  {
   "cell_type": "code",
   "execution_count": 6,
   "id": "9f710176-c3b3-48f4-9a65-0587d8fd35c9",
   "metadata": {},
   "outputs": [],
   "source": [
    "import numpy as np # Стандартное сокращение для Numpy\n",
    "# Превращаем список в массив Numpy\n",
    "star_brightnesses_np = np.array(star_brightnesses)"
   ]
  },
  {
   "cell_type": "code",
   "execution_count": 7,
   "id": "9205ca70-27cc-4263-a0b4-d990fb088320",
   "metadata": {},
   "outputs": [],
   "source": [
    "# %%timeit -n 1 -r 5\n",
    "\n",
    "# Используем математическую операцию на всем массиве\n",
    "fluxes_np = 10 ** (-0.4 * star_brightnesses_np)"
   ]
  },
  {
   "cell_type": "code",
   "execution_count": 8,
   "id": "818c094d-7310-4676-b1d1-7cc806fbc5c6",
   "metadata": {},
   "outputs": [
    {
     "name": "stdout",
     "output_type": "stream",
     "text": [
      "Через NumPy: 1.588e-06 2.052e-04 2.649e-08 2.336e-03 2.443e-06 8.620e-08 7.328e-04 1.751e-04 6.526e-04 1.120e-07\n"
     ]
    }
   ],
   "source": [
    "print(\"Через NumPy:\", ' '.join(f\"{i:.3e}\" for i in fluxes_np[:10])) # проверим, что посчиталось то же самое"
   ]
  },
  {
   "cell_type": "markdown",
   "id": "0d355d2b-9b4a-47e5-b85d-362d390b64ed",
   "metadata": {},
   "source": [
    "Способность использовать целые массивы в качестве аргументов функций возможна благодаря `векторизации` всего массива, и это одна из причин, почему Numpy эффективен для таких вычислений.\n",
    "\n",
    "## `ndarray`: ключевой тип данных в NumPy\n",
    "\n",
    "`ndarray` (\"N-dimensional array\", N-мерный массив) это таблица значений одного типа данных. Можно представлять себе её в виде матрицы (2 измерения) или даже куба (три измерения) чисел.\n",
    "\n",
    "Массив `ndarray` является:\n",
    "*   **Однородным:** Все элементы массива должны быть одного типа данных (все целые, все типа числа с плавающей точкой). Это ключевое различие со списками обеспечивает массивам NumPy их эффективность.\n",
    "*   **N-мерным:** Может иметь любую размерность (1D для списка значений, 2D для таблица, 3D для куба изображения в разных полосах, и т.д.)\n",
    "\n",
    "### Пример 1: создание массивов"
   ]
  },
  {
   "cell_type": "code",
   "execution_count": 9,
   "id": "c22ca32d-4863-451b-b37f-875345a85da8",
   "metadata": {},
   "outputs": [
    {
     "name": "stdout",
     "output_type": "stream",
     "text": [
      "1D массив из списка: [ 2.5  1.8  0.1 -1.4]\n",
      "\n",
      "2D массив из списка списков:\n",
      "[[101.28 -16.71]\n",
      " [ 37.95  89.26]\n",
      " [219.9  -60.83]]\n"
     ]
    }
   ],
   "source": [
    "# 1. Из списка или кортежа Python::\n",
    "# 1-мерный массив\n",
    "star_magnitudes = [2.5, 1.8, 0.1, -1.4]\n",
    "magnitude_array = np.array(star_magnitudes)\n",
    "print(\"1D массив из списка:\", magnitude_array)\n",
    "\n",
    "# 2-мерный массив (таблица)\n",
    "# Представление [RA, Dec] для трех звезд\n",
    "star_data = [\n",
    "    [101.28, -16.71], # Сириус\n",
    "    [37.95, 89.26],   # Полярная\n",
    "    [219.90, -60.83] # Альфа Центавра\n",
    "]\n",
    "star_array_2d = np.array(star_data)\n",
    "print(\"\\n2D массив из списка списков:\")\n",
    "print(star_array_2d)"
   ]
  },
  {
   "cell_type": "code",
   "execution_count": 10,
   "id": "09fe321a-99b9-49ee-9710-19262af3c4d9",
   "metadata": {},
   "outputs": [
    {
     "name": "stdout",
     "output_type": "stream",
     "text": [
      "Массив нулей: [0. 0. 0. 0. 0.]\n",
      "\n",
      "Массив из единиц (2x3):\n",
      "[[1. 1. 1.]\n",
      " [1. 1. 1.]]\n",
      "\n",
      "Массив из np.arange(10): [0 1 2 3 4 5 6 7 8 9]\n",
      "\n",
      "Массив из linspace(0, 1, 5): [0.   0.25 0.5  0.75 1.  ]\n"
     ]
    }
   ],
   "source": [
    "# 2. Используя встроенные генераторы NumPy:\n",
    "# Массив из нулей (полезно для инициализации массива определенного размера)\n",
    "zeros_array = np.zeros(5) # массив из 5 нулей\n",
    "print(\"Массив нулей:\", zeros_array)\n",
    "\n",
    "# Массив единиц размерами 2x3\n",
    "ones_array = np.ones((2, 3)) # форма представлена кортежом (число строк, число столбцов)\n",
    "print(\"\\nМассив из единиц (2x3):\")\n",
    "print(ones_array)\n",
    "\n",
    "# Массив из последовательности целых чисел от 0 до 10 не включительно (аналог range)\n",
    "arange_array = np.arange(10)\n",
    "print(\"\\nМассив из np.arange(10):\", arange_array)\n",
    "\n",
    "# Массив из 5 расставленным равномерно значений между 0 и 1 (включительно)\n",
    "linspace_array = np.linspace(0, 1, 5)\n",
    "print(\"\\nМассив из linspace(0, 1, 5):\", linspace_array)"
   ]
  },
  {
   "cell_type": "markdown",
   "id": "db63e77e-abb9-47bd-a8ae-873c30835553",
   "metadata": {},
   "source": [
    "## Аттрибуты массива: что он знает про самого себя\n",
    "\n",
    "Массивы NumPy имеют несколько полезных аттрибутов, по которым можно узнать структуру и содержание массива.\n",
    "\n",
    "*   `.shape`: Кортеж из размеров каждого измерения (число строк, число столбцов, и т.д.)\n",
    "*   `.size`: Полное число элементов в массиве.\n",
    "*   `.ndim`: Размерность массива (то есть 1 для одномерного, 2 для двумерного и т.д.).\n",
    "*   `.dtype`: Тип данных, записанных в массив (например, `int64`, `float64`, число обозначает количество бит памяти, выделенное под каждое значение).\n",
    "\n",
    "### Пример 2: аттрибуты \n",
    "Используем массивы, похожие на использованные ранее:"
   ]
  },
  {
   "cell_type": "code",
   "execution_count": 11,
   "id": "22e0192c-55ae-44d0-b1da-7c1e7d7df539",
   "metadata": {},
   "outputs": [
    {
     "name": "stdout",
     "output_type": "stream",
     "text": [
      "--- Аттрибуты 1-мерного массива ---\n",
      "Представление массива: [ 3  2  0 -1]\n",
      "Форма: (4,)\n",
      "Мощность: 4\n",
      "Размерность: 1\n",
      "Тип данных: int64\n",
      "\n",
      "--- Аттрибуты 2-мерного массива ---\n",
      "Представление массива:\n",
      "[[101.28 -16.71]\n",
      " [ 37.95  89.26]\n",
      " [219.9  -60.83]]\n",
      "Форма: (3, 2)\n",
      "Мощность: 6\n",
      "Размерность: 2\n",
      "Тип данных: float64\n"
     ]
    }
   ],
   "source": [
    "magnitude_array = np.array([3, 2, 0, -1])\n",
    "star_array_2d = np.array([[101.28, -16.71], [37.95, 89.26], [219.90, -60.83]])\n",
    "\n",
    "print(\"--- Аттрибуты 1-мерного массива ---\")\n",
    "print(\"Представление массива:\", magnitude_array)\n",
    "print(\"Форма:\", magnitude_array.shape)\n",
    "print(\"Мощность:\", magnitude_array.size)\n",
    "print(\"Размерность:\", magnitude_array.ndim)\n",
    "print(\"Тип данных:\", magnitude_array.dtype)\n",
    "\n",
    "print(\"\\n--- Аттрибуты 2-мерного массива ---\")\n",
    "print(\"Представление массива:\")\n",
    "print(star_array_2d)\n",
    "print(\"Форма:\", star_array_2d.shape) # (3, 2) означает 3 строки, 2 столбца\n",
    "print(\"Мощность:\", star_array_2d.size)\n",
    "print(\"Размерность:\", star_array_2d.ndim)\n",
    "print(\"Тип данных:\", star_array_2d.dtype) # Обратите внимание, что тип данных назначается автоматически"
   ]
  },
  {
   "cell_type": "markdown",
   "id": "8f127e96-4ba0-4c25-b0ec-3602c66554b6",
   "metadata": {},
   "source": [
    "## Индексация и срезы\n",
    "\n",
    "Прямо как в списках, можно обращаться к отдельным элементам массива, используя индексацию и срезы с аналогичным синтаксисом.\n",
    "\n",
    "*   **Индексация:** Доступ к одному элементу, используя его положение (индекс). Помните, что индексация в Python начинается с нуля!\n",
    "*   **Срезы:** Доступ к диапазону значений.\n",
    "\n",
    "Для 2- и более мерных массивов вместо многократного написания квадратных скобочек можно использовать кортеж из индексов или срезов: `array[индекс_или_срез_по_строкам, индекс_или_срез_по_столбцам]`.\n",
    "\n",
    "### Пример 3"
   ]
  },
  {
   "cell_type": "code",
   "execution_count": 12,
   "id": "c20d202c-30f6-4ea2-91ee-cd7eb64c40c8",
   "metadata": {},
   "outputs": [
    {
     "name": "stdout",
     "output_type": "stream",
     "text": [
      "Исходный массив:\n",
      "[[ 1.0128e+02 -1.6710e+01  3.8000e-01]\n",
      " [ 3.7950e+01  8.9260e+01  7.0000e-03]\n",
      " [ 2.1990e+02 -6.0830e+01  7.6900e-01]]\n",
      "\n",
      "--- Индексация ---\n",
      "Склонение Полярной: 89.26\n"
     ]
    }
   ],
   "source": [
    "# добавим к звездам их параллаксы в угловых секундах, чтобы сделать таблицу 3x3\n",
    "star_data = np.array([\n",
    "    [101.28, -16.71, 0.380], # Строка 0 (Сириус)\n",
    "    [37.95, 89.26, 0.007],   # Строка 1 (Полярная)\n",
    "    [219.90, -60.83, 0.769]  # Строка 2 (Альфа Центавра)\n",
    "])\n",
    "print(\"Исходный массив:\")\n",
    "print(star_data)\n",
    "\n",
    "print(\"\\n--- Индексация ---\")\n",
    "# Обратимся к значению в строке 1, столбце 1 (склонение Полярной)\n",
    "polaris_dec = star_data[1, 1]\n",
    "print(\"Склонение Полярной:\", polaris_dec)"
   ]
  },
  {
   "cell_type": "code",
   "execution_count": 13,
   "id": "18c976ea-1d4a-4bff-bd9c-8424918c711d",
   "metadata": {},
   "outputs": [
    {
     "name": "stdout",
     "output_type": "stream",
     "text": [
      "Прямое восхождение Сириуса: 101.28\n",
      "\n",
      "Данные Альфы Центавра (строка 2): [219.9   -60.83    0.769]\n",
      "Склонения всех звезд (столбец 1): [-16.71  89.26 -60.83]\n",
      "\n",
      "--- Срезы ---\n",
      "Первые две строчки:\n",
      "[[ 1.0128e+02 -1.6710e+01  3.8000e-01]\n",
      " [ 3.7950e+01  8.9260e+01  7.0000e-03]]\n"
     ]
    }
   ],
   "source": [
    "# Обратимся к значению в строке 0, столбце 0 (ПВ Сириуса)\n",
    "sirius_ra = star_data[0, 0]\n",
    "print(\"Прямое восхождение Сириуса:\", sirius_ra)\n",
    "\n",
    "# Обратимся ко всей строке (Строка 2 - Данные Альфы Центавра)\n",
    "proxima_row = star_data[2, :] # ':' в качестве индекса означает \"всё по этой размерности\"\n",
    "print(\"\\nДанные Альфы Центавра (строка 2):\", proxima_row)\n",
    "\n",
    "# Обратимся ко всему столбцу (Столбец 1 - склонения всех звезд)\n",
    "declination_column = star_data[:, 1]\n",
    "print(\"Склонения всех звезд (столбец 1):\", declination_column)\n",
    "\n",
    "\n",
    "print(\"\\n--- Срезы ---\")\n",
    "# Вытащим первые две строчки\n",
    "first_two_rows = star_data[0:2, :] # От строчки 0 до строчки 2 не включительно\n",
    "print(\"Первые две строчки:\")\n",
    "print(first_two_rows)"
   ]
  },
  {
   "cell_type": "code",
   "execution_count": 14,
   "id": "8ff50657-d115-4a9b-8086-0bac1707eb9a",
   "metadata": {},
   "outputs": [
    {
     "name": "stdout",
     "output_type": "stream",
     "text": [
      "Склонение и параллаксы:\n",
      "[[-1.671e+01  3.800e-01]\n",
      " [ 8.926e+01  7.000e-03]\n",
      " [-6.083e+01  7.690e-01]]\n",
      "α и δ для первых двух звезд:\n",
      "[[101.28 -16.71]\n",
      " [ 37.95  89.26]]\n"
     ]
    }
   ],
   "source": [
    "# Получим 1 и 2 колонки (склонение и параллаксы у всех звезд)\n",
    "dec_mag_columns = star_data[:, 1:3]\n",
    "print(\"Склонение и параллаксы:\")\n",
    "print(dec_mag_columns)\n",
    "\n",
    "# Получим прямое восхождение и склонение только для двух звезд:\n",
    "first_two_stars_ra_dec = star_data[0:2, 0:2]\n",
    "print(\"α и δ для первых двух звезд:\")\n",
    "print(first_two_stars_ra_dec)"
   ]
  },
  {
   "cell_type": "code",
   "execution_count": 15,
   "id": "e54b3972-4698-4716-a4b0-11d949df2c55",
   "metadata": {},
   "outputs": [
    {
     "name": "stdout",
     "output_type": "stream",
     "text": [
      "Массив после обновления параллакса Полярной:\n",
      "[[ 1.0128e+02 -1.6710e+01  3.8000e-01]\n",
      " [ 3.7950e+01  8.9260e+01  3.0000e-03]\n",
      " [ 2.1990e+02 -6.0830e+01  7.6900e-01]]\n"
     ]
    }
   ],
   "source": [
    "# Видоизменение элементов тоже можно делать по индексу\n",
    "star_data[1, 2] = 0.003 # Изменим параллакс Полярной\n",
    "print(\"Массив после обновления параллакса Полярной:\")\n",
    "print(star_data)"
   ]
  },
  {
   "cell_type": "markdown",
   "id": "e7b80672-b592-4efc-af63-04a91cbd26a8",
   "metadata": {},
   "source": [
    "## Базовые операции над массивами\n",
    "\n",
    "Вы уже увидели, что NumPy может проводить математические операции над всем массивом целиком. Каждая операция применяется поэлементно, либо же используется преобразование одного типа к другому, как в случае с умножением на одно число.\n",
    "\n",
    "### Пример 4: арифметика массивов"
   ]
  },
  {
   "cell_type": "code",
   "execution_count": 16,
   "id": "e955e06a-42f6-43f6-bf78-441cd3a3cd31",
   "metadata": {},
   "outputs": [
    {
     "name": "stdout",
     "output_type": "stream",
     "text": [
      "Смещенный массив: [ 2.6  1.9  0.2 -1.3]\n",
      "Смещенный массив в другую сторону: [ 2.4  1.7  0.  -1.5]\n"
     ]
    }
   ],
   "source": [
    "magnitudes = np.array([2.5, 1.8, 0.1, -1.4])\n",
    "offsets = np.array([0.1, 0.1, 0.1, 0.1]) # массивы одного размера\n",
    "\n",
    "# Сложение\n",
    "shifted_magnitudes = magnitudes + offsets\n",
    "print(\"Смещенный массив:\", shifted_magnitudes)\n",
    "\n",
    "# Вычитание массивов\n",
    "subtracted_values = magnitudes - offsets\n",
    "print(\"Смещенный массив в другую сторону:\", subtracted_values)"
   ]
  },
  {
   "cell_type": "code",
   "execution_count": 17,
   "id": "ba512f2c-409d-4995-a6aa-f6c0c7cb265e",
   "metadata": {},
   "outputs": [
    {
     "name": "stdout",
     "output_type": "stream",
     "text": [
      "Величины * 2: [ 5.   3.6  0.2 -2.8]\n",
      "Величины / 4: [ 0.625  0.45   0.025 -0.35 ]\n",
      "Относительные потоки: [0.1        0.19054607 0.91201084 3.63078055]\n"
     ]
    }
   ],
   "source": [
    "# Умножение\n",
    "doubled_magnitudes = magnitudes * 2\n",
    "print(\"Величины * 2:\", doubled_magnitudes)\n",
    "\n",
    "# Деление\n",
    "divided_magnitudes = magnitudes / 4.0\n",
    "print(\"Величины / 4:\", divided_magnitudes)\n",
    "\n",
    "# Возведение в степень\n",
    "relative_fluxes = 10**(-0.4 * magnitudes)\n",
    "print(\"Относительные потоки:\", relative_fluxes)"
   ]
  },
  {
   "cell_type": "markdown",
   "id": "5ae85296-eaf8-41b2-ac20-2f004e3ceca1",
   "metadata": {},
   "source": [
    "### Пример 5: сравнение массивов"
   ]
  },
  {
   "cell_type": "code",
   "execution_count": 18,
   "id": "562d5b87-69e2-43ae-97de-031ab864e0bd",
   "metadata": {},
   "outputs": [
    {
     "name": "stdout",
     "output_type": "stream",
     "text": [
      "Величина < 1.0? [False False  True  True False  True]\n"
     ]
    }
   ],
   "source": [
    "magnitudes = np.array([2.5, 1.8, 0.1, -1.4, 3.0, 0.5])\n",
    "\n",
    "# Найдем звезды ярче 1.0 величин\n",
    "is_brighter_than_1 = magnitudes < 1.0\n",
    "print(\"Величина < 1.0?\", is_brighter_than_1) # вернет массив-маску из булевых значений"
   ]
  },
  {
   "cell_type": "code",
   "execution_count": 19,
   "id": "e3792efa-6b2e-4260-b78d-679f2a26e33d",
   "metadata": {},
   "outputs": [
    {
     "name": "stdout",
     "output_type": "stream",
     "text": [
      "Величины меньше первой: [ 0.1 -1.4  0.5]\n"
     ]
    }
   ],
   "source": [
    "# Массив-маску можно использовать для того, чтобы выделить только необходимые значения\n",
    "bright_stars = magnitudes[is_brighter_than_1]\n",
    "print(\"Величины меньше первой:\", bright_stars)"
   ]
  },
  {
   "cell_type": "code",
   "execution_count": 20,
   "id": "2aff0ab3-cbe2-4be3-baec-ccdb6a054fa2",
   "metadata": {},
   "outputs": [
    {
     "name": "stdout",
     "output_type": "stream",
     "text": [
      "\n",
      "Какие элементы имеют величину между 0 и 2? [False  True  True False False  True]\n",
      "Величины между 0 и 2: [1.8 0.1 0.5]\n"
     ]
    }
   ],
   "source": [
    "# Найдем звезды с величинами больше 0 И меньше 2\n",
    "# Для каждого сравнения не забываем про скобки\n",
    "is_between_0_and_2 = (magnitudes > 0) & (magnitudes < 2) # Используем '&' для поэлементного and\n",
    "print(\"\\nКакие элементы имеют величину между 0 и 2?\", is_between_0_and_2)\n",
    "print(\"Величины между 0 и 2:\", magnitudes[is_between_0_and_2])"
   ]
  },
  {
   "cell_type": "markdown",
   "id": "848c0947-a482-4359-84f2-9ecb09fbcf99",
   "metadata": {},
   "source": [
    "### Пример 6: функции NumPy\n",
    "\n",
    "Большая часть функций копирует таковые из стандартной библиотеки и модуля `math`, поэтому импортировать его не обязательно при использовании NumPy:"
   ]
  },
  {
   "cell_type": "code",
   "execution_count": 21,
   "id": "78edb7a3-415d-4414-a0cb-3ab7c7a6f4c9",
   "metadata": {},
   "outputs": [
    {
     "name": "stdout",
     "output_type": "stream",
     "text": [
      "Полная масса: 5.4 M☉\n",
      "Средняя масса: 1.08 M☉\n"
     ]
    }
   ],
   "source": [
    "stellar_masses = np.array([0.8, 1.2, 0.5, 2.0, 0.9]) # массы набора звезд в солнечных массах\n",
    "\n",
    "# Sum: подсчитаем полную массу звезд в массиве\n",
    "total_mass = np.sum(stellar_masses)\n",
    "print(f\"Полная масса: {total_mass} M☉\")\n",
    "\n",
    "# Mean: подсчитаем среднюю массу звезд\n",
    "average_mass = np.mean(stellar_masses)\n",
    "print(f\"Средняя масса: {average_mass} M☉\")"
   ]
  },
  {
   "cell_type": "code",
   "execution_count": 22,
   "id": "d178bd20-be50-4d89-ab47-cac0bc389855",
   "metadata": {},
   "outputs": [
    {
     "name": "stdout",
     "output_type": "stream",
     "text": [
      "Все массы находятся в диапазоне [0.5, 2.0] M☉]\n"
     ]
    }
   ],
   "source": [
    "# Max и min: найти наибольший и наименьший элемент\n",
    "max_mass = np.max(stellar_masses)\n",
    "min_mass = np.min(stellar_masses)\n",
    "print(f\"Все массы находятся в диапазоне [{min_mass}, {max_mass}] M☉]\")"
   ]
  },
  {
   "cell_type": "code",
   "execution_count": 23,
   "id": "2292405b-e1ca-4291-9a7a-653541a8b25d",
   "metadata": {},
   "outputs": [
    {
     "name": "stdout",
     "output_type": "stream",
     "text": [
      "Орбитальные фазы (радианы): [0.         1.57079633 3.14159265 4.71238898 6.28318531]\n",
      "Орбитальные фазы (градусы): [  0.  90. 180. 270. 360.]\n",
      "Косинус фазы: [ 1.0000000e+00  6.1232340e-17 -1.0000000e+00 -1.8369702e-16\n",
      "  1.0000000e+00]\n",
      "Синус фазы: [ 0.0000000e+00  1.0000000e+00  1.2246468e-16 -1.0000000e+00\n",
      " -2.4492936e-16]\n"
     ]
    }
   ],
   "source": [
    "# Тригонометрия и преобразование углов:\n",
    "orbital_phases_radians = np.array([0, np.pi/2, np.pi, 3*np.pi/2, 2*np.pi]) # углы в радианах\n",
    "print(\"Орбитальные фазы (радианы):\", orbital_phases_radians)\n",
    "orbital_phases_degrees = np.degrees(orbital_phases_radians)\n",
    "print(\"Орбитальные фазы (градусы):\", orbital_phases_degrees)\n",
    "print(\"Косинус фазы:\", np.cos(orbital_phases_radians)) # Поэлементный косинус\n",
    "print(\"Синус фазы:\", np.sin(orbital_phases_radians))   # Поэлементный синус"
   ]
  },
  {
   "cell_type": "markdown",
   "id": "30e08627-1534-4830-bfc5-403a250f71b2",
   "metadata": {},
   "source": [
    "## Сохранение и загрузка массивов\n",
    "\n",
    "Периодически большие массивы данных требуется записать в файл. Можно поступить двумя способами:\n",
    "\n",
    "1.  **Сохранить массив в бинарный формат NumPy (`.npy`):** эффективно, быстро, занимает мало места, сохраняет тип данных и форму массива, однако, простым блокнотом такой файл не прочитать.\n",
    "2.  **Сохранить массив в виде текстового файла (`.txt`, `.csv`, и проч.):** единственный плюс - универсальность и возможность прочтения человеком как текстовую таблицу со значениями, разделенными пробелами или запятыми. Однако, специфическая информация Numpy (например, тип данных) может теряться.\n",
    "\n",
    "Посмотрим на примеры использования `np.save()`, `np.load()`, `np.savetxt()`, и `np.loadtxt()`.\n",
    "\n",
    "### Пример 7: сохранение и загрузка массивов в формате `.npy`\n",
    "Пусть имеется массив расстояний до звезд в световых годах:"
   ]
  },
  {
   "cell_type": "code",
   "execution_count": 24,
   "id": "474adabd-3d4e-4716-9174-94421832afc5",
   "metadata": {},
   "outputs": [],
   "source": [
    "star_distances_ly = np.array([4.37, 8.60, 10.0, 14.5, 36.0])"
   ]
  },
  {
   "cell_type": "markdown",
   "id": "fff2f702-75b1-4839-8c79-9353d020dae6",
   "metadata": {},
   "source": [
    "### Сохранение в `.npy`\n",
    "`np.save()` принимает в качестве аргументов имя файла (без `.npy`, оно добавляется автоматически) и название переменной-массива для сохранения:"
   ]
  },
  {
   "cell_type": "code",
   "execution_count": 25,
   "id": "9b1806a9-c8ec-47b4-9cea-21ab0a14d911",
   "metadata": {},
   "outputs": [
    {
     "name": "stdout",
     "output_type": "stream",
     "text": [
      "Массив сохранен в 'my_star_distances.npy'\n"
     ]
    }
   ],
   "source": [
    "np.save(\"my_star_distances\", star_distances_ly) # эта строчка создаст файл \"my_star_distances.npy\"\n",
    "print(\"Массив сохранен в 'my_star_distances.npy'\")"
   ]
  },
  {
   "cell_type": "markdown",
   "id": "36a56460-719c-4124-af11-ac911aca2cbe",
   "metadata": {},
   "source": [
    "### Загрузка из `.npy`\n",
    "`np.load()` принимает в качестве аргумента название файла (вместе с `.npy`):"
   ]
  },
  {
   "cell_type": "code",
   "execution_count": 26,
   "id": "72781894-3be1-42fb-aafa-fc260683b433",
   "metadata": {},
   "outputs": [
    {
     "name": "stdout",
     "output_type": "stream",
     "text": [
      "Массив загружен из 'my_star_distances.npy':\n",
      "[ 4.37  8.6  10.   14.5  36.  ]\n"
     ]
    }
   ],
   "source": [
    "loaded_distances = np.load(\"my_star_distances.npy\")\n",
    "print(\"Массив загружен из 'my_star_distances.npy':\")\n",
    "print(loaded_distances)"
   ]
  },
  {
   "cell_type": "code",
   "execution_count": 27,
   "id": "01f898bd-967e-4231-87b0-9bceb428f128",
   "metadata": {},
   "outputs": [
    {
     "name": "stdout",
     "output_type": "stream",
     "text": [
      "Тип загруженных данных: <class 'numpy.ndarray'>\n",
      "Равны ли оригинал и загруженный из файла массивы? True\n"
     ]
    }
   ],
   "source": [
    "# Проверим, что массивы действительно одинаковые:\n",
    "print(\"Тип загруженных данных:\", type(loaded_distances))\n",
    "print(\"Равны ли оригинал и загруженный из файла массивы?\", np.array_equal(star_distances_ly, loaded_distances))"
   ]
  },
  {
   "cell_type": "markdown",
   "id": "bb10ee79-9b00-452d-8fc4-e24f2d9fcac8",
   "metadata": {},
   "source": [
    "### Пример 8: сохранение и загрузка в текстовый файл (.txt или .csv)\n",
    "\n",
    "Пусть у нас есть данные нескольких планет: `[Масса (в земных массах), Радиус (в земных радиусах), Орбитальный период (в днях)]`"
   ]
  },
  {
   "cell_type": "code",
   "execution_count": 28,
   "id": "016fe641-1569-40d8-ae08-9dd4cab62a29",
   "metadata": {},
   "outputs": [
    {
     "name": "stdout",
     "output_type": "stream",
     "text": [
      "Данные для сохранения:\n",
      "[[1.0000e+00 1.0000e+00 3.6525e+02]\n",
      " [1.1000e-01 5.3000e-01 6.8700e+02]\n",
      " [3.1780e+02 1.1200e+01 4.3310e+03]]\n"
     ]
    }
   ],
   "source": [
    "exoplanet_table = np.array([\n",
    "    [1.0, 1.0, 365.25],   # Земля\n",
    "    [0.11, 0.53, 687.0],  # Марс\n",
    "    [317.8, 11.2, 4331.0] # Юпитер\n",
    "])\n",
    "print(\"Данные для сохранения:\")\n",
    "print(exoplanet_table)"
   ]
  },
  {
   "cell_type": "markdown",
   "id": "9ddeea5f-1fd0-4dbb-a7d8-936b59fcff79",
   "metadata": {},
   "source": [
    "### Сохранение в текстовый файл\n",
    "`np.savetxt()` используется для текстового формата.\n",
    "\n",
    "В качестве аргументов указывается имя файла, название массива, и опциональные аргументы (например, 'delimiter' задает символ-разделитель):"
   ]
  },
  {
   "cell_type": "code",
   "execution_count": 29,
   "id": "c3b786ea-b284-4df7-8b51-f0fe656ba3b7",
   "metadata": {},
   "outputs": [
    {
     "name": "stdout",
     "output_type": "stream",
     "text": [
      "Массив сохранен в 'exoplanet_data.csv'\n"
     ]
    }
   ],
   "source": [
    "np.savetxt(\"exoplanet_data.csv\", exoplanet_table, delimiter=\",\") # в качестве разделителя используем запятую\n",
    "print(\"Массив сохранен в 'exoplanet_data.csv'\")"
   ]
  },
  {
   "cell_type": "markdown",
   "id": "3c10fdbe-b931-44de-afe9-c46bbbec3f54",
   "metadata": {},
   "source": [
    "### Загрузка из текстового файла\n",
    "`np.loadtxt()` - функция загрузки из текстового файла.\n",
    "\n",
    "В качестве аргумента - имя файла, и опциональные аргументы, типа 'delimiter':"
   ]
  },
  {
   "cell_type": "code",
   "execution_count": 30,
   "id": "28e30fe4-1b31-416c-be06-85eb00ce222d",
   "metadata": {},
   "outputs": [
    {
     "name": "stdout",
     "output_type": "stream",
     "text": [
      "Загружено из 'exoplanet_data.csv':\n",
      "[[1.0000e+00 1.0000e+00 3.6525e+02]\n",
      " [1.1000e-01 5.3000e-01 6.8700e+02]\n",
      " [3.1780e+02 1.1200e+01 4.3310e+03]]\n",
      "Тип загруженных данных: <class 'numpy.ndarray'>\n",
      "Равны ли оригинал и загруженный из файла массивы? True\n"
     ]
    }
   ],
   "source": [
    "loaded_exoplanet_data = np.loadtxt(\"exoplanet_data.csv\", delimiter=\",\")\n",
    "print(\"Загружено из 'exoplanet_data.csv':\")\n",
    "print(loaded_exoplanet_data)\n",
    "\n",
    "# Проверим, что загрузилось то же самое:\n",
    "print(\"Тип загруженных данных:\", type(loaded_exoplanet_data))\n",
    "print(\"Равны ли оригинал и загруженный из файла массивы?\", np.array_equal(exoplanet_table, loaded_exoplanet_data))\n",
    "\n",
    "# Можно открыть 'exoplanet_data.csv' в любом текстовом редакторе или даже отсюда, из Jupyter, чтобы убедиться в его читабельности"
   ]
  },
  {
   "cell_type": "markdown",
   "id": "5e322e23-1687-4b45-a334-4a834619fe0b",
   "metadata": {},
   "source": [
    "### Пример 9: Загрузка текстового файла с заголовком/комментариями\n",
    "\n",
    "Часто, в текстовом файле помимо данных есть заголовок или комментарии с пояснениями. Можно воспользоваться функцией `np.genfromtxt()` и её параметрами, чтобы их пропустить.\n",
    "\n",
    "Пусть у нас есть файл 'star_observations.txt':\n",
    "\n",
    "```code\n",
    "# Observation Data - 2023-10-27\n",
    "# Star Name, Flux, Error\n",
    "  Alpha, 123.45, 1.2\n",
    "  Beta, 56.78, 0.8\n",
    "  Gamma, 234.56, 2.1\n",
    "```\n"
   ]
  },
  {
   "cell_type": "code",
   "execution_count": 31,
   "id": "b108f3fc-5b54-46b0-8054-79311d9cccaa",
   "metadata": {},
   "outputs": [],
   "source": [
    "# Создадим файл с таким наполнением:\n",
    "file_content = \"\"\"# Observation Data - 2023-10-27\n",
    "# Star Name, Flux, Error\n",
    "Alpha, 123.45, 1.2\n",
    "Beta, 56.78, 0.8\n",
    "Gamma, 234.56, 2.1\n",
    "\"\"\""
   ]
  },
  {
   "cell_type": "code",
   "execution_count": 32,
   "id": "781be64f-55c6-4ba3-b1f5-6238d795ab2f",
   "metadata": {},
   "outputs": [
    {
     "name": "stdout",
     "output_type": "stream",
     "text": [
      "Создан файл 'star_observations.txt'\n"
     ]
    }
   ],
   "source": [
    "with open(\"star_observations.txt\", \"w\") as f:\n",
    "    f.write(file_content)\n",
    "print(\"Создан файл 'star_observations.txt'\")"
   ]
  },
  {
   "cell_type": "code",
   "execution_count": 33,
   "id": "aad09009-6a16-45ac-b6f6-0d9ea5c0ce11",
   "metadata": {},
   "outputs": [
    {
     "name": "stdout",
     "output_type": "stream",
     "text": [
      "\n",
      "Загружены данные 'star_observations.txt' (первые 2 строки пропущены):\n",
      "[('Alpha', 123.45, 1.2) ('Beta',  56.78, 0.8) ('Gamma', 234.56, 2.1)]\n"
     ]
    }
   ],
   "source": [
    "# --- Загружаем данные, пропуская заголовок---\n",
    "# используем skip_header\n",
    "loaded_obs_data = np.genfromtxt(\n",
    "    \"star_observations.txt\", \n",
    "    delimiter=\",\", \n",
    "    skip_header=2,       # same effect as skiprows\n",
    "    dtype=None # чтобы считались и строки в том числе\n",
    ")\n",
    "print(\"\\nЗагружены данные 'star_observations.txt' (первые 2 строки пропущены):\")\n",
    "print(loaded_obs_data)\n",
    "\n",
    "# Замечание: loadtxt лучше использовать для чисто численных массивов. Для массивов с текстом лучше воспользоваться\n",
    "# pandas read_csv (который использует внутри себя тот же NumPy)"
   ]
  },
  {
   "cell_type": "markdown",
   "id": "bb903d7f-ff17-4898-9814-3b258e7a141c",
   "metadata": {},
   "source": [
    "**Дополнительные ссылки**\n",
    "\n",
    "Документация Numpy: <https://numpy.org/doc/stable/user/index.html>\n",
    "\n",
    "Краткое введение в Numpy: <https://numpy.org/doc/stable/user/absolute_beginners.html>\n",
    "\n",
    "Яндекс-учебник: <https://education.yandex.ru/handbook/python/article/moduli-math-i-numpy>"
   ]
  },
  {
   "cell_type": "markdown",
   "id": "9938ae33-8c69-48a6-aaa4-d3472e0763b5",
   "metadata": {},
   "source": [
    "## Упражнения\n",
    "\n",
    "1. Создайте одномерный массив NumPy `planet_radii` с примерными радиусами планет земной группы в земных радиусах: `[0.38, 0.95, 1.0, 0.53]`.\n",
    "2. Выведите `.shape`, `.size`, и `.ndim` для `planet_radii`.\n",
    "3. Создайте новый массив `planet_diameters` умножением `planet_radii` на 2. Выведите массив `planet_diameters`.\n",
    "4. Используя `planet_radii` создайте массив-маску из булевых значений, где `True` будет на тех индексах, где значение радиуса меньше 0.6 от земного. Используйте эту маску для вывода этих значений.\n",
    "5. Выведите среднее значение радиуса из `planet_radii` встроенной в NumPy функцией.\n",
    "6. Создайте двумерный массив NumPy `star_distances` размерами (50, 2). Заполните с помощью `np.random.uniform(0, 100, 50)` случайными числами, равномерно распределенными от 0 до 100, первую строку в этом массиве - пусть это будут расстояния до звезд в парсеках. Заполните вторую строку расстояниями до этих звезд в световых годах.\n",
    "7. Из `star_distances` выведите 10 центральных значений расстояний в световых годах с помощью срезов.\n",
    "8. Выведите наибольшее расстояние в парсеках из `star_distances`.\n",
    "9. Сохраните `star_distance` в бинарном формате в файл `star_distances.npy`, и в текстовом с разделителем-запятой в файл `star_distance.csv`.\n",
    "10. Загрузите содержимое файлов `star_distances.npy` и `star_distance.csv` в разные переменные-массивы. Найдите разницу между этими массивами и убедитесь, что она равна нулю."
   ]
  },
  {
   "cell_type": "code",
   "execution_count": null,
   "id": "186f21df-4b33-46da-acca-bd3cb6abb49b",
   "metadata": {},
   "outputs": [],
   "source": []
  }
 ],
 "metadata": {
  "kernelspec": {
   "display_name": "Python 3 (ipykernel)",
   "language": "python",
   "name": "python3"
  },
  "language_info": {
   "codemirror_mode": {
    "name": "ipython",
    "version": 3
   },
   "file_extension": ".py",
   "mimetype": "text/x-python",
   "name": "python",
   "nbconvert_exporter": "python",
   "pygments_lexer": "ipython3",
   "version": "3.13.7"
  }
 },
 "nbformat": 4,
 "nbformat_minor": 5
}
