{
 "cells": [
  {
   "cell_type": "markdown",
   "id": "cbc518a8-8076-4618-97b8-4030bcdf1818",
   "metadata": {},
   "source": [
    "# Pandas: эффект(ив)ный анализ таблиц\n",
    "\n",
    "Давайте познакомимся с **Pandas** чуть подробнее. Напомним, что NumPy замечательно подходит для работы с численными массивами, однако, астрономические данные часто преставлены в виде структурированных таблиц: звездные каталоги, логи наблюдений, экзопланетные базы данных и прочее. Эти таблицы содержат в себе данные различных типов в разных колонках (текстовые, численные, дата и время), а также заголовки для колонок и строк.\n",
    "\n",
    "Pandas является мощной библиотекой, созданной специально для анализа таких структуированных табличных данных. Его основная структура, датафрейм (**DataFrame**), является чем-то вроде мощной электронной таблицы, доступной прямо из кода в Python. \n",
    "\n",
    "Этот ноутбук покажет вам, как взаимодействовать с датафреймами, благодаря чему их очистка, анализ и исследования станут более прозрачными и эффективными.\n",
    "\n",
    "**Задачи:**\n",
    "\n",
    "*   Изучить основную структуру данных Pandas: датафрейм.\n",
    "*   Создать датафрейм различными способами.\n",
    "*   Выбрать отдельные колонки и строки в таблице.\n",
    "*   Отфильтровать датафрейм согласно условиям.\n",
    "*   Обработать колонки Dataframe базовыми операциями.\n",
    "*   Считать данные из локального файла (CSV).\n",
    "*   Считать данные напрямую из онлайн источников (URLs).\n",
    "*   Научиться обрабатывать отсутствующие значения.\n",
    "\n",
    "**Ноутбук предполагает знания основного синтаксиса Python (переменные, типы данных, списки, циклы) и массивов NumPy.**\n",
    "\n",
    "**Замечание**\n",
    "Запустите ячейку ниже по `SHIFT+ENTER` для загрузки и установки нужных пакетов, если вы не уверены, что такие установлены. Если они уже есть, её можно пропустить."
   ]
  },
  {
   "cell_type": "code",
   "execution_count": 33,
   "id": "53189c83-7ab5-4e08-8572-230f234ce04d",
   "metadata": {},
   "outputs": [
    {
     "name": "stdout",
     "output_type": "stream",
     "text": [
      "Requirement already satisfied: numpy in /home/pan/.venvs/research/lib/python3.13/site-packages (2.3.2)\n",
      "Requirement already satisfied: pandas in /home/pan/.venvs/research/lib/python3.13/site-packages (2.3.0)\n",
      "Requirement already satisfied: matplotlib in /home/pan/.venvs/research/lib/python3.13/site-packages (3.10.3)\n",
      "Requirement already satisfied: python-dateutil>=2.8.2 in /home/pan/.venvs/research/lib/python3.13/site-packages (from pandas) (2.9.0.post0)\n",
      "Requirement already satisfied: pytz>=2020.1 in /home/pan/.venvs/research/lib/python3.13/site-packages (from pandas) (2025.2)\n",
      "Requirement already satisfied: tzdata>=2022.7 in /home/pan/.venvs/research/lib/python3.13/site-packages (from pandas) (2025.2)\n",
      "Requirement already satisfied: contourpy>=1.0.1 in /home/pan/.venvs/research/lib/python3.13/site-packages (from matplotlib) (1.3.2)\n",
      "Requirement already satisfied: cycler>=0.10 in /home/pan/.venvs/research/lib/python3.13/site-packages (from matplotlib) (0.12.1)\n",
      "Requirement already satisfied: fonttools>=4.22.0 in /home/pan/.venvs/research/lib/python3.13/site-packages (from matplotlib) (4.58.4)\n",
      "Requirement already satisfied: kiwisolver>=1.3.1 in /home/pan/.venvs/research/lib/python3.13/site-packages (from matplotlib) (1.4.8)\n",
      "Requirement already satisfied: packaging>=20.0 in /home/pan/.venvs/research/lib/python3.13/site-packages (from matplotlib) (25.0)\n",
      "Requirement already satisfied: pillow>=8 in /home/pan/.venvs/research/lib/python3.13/site-packages (from matplotlib) (11.2.1)\n",
      "Requirement already satisfied: pyparsing>=2.3.1 in /home/pan/.venvs/research/lib/python3.13/site-packages (from matplotlib) (3.2.3)\n",
      "Requirement already satisfied: six>=1.5 in /home/pan/.venvs/research/lib/python3.13/site-packages (from python-dateutil>=2.8.2->pandas) (1.17.0)\n"
     ]
    }
   ],
   "source": [
    "!pip install numpy pandas matplotlib"
   ]
  },
  {
   "cell_type": "markdown",
   "id": "e9641875-351a-4be8-b63d-5b701e7256bf",
   "metadata": {},
   "source": [
    "## Что такое DataFrame\n",
    "\n",
    "Пусть у нас есть следующая таблиац с данными о галактиках:\n",
    "\n",
    "```code\n",
    "Name                   | Type      | Distance (light-years)\n",
    "---                    | ---       | ---\n",
    "Andromeda              | Spiral    | 2.537 million\n",
    "Milky Way              | Spiral    | 0 (our galaxy)\n",
    "Triangulum             | Spiral    | 3.0 million\n",
    "Large Magellanic Cloud | Irregular | 0.16 million\n",
    "```\n",
    "\n",
    "В Python, можно представить эти данные в виде списка из списков или в виде списка словарей:"
   ]
  },
  {
   "cell_type": "code",
   "execution_count": 34,
   "id": "02d961c2-3209-4f12-9b80-66c71142f4a8",
   "metadata": {},
   "outputs": [],
   "source": [
    "galaxies_list = [\n",
    "    ['Andromeda', 'Spiral', 2.537],\n",
    "    ['Milky Way', 'Spiral', 0.0],\n",
    "    ['Triangulum', 'Spiral', 3.0],\n",
    "    ['Large Magellanic Cloud', 'Irregular', 0.16]\n",
    "]\n",
    "\n",
    "galaxies_list_of_dicts = [\n",
    "    {'Name': 'Andromeda', 'Type': 'Spiral', 'Distance_Mly': 2.537},\n",
    "    {'Name': 'Milky Way', 'Type': 'Spiral', 'Distance_Mly': 0.0},\n",
    "    {'Name': 'Triangulum', 'Type': 'Spiral', 'Distance_Mly': 3.0},\n",
    "    {'Name': 'Large Magellanic Cloud', 'Type': 'Irregular', 'Distance_Mly': 0.16}\n",
    "]"
   ]
  },
  {
   "cell_type": "markdown",
   "id": "2c068efc-b7b8-4334-a077-9e50df555bb0",
   "metadata": {},
   "source": [
    "Метод рабочий, однако, анализировать данные в таком виде достаточно трудно. Необходимо будет использовать вложенные циклы и сложные условные конструкции.\n",
    "\n",
    "Pandas предоставляет объект типа `DataFrame`, который подходит для такого представления гораздо лучше:"
   ]
  },
  {
   "cell_type": "code",
   "execution_count": 35,
   "id": "543e49a0-895a-49b2-9369-e4463ab286b6",
   "metadata": {},
   "outputs": [
    {
     "name": "stdout",
     "output_type": "stream",
     "text": [
      "Our Galaxies DataFrame:\n"
     ]
    },
    {
     "data": {
      "text/html": [
       "<div>\n",
       "<style scoped>\n",
       "    .dataframe tbody tr th:only-of-type {\n",
       "        vertical-align: middle;\n",
       "    }\n",
       "\n",
       "    .dataframe tbody tr th {\n",
       "        vertical-align: top;\n",
       "    }\n",
       "\n",
       "    .dataframe thead th {\n",
       "        text-align: right;\n",
       "    }\n",
       "</style>\n",
       "<table border=\"1\" class=\"dataframe\">\n",
       "  <thead>\n",
       "    <tr style=\"text-align: right;\">\n",
       "      <th></th>\n",
       "      <th>Name</th>\n",
       "      <th>Type</th>\n",
       "      <th>Distance_Mly</th>\n",
       "    </tr>\n",
       "  </thead>\n",
       "  <tbody>\n",
       "    <tr>\n",
       "      <th>0</th>\n",
       "      <td>Andromeda</td>\n",
       "      <td>Spiral</td>\n",
       "      <td>2.537</td>\n",
       "    </tr>\n",
       "    <tr>\n",
       "      <th>1</th>\n",
       "      <td>Milky Way</td>\n",
       "      <td>Spiral</td>\n",
       "      <td>0.000</td>\n",
       "    </tr>\n",
       "    <tr>\n",
       "      <th>2</th>\n",
       "      <td>Triangulum</td>\n",
       "      <td>Spiral</td>\n",
       "      <td>3.000</td>\n",
       "    </tr>\n",
       "    <tr>\n",
       "      <th>3</th>\n",
       "      <td>Large Magellanic Cloud</td>\n",
       "      <td>Irregular</td>\n",
       "      <td>0.160</td>\n",
       "    </tr>\n",
       "  </tbody>\n",
       "</table>\n",
       "</div>"
      ],
      "text/plain": [
       "                     Name       Type  Distance_Mly\n",
       "0               Andromeda     Spiral         2.537\n",
       "1               Milky Way     Spiral         0.000\n",
       "2              Triangulum     Spiral         3.000\n",
       "3  Large Magellanic Cloud  Irregular         0.160"
      ]
     },
     "execution_count": 35,
     "metadata": {},
     "output_type": "execute_result"
    }
   ],
   "source": [
    "import pandas as pd # стандартное сокращение pandas\n",
    "\n",
    "# Создадим датафрейм из списка словарей:\n",
    "galaxies_df = pd.DataFrame(galaxies_list_of_dicts)\n",
    "\n",
    "# Выведем его средствами Jupyter Notebook:\n",
    "print(\"Our Galaxies DataFrame:\")\n",
    "galaxies_df"
   ]
  },
  {
   "cell_type": "markdown",
   "id": "7df0390a-7ac4-45e5-ba40-daea988b5207",
   "metadata": {},
   "source": [
    "Обратите внимание, что структура колонок и строк сохранилась. Каждый ключ в словаре стал названием колонки, плюс у каждой строки появился номер-индекс.\n",
    "\n",
    "## Создание датафреймов\n",
    "\n",
    "Наиболее часто встречаемый способ создания датафреймов:\n",
    "\n",
    "1.  **Из словаря:** ключи в словаре - названия колонок, значения - списки или массивы NumPy с данными для колонок. Подходит для небольших датасетов, определяемых внутри кода.\n",
    "2.  **Из списка словарей:** каждый словарь представляет собой строку.\n",
    "3.  **Из файла:** считываем данные из CSV, Excel, JSON-ов и других типов файлов.\n",
    "4.  **Из интернета:** считываем таблицу непосредственно по ссылке.\n",
    "\n",
    "Давайте посмотрим на методы создания из словарей, затем перейдем к файлам и ссылкам.\n",
    "\n",
    "### Пример 1: создание датафреймов из словаря\n",
    "\n",
    "Снова создадим таблицу со звездами:"
   ]
  },
  {
   "cell_type": "code",
   "execution_count": 36,
   "id": "9b67e3c9-70a1-4c3f-b0df-d3ad45cbac59",
   "metadata": {},
   "outputs": [
    {
     "name": "stdout",
     "output_type": "stream",
     "text": [
      "Датафрейм из словарей:\n"
     ]
    },
    {
     "data": {
      "text/html": [
       "<div>\n",
       "<style scoped>\n",
       "    .dataframe tbody tr th:only-of-type {\n",
       "        vertical-align: middle;\n",
       "    }\n",
       "\n",
       "    .dataframe tbody tr th {\n",
       "        vertical-align: top;\n",
       "    }\n",
       "\n",
       "    .dataframe thead th {\n",
       "        text-align: right;\n",
       "    }\n",
       "</style>\n",
       "<table border=\"1\" class=\"dataframe\">\n",
       "  <thead>\n",
       "    <tr style=\"text-align: right;\">\n",
       "      <th></th>\n",
       "      <th>Name</th>\n",
       "      <th>Spectral_Type</th>\n",
       "      <th>Apparent_Magnitude</th>\n",
       "    </tr>\n",
       "  </thead>\n",
       "  <tbody>\n",
       "    <tr>\n",
       "      <th>First</th>\n",
       "      <td>Sirius</td>\n",
       "      <td>A1V</td>\n",
       "      <td>-1.46</td>\n",
       "    </tr>\n",
       "    <tr>\n",
       "      <th>Second</th>\n",
       "      <td>Canopus</td>\n",
       "      <td>F0</td>\n",
       "      <td>-0.72</td>\n",
       "    </tr>\n",
       "    <tr>\n",
       "      <th>Third</th>\n",
       "      <td>Alpha Centauri</td>\n",
       "      <td>G2V</td>\n",
       "      <td>-0.27</td>\n",
       "    </tr>\n",
       "    <tr>\n",
       "      <th>Fourth</th>\n",
       "      <td>Arcturus</td>\n",
       "      <td>K1.5III</td>\n",
       "      <td>-0.04</td>\n",
       "    </tr>\n",
       "  </tbody>\n",
       "</table>\n",
       "</div>"
      ],
      "text/plain": [
       "                  Name Spectral_Type  Apparent_Magnitude\n",
       "First           Sirius           A1V               -1.46\n",
       "Second         Canopus            F0               -0.72\n",
       "Third   Alpha Centauri           G2V               -0.27\n",
       "Fourth        Arcturus       K1.5III               -0.04"
      ]
     },
     "execution_count": 36,
     "metadata": {},
     "output_type": "execute_result"
    }
   ],
   "source": [
    "star_data_dict = {\n",
    "    'Name': ['Sirius', 'Canopus', 'Alpha Centauri', 'Arcturus'],\n",
    "    'Spectral_Type': ['A1V', 'F0', 'G2V', 'K1.5III'],\n",
    "    'Apparent_Magnitude': [-1.46, -0.72, -0.27, -0.04]\n",
    "}\n",
    "\n",
    "# создаем датафрейм из словаря, в качестве индексов сделаем английские числительные\n",
    "bright_stars_df = pd.DataFrame(star_data_dict, index=['First', 'Second', 'Third', 'Fourth'])\n",
    "\n",
    "print(\"Датафрейм из словарей:\")\n",
    "bright_stars_df"
   ]
  },
  {
   "cell_type": "markdown",
   "id": "20105b7d-f042-4b4e-9d63-c1e863ac8440",
   "metadata": {},
   "source": [
    "Каждый ключ из словаря стал заголовком колонки, список стал самой колонкой, и к каждой строке добавился индекс, который мы указали как опциональный аргумент index.\n",
    "\n",
    "## Доступ к данным\n",
    "\n",
    "Для обращения к конкретным колонкам, строкам или значениям используется индексация:\n",
    "\n",
    "*   **Выбор колонок:** происходит по заголовку колонки, аналогично обращению к ключу в словаре. Можно выделить несколько колонок\n",
    "*   **Выбор строк:** строки можно выбирать по их индексному значению (`.loc`) или целочисленной позиции (`.iloc`).\n",
    "*   **Выбор конкретной ячейки:** комбинация выбора строки и столбца.\n",
    "\n",
    "\n",
    "### Пример 2: выделение колонок\n",
    "\n",
    "Используем bright_stars_df из предыдущего примера:"
   ]
  },
  {
   "cell_type": "code",
   "execution_count": 37,
   "id": "9d29473d-91ea-42bc-bb08-2d2e2190e5e8",
   "metadata": {},
   "outputs": [
    {
     "name": "stdout",
     "output_type": "stream",
     "text": [
      "\n",
      "Выбираем колонку 'Name':\n"
     ]
    },
    {
     "data": {
      "text/plain": [
       "First             Sirius\n",
       "Second           Canopus\n",
       "Third     Alpha Centauri\n",
       "Fourth          Arcturus\n",
       "Name: Name, dtype: object"
      ]
     },
     "execution_count": 37,
     "metadata": {},
     "output_type": "execute_result"
    }
   ],
   "source": [
    "# выбор одной колонки\n",
    "# результатом является объект Series (одномерный именованный массив)\n",
    "star_names = bright_stars_df['Name'] # аналогично выбору ключа в словаре\n",
    "print(\"\\nВыбираем колонку 'Name':\")\n",
    "star_names"
   ]
  },
  {
   "cell_type": "code",
   "execution_count": 38,
   "id": "cfa27a5d-927a-4581-8374-58455d495e0d",
   "metadata": {},
   "outputs": [
    {
     "data": {
      "text/html": [
       "<div>\n",
       "<style scoped>\n",
       "    .dataframe tbody tr th:only-of-type {\n",
       "        vertical-align: middle;\n",
       "    }\n",
       "\n",
       "    .dataframe tbody tr th {\n",
       "        vertical-align: top;\n",
       "    }\n",
       "\n",
       "    .dataframe thead th {\n",
       "        text-align: right;\n",
       "    }\n",
       "</style>\n",
       "<table border=\"1\" class=\"dataframe\">\n",
       "  <thead>\n",
       "    <tr style=\"text-align: right;\">\n",
       "      <th></th>\n",
       "      <th>Name</th>\n",
       "      <th>Apparent_Magnitude</th>\n",
       "    </tr>\n",
       "  </thead>\n",
       "  <tbody>\n",
       "    <tr>\n",
       "      <th>First</th>\n",
       "      <td>Sirius</td>\n",
       "      <td>-1.46</td>\n",
       "    </tr>\n",
       "    <tr>\n",
       "      <th>Second</th>\n",
       "      <td>Canopus</td>\n",
       "      <td>-0.72</td>\n",
       "    </tr>\n",
       "    <tr>\n",
       "      <th>Third</th>\n",
       "      <td>Alpha Centauri</td>\n",
       "      <td>-0.27</td>\n",
       "    </tr>\n",
       "    <tr>\n",
       "      <th>Fourth</th>\n",
       "      <td>Arcturus</td>\n",
       "      <td>-0.04</td>\n",
       "    </tr>\n",
       "  </tbody>\n",
       "</table>\n",
       "</div>"
      ],
      "text/plain": [
       "                  Name  Apparent_Magnitude\n",
       "First           Sirius               -1.46\n",
       "Second         Canopus               -0.72\n",
       "Third   Alpha Centauri               -0.27\n",
       "Fourth        Arcturus               -0.04"
      ]
     },
     "execution_count": 38,
     "metadata": {},
     "output_type": "execute_result"
    }
   ],
   "source": [
    "# Выбор нескольких колонок\n",
    "# результатом является датафрейм.\n",
    "names_and_magnitudes = bright_stars_df[['Name', 'Apparent_Magnitude']] # список названий колонок!\n",
    "names_and_magnitudes"
   ]
  },
  {
   "cell_type": "markdown",
   "id": "80c326d6-c278-45bb-a404-de1d7ffe309b",
   "metadata": {},
   "source": [
    "### Пример 3: выбор строк через .loc и .iloc\n",
    "\n",
    "Снова используем тот же датафрейм bright_stars_df:"
   ]
  },
  {
   "cell_type": "code",
   "execution_count": 39,
   "id": "44c3eba6-818c-4c38-8cb6-d68f878f90b5",
   "metadata": {},
   "outputs": [
    {
     "name": "stdout",
     "output_type": "stream",
     "text": [
      "Вытаскиваем строку с заголовком First (Sirius), используя .loc:\n"
     ]
    },
    {
     "data": {
      "text/plain": [
       "Name                  Sirius\n",
       "Spectral_Type            A1V\n",
       "Apparent_Magnitude     -1.46\n",
       "Name: First, dtype: object"
      ]
     },
     "execution_count": 39,
     "metadata": {},
     "output_type": "execute_result"
    }
   ],
   "source": [
    "# Обращаемся к строке по заголовку строки, используя .loc\n",
    "# Заголовки по-умолчанию - это целые числа от 0 (0, 1, 2, ...)\n",
    "# Мы специально изменили заголовки на (First, Second...) для отличия\n",
    "sirius_row = bright_stars_df.loc['First'] # достаем первую строку\n",
    "print(\"Вытаскиваем строку с заголовком First (Sirius), используя .loc:\")\n",
    "sirius_row"
   ]
  },
  {
   "cell_type": "code",
   "execution_count": 40,
   "id": "c32a8ba5-8c17-482f-969b-f35e5c0ee05e",
   "metadata": {},
   "outputs": [
    {
     "name": "stdout",
     "output_type": "stream",
     "text": [
      "Вытаскиваем строку под индексом 1 (Canopus), используя .iloc:\n"
     ]
    },
    {
     "data": {
      "text/plain": [
       "Name                  Canopus\n",
       "Spectral_Type              F0\n",
       "Apparent_Magnitude      -0.72\n",
       "Name: Second, dtype: object"
      ]
     },
     "execution_count": 40,
     "metadata": {},
     "output_type": "execute_result"
    }
   ],
   "source": [
    "# По целочисленному индексу строку можно вытащить с помощью .iloc\n",
    "# Всё аналогично индексации списков или массивов NumPy\n",
    "canopus_row = bright_stars_df.iloc[1]\n",
    "print(\"Вытаскиваем строку под индексом 1 (Canopus), используя .iloc:\")\n",
    "canopus_row"
   ]
  },
  {
   "cell_type": "code",
   "execution_count": 41,
   "id": "1e46426f-dae5-4016-a559-42b0f25df695",
   "metadata": {},
   "outputs": [
    {
     "name": "stdout",
     "output_type": "stream",
     "text": [
      "Вытаскиваем первые две строки с помощью .loc['First':'Second']:\n",
      "           Name Spectral_Type  Apparent_Magnitude\n",
      "First    Sirius           A1V               -1.46\n",
      "Second  Canopus            F0               -0.72\n"
     ]
    }
   ],
   "source": [
    "# выбор нескольких строк делается с помощью срезов и .loc\n",
    "first_two_stars_loc = bright_stars_df.loc['First':'Second'] # 'Second' здесь тоже включается, в отличие от обычных срезов!\n",
    "print(\"Вытаскиваем первые две строки с помощью .loc['First':'Second']:\")\n",
    "print(first_two_stars_loc)"
   ]
  },
  {
   "cell_type": "code",
   "execution_count": 42,
   "id": "8f4d9cf6-2424-419b-b37e-f7f6c9a1f215",
   "metadata": {},
   "outputs": [
    {
     "name": "stdout",
     "output_type": "stream",
     "text": [
      "\n",
      "Вытаскиваем первые две строки с помощью .iloc[0:2]:\n",
      "           Name Spectral_Type  Apparent_Magnitude\n",
      "First    Sirius           A1V               -1.46\n",
      "Second  Canopus            F0               -0.72\n"
     ]
    }
   ],
   "source": [
    "# выбор нескольких строк через .iloc\n",
    "first_two_stars_iloc = bright_stars_df.iloc[0:2] # а тут 2 уже не включается, как обычно\n",
    "print(\"\\nВытаскиваем первые две строки с помощью .iloc[0:2]:\")\n",
    "print(first_two_stars_iloc)"
   ]
  },
  {
   "cell_type": "markdown",
   "id": "bbca5836-ae34-4f82-a805-7f0ab7556b15",
   "metadata": {},
   "source": [
    "### Пример 4: выбор отдельных ячеек в таблице"
   ]
  },
  {
   "cell_type": "code",
   "execution_count": 43,
   "id": "6baeec55-dc23-47a9-b170-94f31d009681",
   "metadata": {},
   "outputs": [
    {
     "name": "stdout",
     "output_type": "stream",
     "text": [
      "Исходный датафрейм:\n",
      "                  Name Spectral_Type  Apparent_Magnitude\n",
      "First           Sirius           A1V               -1.46\n",
      "Second         Canopus            F0               -0.72\n",
      "Third   Alpha Centauri           G2V               -0.27\n",
      "Fourth        Arcturus       K1.5III               -0.04\n",
      "\n",
      "Значение ячейки через .loc['First', 'Apparent_Magnitude']: -1.46\n",
      "Тип ячейки: <class 'numpy.float64'>\n"
     ]
    }
   ],
   "source": [
    "# Снова тот же датафрейм bright_stars_df\n",
    "print(\"Исходный датафрейм:\")\n",
    "print(bright_stars_df)\n",
    "\n",
    "# Выбираем звездную величину Сириуса через .loc[заголовок_строки, заголовок_столбца]\n",
    "sirius_mag = bright_stars_df.loc['First', 'Apparent_Magnitude']\n",
    "print(\"\\nЗначение ячейки через .loc['First', 'Apparent_Magnitude']:\", sirius_mag)\n",
    "print(f\"Тип ячейки: {type(sirius_mag)}\") # вернулся численный тип"
   ]
  },
  {
   "cell_type": "code",
   "execution_count": 44,
   "id": "97b1901c-04b0-4b1e-9243-f15832cb4b64",
   "metadata": {},
   "outputs": [
    {
     "name": "stdout",
     "output_type": "stream",
     "text": [
      "Спектральный тип Канопуса (через .iloc[1, 1]): F0\n",
      "Часть таблицы:\n"
     ]
    },
    {
     "data": {
      "text/html": [
       "<div>\n",
       "<style scoped>\n",
       "    .dataframe tbody tr th:only-of-type {\n",
       "        vertical-align: middle;\n",
       "    }\n",
       "\n",
       "    .dataframe tbody tr th {\n",
       "        vertical-align: top;\n",
       "    }\n",
       "\n",
       "    .dataframe thead th {\n",
       "        text-align: right;\n",
       "    }\n",
       "</style>\n",
       "<table border=\"1\" class=\"dataframe\">\n",
       "  <thead>\n",
       "    <tr style=\"text-align: right;\">\n",
       "      <th></th>\n",
       "      <th>Spectral_Type</th>\n",
       "      <th>Apparent_Magnitude</th>\n",
       "    </tr>\n",
       "  </thead>\n",
       "  <tbody>\n",
       "    <tr>\n",
       "      <th>Second</th>\n",
       "      <td>F0</td>\n",
       "      <td>-0.72</td>\n",
       "    </tr>\n",
       "    <tr>\n",
       "      <th>Third</th>\n",
       "      <td>G2V</td>\n",
       "      <td>-0.27</td>\n",
       "    </tr>\n",
       "  </tbody>\n",
       "</table>\n",
       "</div>"
      ],
      "text/plain": [
       "       Spectral_Type  Apparent_Magnitude\n",
       "Second            F0               -0.72\n",
       "Third            G2V               -0.27"
      ]
     },
     "execution_count": 44,
     "metadata": {},
     "output_type": "execute_result"
    }
   ],
   "source": [
    "# Можно обратиться к ячейке по её целочисленным индексам с помощью .iloc[индекс_строки, индекс_столбца]\n",
    "canopus_spectral_type = bright_stars_df.iloc[1, 1]\n",
    "print(\"Спектральный тип Канопуса (через .iloc[1, 1]):\", canopus_spectral_type)\n",
    "\n",
    "# Срезами можно вытащить часть таблицы:\n",
    "some_data = bright_stars_df.loc['Second':'Third', 'Spectral_Type':'Apparent_Magnitude':]\n",
    "print(\"Часть таблицы:\")\n",
    "some_data"
   ]
  },
  {
   "cell_type": "code",
   "execution_count": 45,
   "id": "09c95acd-5794-422b-b851-b7bcfd9f2d4e",
   "metadata": {},
   "outputs": [
    {
     "name": "stdout",
     "output_type": "stream",
     "text": [
      "Часть таблицы:\n"
     ]
    },
    {
     "data": {
      "text/html": [
       "<div>\n",
       "<style scoped>\n",
       "    .dataframe tbody tr th:only-of-type {\n",
       "        vertical-align: middle;\n",
       "    }\n",
       "\n",
       "    .dataframe tbody tr th {\n",
       "        vertical-align: top;\n",
       "    }\n",
       "\n",
       "    .dataframe thead th {\n",
       "        text-align: right;\n",
       "    }\n",
       "</style>\n",
       "<table border=\"1\" class=\"dataframe\">\n",
       "  <thead>\n",
       "    <tr style=\"text-align: right;\">\n",
       "      <th></th>\n",
       "      <th>Name</th>\n",
       "      <th>Spectral_Type</th>\n",
       "    </tr>\n",
       "  </thead>\n",
       "  <tbody>\n",
       "    <tr>\n",
       "      <th>First</th>\n",
       "      <td>Sirius</td>\n",
       "      <td>A1V</td>\n",
       "    </tr>\n",
       "    <tr>\n",
       "      <th>Second</th>\n",
       "      <td>Canopus</td>\n",
       "      <td>F0</td>\n",
       "    </tr>\n",
       "  </tbody>\n",
       "</table>\n",
       "</div>"
      ],
      "text/plain": [
       "           Name Spectral_Type\n",
       "First    Sirius           A1V\n",
       "Second  Canopus            F0"
      ]
     },
     "execution_count": 45,
     "metadata": {},
     "output_type": "execute_result"
    }
   ],
   "source": [
    "# аналогично через индексы\n",
    "some_data = bright_stars_df.iloc[0:2, 0:2]\n",
    "print(\"Часть таблицы:\")\n",
    "some_data"
   ]
  },
  {
   "cell_type": "markdown",
   "id": "06a170ee-924a-4e59-b62e-48af93be4e8c",
   "metadata": {},
   "source": [
    "## Фильтрация датафрейма\n",
    "\n",
    "Частая задача - выделить определенные строки из таблицы, которые удовлетворяют заданному условию. С помощью булевых индексов, как в NumPy, это сделать достаточн просто. Нужно создать условие, которое выведет Серию из значений `True`/`False`, и затем использовать её в качестве индекса:\n",
    "\n",
    "### Пример 5: фильтрация"
   ]
  },
  {
   "cell_type": "code",
   "execution_count": 46,
   "id": "d275a890-4a61-4e3f-be2f-b2c973ca8762",
   "metadata": {},
   "outputs": [
    {
     "name": "stdout",
     "output_type": "stream",
     "text": [
      "Исходный датафрейм:\n",
      "                  Name Spectral_Type  Apparent_Magnitude\n",
      "First           Sirius           A1V               -1.46\n",
      "Second         Canopus            F0               -0.72\n",
      "Third   Alpha Centauri           G2V               -0.27\n",
      "Fourth        Arcturus       K1.5III               -0.04\n",
      "\n",
      "Булева серия для ярких звезд:\n",
      "First      True\n",
      "Second     True\n",
      "Third     False\n",
      "Fourth    False\n",
      "Name: Apparent_Magnitude, dtype: bool\n"
     ]
    }
   ],
   "source": [
    "# снова мучаем bright_stars_df\n",
    "print(\"Исходный датафрейм:\")\n",
    "print(bright_stars_df)\n",
    "\n",
    "# Условие 1: оставим звезды ярче -0.5 \n",
    "is_brighter_than_05 = bright_stars_df['Apparent_Magnitude'] < -0.5\n",
    "print(\"\\nБулева серия для ярких звезд:\")\n",
    "print(is_brighter_than_05)"
   ]
  },
  {
   "cell_type": "code",
   "execution_count": 67,
   "id": "b3a4ad67-3ad9-4c65-bf25-2e436380ac10",
   "metadata": {},
   "outputs": [
    {
     "name": "stdout",
     "output_type": "stream",
     "text": [
      "Отфильтрованный датафрейм только со звездами ярче -0.5:\n",
      "           Name Spectral_Type  Apparent_Magnitude  Distance_pc  \\\n",
      "First    Sirius           A1V               -1.46          2.6   \n",
      "Second  Canopus            F0               -0.72         99.0   \n",
      "\n",
      "        Absolute_Magnitude  \n",
      "First             1.465133  \n",
      "Second           -5.698176  \n",
      "\n",
      "Булева серия для условия на 'V':\n",
      "First      True\n",
      "Second    False\n",
      "Third      True\n",
      "Fourth    False\n",
      "Name: Spectral_Type, dtype: bool\n"
     ]
    }
   ],
   "source": [
    "# Используем эту серию в качестве индекса\n",
    "very_bright_stars_df = bright_stars_df[is_brighter_than_05]\n",
    "print(\"Отфильтрованный датафрейм только со звездами ярче -0.5:\")\n",
    "print(very_bright_stars_df)\n",
    "\n",
    "# Условие 2: Найдем звезды главной последовательности (с 'V' в названии)\n",
    "is_spectral_type_V = bright_stars_df['Spectral_Type'].str.contains('V')\n",
    "print(\"\\nБулева серия для условия на 'V':\")\n",
    "print(is_spectral_type_V)"
   ]
  },
  {
   "cell_type": "code",
   "execution_count": 68,
   "id": "36ef8604-88ed-4853-8599-b160bf3bd959",
   "metadata": {},
   "outputs": [
    {
     "name": "stdout",
     "output_type": "stream",
     "text": [
      "Отфильтрованные значения с 'V':\n"
     ]
    },
    {
     "data": {
      "text/html": [
       "<div>\n",
       "<style scoped>\n",
       "    .dataframe tbody tr th:only-of-type {\n",
       "        vertical-align: middle;\n",
       "    }\n",
       "\n",
       "    .dataframe tbody tr th {\n",
       "        vertical-align: top;\n",
       "    }\n",
       "\n",
       "    .dataframe thead th {\n",
       "        text-align: right;\n",
       "    }\n",
       "</style>\n",
       "<table border=\"1\" class=\"dataframe\">\n",
       "  <thead>\n",
       "    <tr style=\"text-align: right;\">\n",
       "      <th></th>\n",
       "      <th>Name</th>\n",
       "      <th>Spectral_Type</th>\n",
       "      <th>Apparent_Magnitude</th>\n",
       "      <th>Distance_pc</th>\n",
       "      <th>Absolute_Magnitude</th>\n",
       "    </tr>\n",
       "  </thead>\n",
       "  <tbody>\n",
       "    <tr>\n",
       "      <th>First</th>\n",
       "      <td>Sirius</td>\n",
       "      <td>A1V</td>\n",
       "      <td>-1.46</td>\n",
       "      <td>2.6</td>\n",
       "      <td>1.465133</td>\n",
       "    </tr>\n",
       "    <tr>\n",
       "      <th>Third</th>\n",
       "      <td>Alpha Centauri</td>\n",
       "      <td>G2V</td>\n",
       "      <td>-0.27</td>\n",
       "      <td>1.3</td>\n",
       "      <td>4.160283</td>\n",
       "    </tr>\n",
       "  </tbody>\n",
       "</table>\n",
       "</div>"
      ],
      "text/plain": [
       "                 Name Spectral_Type  Apparent_Magnitude  Distance_pc  \\\n",
       "First          Sirius           A1V               -1.46          2.6   \n",
       "Third  Alpha Centauri           G2V               -0.27          1.3   \n",
       "\n",
       "       Absolute_Magnitude  \n",
       "First            1.465133  \n",
       "Third            4.160283  "
      ]
     },
     "execution_count": 68,
     "metadata": {},
     "output_type": "execute_result"
    }
   ],
   "source": [
    "# Аналогичная фильтрация без посредника-переменной\n",
    "V_stars_df = bright_stars_df[bright_stars_df['Spectral_Type'].str.contains('V')]\n",
    "print(\"Отфильтрованные значения с 'V':\")\n",
    "V_stars_df"
   ]
  },
  {
   "cell_type": "markdown",
   "id": "4ade55d3-a8f5-4a96-a9c3-8086a5176d54",
   "metadata": {},
   "source": [
    "Несколько условий можно сочетать следующими логическими операторами:\n",
    "\n",
    "```code\n",
    "&  (AND)\n",
    "|  (OR)\n",
    "~  (NOT)\n",
    "```\n",
    "\n",
    "**ВАЖНО:** каждое условие нужно обрамить в скобки `()`\n",
    "\n",
    "\n",
    "### Пример 6: фильтрация несколькими условиями"
   ]
  },
  {
   "cell_type": "code",
   "execution_count": 49,
   "id": "ef7e6429-e527-4985-beb3-4b489d22c28b",
   "metadata": {},
   "outputs": [
    {
     "name": "stdout",
     "output_type": "stream",
     "text": [
      "Звезды ярче -0.5 с типом 'A1V':\n"
     ]
    },
    {
     "data": {
      "text/html": [
       "<div>\n",
       "<style scoped>\n",
       "    .dataframe tbody tr th:only-of-type {\n",
       "        vertical-align: middle;\n",
       "    }\n",
       "\n",
       "    .dataframe tbody tr th {\n",
       "        vertical-align: top;\n",
       "    }\n",
       "\n",
       "    .dataframe thead th {\n",
       "        text-align: right;\n",
       "    }\n",
       "</style>\n",
       "<table border=\"1\" class=\"dataframe\">\n",
       "  <thead>\n",
       "    <tr style=\"text-align: right;\">\n",
       "      <th></th>\n",
       "      <th>Name</th>\n",
       "      <th>Spectral_Type</th>\n",
       "      <th>Apparent_Magnitude</th>\n",
       "    </tr>\n",
       "  </thead>\n",
       "  <tbody>\n",
       "    <tr>\n",
       "      <th>First</th>\n",
       "      <td>Sirius</td>\n",
       "      <td>A1V</td>\n",
       "      <td>-1.46</td>\n",
       "    </tr>\n",
       "  </tbody>\n",
       "</table>\n",
       "</div>"
      ],
      "text/plain": [
       "         Name Spectral_Type  Apparent_Magnitude\n",
       "First  Sirius           A1V               -1.46"
      ]
     },
     "execution_count": 49,
     "metadata": {},
     "output_type": "execute_result"
    }
   ],
   "source": [
    "# Найдем звезды ярче -0.5 величины со спектральным типом 'A1V'\n",
    "bright_and_A1V = (bright_stars_df['Apparent_Magnitude'] < -0.5) & (bright_stars_df['Spectral_Type'] == 'A1V')\n",
    "filtered_df = bright_stars_df[bright_and_A1V]\n",
    "print(\"Звезды ярче -0.5 с типом 'A1V':\")\n",
    "filtered_df"
   ]
  },
  {
   "cell_type": "markdown",
   "id": "27c82e6f-83a7-4089-a2bd-e3932259b577",
   "metadata": {},
   "source": [
    "## Основные операции и создание новых колонок\n",
    "\n",
    "Как и в случае массивов NumPy, колонки Pandas (Series) можно использовать в качестве аргументов математических операций. С их помощью можно легко создавать и добавлять новые колонки в уже существующую таблицу.\n",
    "\n",
    "### Пример 7: операции и создание колонок"
   ]
  },
  {
   "cell_type": "code",
   "execution_count": 50,
   "id": "1304e7ce-e889-49c7-b50d-9379eda7ec5b",
   "metadata": {},
   "outputs": [
    {
     "name": "stdout",
     "output_type": "stream",
     "text": [
      "Звездочки:\n"
     ]
    },
    {
     "data": {
      "text/html": [
       "<div>\n",
       "<style scoped>\n",
       "    .dataframe tbody tr th:only-of-type {\n",
       "        vertical-align: middle;\n",
       "    }\n",
       "\n",
       "    .dataframe tbody tr th {\n",
       "        vertical-align: top;\n",
       "    }\n",
       "\n",
       "    .dataframe thead th {\n",
       "        text-align: right;\n",
       "    }\n",
       "</style>\n",
       "<table border=\"1\" class=\"dataframe\">\n",
       "  <thead>\n",
       "    <tr style=\"text-align: right;\">\n",
       "      <th></th>\n",
       "      <th>Name</th>\n",
       "      <th>Spectral_Type</th>\n",
       "      <th>Apparent_Magnitude</th>\n",
       "    </tr>\n",
       "  </thead>\n",
       "  <tbody>\n",
       "    <tr>\n",
       "      <th>First</th>\n",
       "      <td>Sirius</td>\n",
       "      <td>A1V</td>\n",
       "      <td>-1.46</td>\n",
       "    </tr>\n",
       "    <tr>\n",
       "      <th>Second</th>\n",
       "      <td>Canopus</td>\n",
       "      <td>F0</td>\n",
       "      <td>-0.72</td>\n",
       "    </tr>\n",
       "    <tr>\n",
       "      <th>Third</th>\n",
       "      <td>Alpha Centauri</td>\n",
       "      <td>G2V</td>\n",
       "      <td>-0.27</td>\n",
       "    </tr>\n",
       "    <tr>\n",
       "      <th>Fourth</th>\n",
       "      <td>Arcturus</td>\n",
       "      <td>K1.5III</td>\n",
       "      <td>-0.04</td>\n",
       "    </tr>\n",
       "  </tbody>\n",
       "</table>\n",
       "</div>"
      ],
      "text/plain": [
       "                  Name Spectral_Type  Apparent_Magnitude\n",
       "First           Sirius           A1V               -1.46\n",
       "Second         Canopus            F0               -0.72\n",
       "Third   Alpha Centauri           G2V               -0.27\n",
       "Fourth        Arcturus       K1.5III               -0.04"
      ]
     },
     "execution_count": 50,
     "metadata": {},
     "output_type": "execute_result"
    }
   ],
   "source": [
    "# используем наш многострадальный датафрейм\n",
    "print(\"Звездочки:\")\n",
    "bright_stars_df"
   ]
  },
  {
   "cell_type": "markdown",
   "id": "a0253be4-ff61-43a2-a1f4-1750d16e3102",
   "metadata": {},
   "source": [
    "Добавим колонку для абсолюной звездной величины звезд:\n",
    "\n",
    "`Абсолютная величина (M) = Видимая величина (m) - 5 * log10(расстояние в парсеках / 10)`\n",
    "\n",
    "Давайте добавим колонку с расстояниями в парсеках, создав новый объект типа `Series`:"
   ]
  },
  {
   "cell_type": "code",
   "execution_count": 54,
   "id": "138c6adb-3c2a-4c19-b71a-bba169cc2f81",
   "metadata": {},
   "outputs": [],
   "source": [
    "distances_pc = pd.Series([2.6, 99.0, 1.3, 11.4], index=['First', 'Second', 'Third', 'Fourth']) # раз мы изменили заголовки строк, они у нас должны совпадать\n",
    "bright_stars_df['Distance_pc'] = distances_pc # присваивание похоже на создание нового ключа в словаре"
   ]
  },
  {
   "cell_type": "code",
   "execution_count": 55,
   "id": "ead1f4a0-6202-4999-8fac-beb597da32f0",
   "metadata": {},
   "outputs": [
    {
     "name": "stdout",
     "output_type": "stream",
     "text": [
      "Датафрейм с добавленными колонками 'Distance_pc' и 'Absolute_Magnitude':\n"
     ]
    },
    {
     "data": {
      "text/html": [
       "<div>\n",
       "<style scoped>\n",
       "    .dataframe tbody tr th:only-of-type {\n",
       "        vertical-align: middle;\n",
       "    }\n",
       "\n",
       "    .dataframe tbody tr th {\n",
       "        vertical-align: top;\n",
       "    }\n",
       "\n",
       "    .dataframe thead th {\n",
       "        text-align: right;\n",
       "    }\n",
       "</style>\n",
       "<table border=\"1\" class=\"dataframe\">\n",
       "  <thead>\n",
       "    <tr style=\"text-align: right;\">\n",
       "      <th></th>\n",
       "      <th>Name</th>\n",
       "      <th>Spectral_Type</th>\n",
       "      <th>Apparent_Magnitude</th>\n",
       "      <th>Distance_pc</th>\n",
       "      <th>Absolute_Magnitude</th>\n",
       "    </tr>\n",
       "  </thead>\n",
       "  <tbody>\n",
       "    <tr>\n",
       "      <th>First</th>\n",
       "      <td>Sirius</td>\n",
       "      <td>A1V</td>\n",
       "      <td>-1.46</td>\n",
       "      <td>2.6</td>\n",
       "      <td>1.465133</td>\n",
       "    </tr>\n",
       "    <tr>\n",
       "      <th>Second</th>\n",
       "      <td>Canopus</td>\n",
       "      <td>F0</td>\n",
       "      <td>-0.72</td>\n",
       "      <td>99.0</td>\n",
       "      <td>-5.698176</td>\n",
       "    </tr>\n",
       "    <tr>\n",
       "      <th>Third</th>\n",
       "      <td>Alpha Centauri</td>\n",
       "      <td>G2V</td>\n",
       "      <td>-0.27</td>\n",
       "      <td>1.3</td>\n",
       "      <td>4.160283</td>\n",
       "    </tr>\n",
       "    <tr>\n",
       "      <th>Fourth</th>\n",
       "      <td>Arcturus</td>\n",
       "      <td>K1.5III</td>\n",
       "      <td>-0.04</td>\n",
       "      <td>11.4</td>\n",
       "      <td>-0.324524</td>\n",
       "    </tr>\n",
       "  </tbody>\n",
       "</table>\n",
       "</div>"
      ],
      "text/plain": [
       "                  Name Spectral_Type  Apparent_Magnitude  Distance_pc  \\\n",
       "First           Sirius           A1V               -1.46          2.6   \n",
       "Second         Canopus            F0               -0.72         99.0   \n",
       "Third   Alpha Centauri           G2V               -0.27          1.3   \n",
       "Fourth        Arcturus       K1.5III               -0.04         11.4   \n",
       "\n",
       "        Absolute_Magnitude  \n",
       "First             1.465133  \n",
       "Second           -5.698176  \n",
       "Third             4.160283  \n",
       "Fourth           -0.324524  "
      ]
     },
     "execution_count": 55,
     "metadata": {},
     "output_type": "execute_result"
    }
   ],
   "source": [
    "# Теперь подсчитаем абсолютную величину\n",
    "# Вытащим из numpy векторизованный десятичный логарифм log10\n",
    "from numpy import log10\n",
    "\n",
    "bright_stars_df['Absolute_Magnitude'] = bright_stars_df['Apparent_Magnitude'] - 5 * log10(bright_stars_df['Distance_pc'] / 10)\n",
    "\n",
    "print(\"Датафрейм с добавленными колонками 'Distance_pc' и 'Absolute_Magnitude':\")\n",
    "bright_stars_df"
   ]
  },
  {
   "cell_type": "code",
   "execution_count": 60,
   "id": "0d77295f-13f5-48cd-a6ba-d537ae1ed985",
   "metadata": {},
   "outputs": [
    {
     "name": "stdout",
     "output_type": "stream",
     "text": [
      "Средняя видимая величина: -0.62\n",
      "Максимальная абсолютная величина: 4.16\n"
     ]
    }
   ],
   "source": [
    "# Как и в NumPy, в Pandas есть встроенные общестатистические функции вроде mean, max, min, sum и так далее:\n",
    "average_apparent_mag = bright_stars_df['Apparent_Magnitude'].mean()\n",
    "print(f\"Средняя видимая величина: {average_apparent_mag:.2f}\")\n",
    "\n",
    "max_absolute_mag = bright_stars_df['Absolute_Magnitude'].max()\n",
    "print(f\"Максимальная абсолютная величина: {max_absolute_mag:.2f}\")"
   ]
  },
  {
   "cell_type": "markdown",
   "id": "6473d1dc-98cc-4f83-9a1a-fb999c00ed4c",
   "metadata": {},
   "source": [
    "## Чтение из файлов (CSV)\n",
    "\n",
    "Для чтения текстовых данных в Pandas есть функция `read_csv()` для загрузки этих файлов напрямую в DataFrame.\n",
    "\n",
    "### Пример 8: читаем локальный .csv\n",
    "\n",
    "Давайте создадим тестовый текстовый файл `exoplanet_data.csv` вручную или с помощью следующего кода:"
   ]
  },
  {
   "cell_type": "code",
   "execution_count": 61,
   "id": "f0d1dfe2-f75d-444a-ad88-a9afe33018fa",
   "metadata": {},
   "outputs": [
    {
     "name": "stdout",
     "output_type": "stream",
     "text": [
      "Создал тестовый файл 'exoplanet_data.csv'\n"
     ]
    }
   ],
   "source": [
    "csv_content = \"\"\"Name,Radius_Earth,OrbitalPeriod_days,HasWater\n",
    "Kepler-186f,1.11,129.9,True\n",
    "Kepler-1649b,1.06,8.68,False\n",
    "TRAPPIST-1e,0.91,6.10,True\n",
    "51 Pegasi b,1.50,4.23,False\n",
    "\"\"\"\n",
    "with open(\"exoplanet_data.csv\", \"w\") as f:\n",
    "    f.write(csv_content)\n",
    "\n",
    "print(\"Создал тестовый файл 'exoplanet_data.csv'\")"
   ]
  },
  {
   "cell_type": "code",
   "execution_count": 63,
   "id": "a761bc51-d2a3-4e2e-a0ac-dc1a6e37bc95",
   "metadata": {},
   "outputs": [
    {
     "name": "stdout",
     "output_type": "stream",
     "text": [
      "Датафрейм из 'exoplanet_data.csv':\n",
      "           Name  Radius_Earth  OrbitalPeriod_days  HasWater\n",
      "0   Kepler-186f          1.11              129.90      True\n",
      "1  Kepler-1649b          1.06                8.68     False\n",
      "2   TRAPPIST-1e          0.91                6.10      True\n",
      "3   51 Pegasi b          1.50                4.23     False\n",
      "\n",
      "Краткая информация про датафрейм:\n",
      "<class 'pandas.core.frame.DataFrame'>\n",
      "RangeIndex: 4 entries, 0 to 3\n",
      "Data columns (total 4 columns):\n",
      " #   Column              Non-Null Count  Dtype  \n",
      "---  ------              --------------  -----  \n",
      " 0   Name                4 non-null      object \n",
      " 1   Radius_Earth        4 non-null      float64\n",
      " 2   OrbitalPeriod_days  4 non-null      float64\n",
      " 3   HasWater            4 non-null      bool   \n",
      "dtypes: bool(1), float64(2), object(1)\n",
      "memory usage: 232.0+ bytes\n"
     ]
    }
   ],
   "source": [
    "# считаем csv в DataFrame:\n",
    "exoplanets_df = pd.read_csv(\"exoplanet_data.csv\")\n",
    "\n",
    "print(\"Датафрейм из 'exoplanet_data.csv':\")\n",
    "print(exoplanets_df)\n",
    "\n",
    "# посмотрим, какие типы колонок предположил Pandas\n",
    "print(\"\\nКраткая информация про датафрейм:\")\n",
    "exoplanets_df.info()"
   ]
  },
  {
   "cell_type": "markdown",
   "id": "c1ac38d8-58d2-4fba-b863-5dd6abee997b",
   "metadata": {},
   "source": [
    "## Чтение CSV по ссылке\n",
    "\n",
    "`read_csv()` может принимать в качестве аргумента ссылку на таблицу в сети. Pandas автоматически ее загрузит и превратит в датафрейм.\n",
    "\n",
    "### Пример 9: чтение CSV из сети (упрощенные данные экзопланетного архива)\n",
    "\n",
    "Ниже приведена ссылка на упрощенную таблицу данных архива экзопланет NASA, часто используемого в туториалах. *(внимание: ссылка может не сработать)*"
   ]
  },
  {
   "cell_type": "code",
   "execution_count": 64,
   "id": "770409b9-c4fb-42b4-9e54-5fdfc4af3ae4",
   "metadata": {},
   "outputs": [
    {
     "name": "stdout",
     "output_type": "stream",
     "text": [
      "Прочитанный из URL датафрейм:\n",
      "           name  binaryflag    mass  radius     period  semimajoraxis  \\\n",
      "0   KOI-1843.03           0  0.0014   0.054   0.176891         0.0048   \n",
      "1  Kepler-974 b           0     NaN   0.140   4.194497         0.0390   \n",
      "2   KOI-1843.02           0     NaN   0.071   6.356006         0.0520   \n",
      "3    Kepler-9 b           0  0.2500   0.840  19.224180         0.1430   \n",
      "4    Kepler-9 c           0  0.1700   0.820  39.031060         0.2290   \n",
      "\n",
      "   eccentricity  periastron  longitude  ascendingnode  ...  lastupdate  \\\n",
      "0           NaN         NaN        NaN            NaN  ...    13/07/15   \n",
      "1           NaN         NaN        NaN            NaN  ...    17/11/28   \n",
      "2           NaN         NaN        NaN            NaN  ...         NaN   \n",
      "3        0.0626         NaN        NaN            NaN  ...    15/12/03   \n",
      "4        0.0684         NaN        NaN            NaN  ...    15/12/03   \n",
      "\n",
      "   system_rightascension  system_declination system_distance  hoststar_mass  \\\n",
      "0          19 00 03.1450      +40 13 14.7985         134.833           0.52   \n",
      "1          19 00 03.1450      +40 13 14.7985         134.833           0.52   \n",
      "2          19 00 03.1450      +40 13 14.7985         134.833           0.52   \n",
      "3          19 02 17.7544      +38 24 03.1772         650.000           1.07   \n",
      "4          19 02 17.7544      +38 24 03.1772         650.000           1.07   \n",
      "\n",
      "  hoststar_radius hoststar_metallicity hoststar_temperature  hoststar_age  \\\n",
      "0            0.50                 0.07               3687.0           NaN   \n",
      "1            0.50                 0.07               3687.0           NaN   \n",
      "2            0.50                 0.07               3687.0           NaN   \n",
      "3            1.02                 0.12               5777.0           NaN   \n",
      "4            1.02                 0.12               5777.0           NaN   \n",
      "\n",
      "                list  \n",
      "0      Controversial  \n",
      "1  Confirmed planets  \n",
      "2      Controversial  \n",
      "3  Confirmed planets  \n",
      "4  Confirmed planets  \n",
      "\n",
      "[5 rows x 25 columns]\n",
      "\n",
      "Полное число строк в таблице: 4493\n",
      "\n",
      "Число планет с KOI в названии: 72\n"
     ]
    }
   ],
   "source": [
    "exoplanet_url = \"https://raw.githubusercontent.com/astroryan97/Exploring-Exoplanet-Data/main/open_exoplanet_catalogue.csv\"\n",
    "\n",
    "try:\n",
    "    # читаем прямо этот URL\n",
    "    online_exoplanets_df = pd.read_csv(exoplanet_url)\n",
    "\n",
    "    print(\"Прочитанный из URL датафрейм:\")\n",
    "    print(online_exoplanets_df.head()) # вывести только первые 5 строк (голову)\n",
    "    print(f\"\\nПолное число строк в таблице: {len(online_exoplanets_df)}\") # len делает то, что ожидается\n",
    "\n",
    "    # Быстрая проверка - сколько из этих экзопланет содержат 'KOI' в названии?\n",
    "    koi_planets = online_exoplanets_df[online_exoplanets_df['name'].str.contains('KOI', na=False)] # строки с отсутсвующими значениями не учитываем\n",
    "    print(f\"\\nЧисло планет с KOI в названии: {len(koi_planets)}\")\n",
    "\n",
    "\n",
    "except Exception as e:\n",
    "    print(f\"Не получается считать URL. Убедитесь, что он доступен.\")\n",
    "    print(f\"Детали ошибки: {e}\")"
   ]
  },
  {
   "cell_type": "code",
   "execution_count": 78,
   "id": "b964a2bc-3877-409a-a864-06ab8dcabc7c",
   "metadata": {},
   "outputs": [],
   "source": [
    "# с помощью метода to_csv можно сохранить датафрейм в CSV-файл.\n",
    "# online_exoplanets_df.to_csv('open_exoplanet_catalogue.csv', index=False) # index=False нужно, чтобы в файл не записывались индексы строк"
   ]
  },
  {
   "cell_type": "markdown",
   "id": "db5136c2-736e-40fb-9a7d-26be450052c6",
   "metadata": {},
   "source": [
    "## Обращение с отсутсвующими данными\n",
    "\n",
    "Реальные датасеты часто имеют отсутствующие значения. Пустые места Pandas преставляет как `NaN` (Not a Number). Вам нужно научиться находить такие значение и взаимодействовать с ними, убирая такие строки совсем, или заполняя их чем-то существенным.\n",
    "\n",
    "### Пример 10: обращаемся с NaN-ами"
   ]
  },
  {
   "cell_type": "code",
   "execution_count": 69,
   "id": "4e314d6a-d0d2-440e-8586-bf2bf7323ecb",
   "metadata": {},
   "outputs": [
    {
     "name": "stdout",
     "output_type": "stream",
     "text": [
      "Датафрейм с пустыми ячейками:\n",
      "        Объект  Величина  Красное смещение\n",
      "0     Звезда A       2.1             0.001\n",
      "1     Звезда Б       3.5             0.002\n",
      "2  Галактика В       NaN             0.015\n",
      "3     Звезда Г       4.8               NaN\n"
     ]
    }
   ],
   "source": [
    "# Создадим НОВЫЙ датасет с отсутствующими данными\n",
    "# импортируем из NumPy представление для nan\n",
    "from numpy import nan\n",
    "data_with_missing = {\n",
    "    'Объект': ['Звезда A', 'Звезда Б', 'Галактика В', 'Звезда Г'],\n",
    "    'Величина': [2.1, 3.5, nan, 4.8], \n",
    "    'Красное смещение': [0.001, 0.002, 0.015, nan]\n",
    "}\n",
    "missing_df = pd.DataFrame(data_with_missing)\n",
    "\n",
    "print(\"Датафрейм с пустыми ячейками:\")\n",
    "print(missing_df)"
   ]
  },
  {
   "cell_type": "code",
   "execution_count": 70,
   "id": "76e24a09-d0a1-457e-961c-a0f611e3f8a8",
   "metadata": {},
   "outputs": [
    {
     "name": "stdout",
     "output_type": "stream",
     "text": [
      "Проверка пустых значений с помощью isnull():\n",
      "   Объект  Величина  Красное смещение\n",
      "0   False     False             False\n",
      "1   False     False             False\n",
      "2   False      True             False\n",
      "3   False     False              True\n",
      "\n",
      "Число пропущенных значений на колонку:\n",
      "Объект              0\n",
      "Величина            1\n",
      "Красное смещение    1\n",
      "dtype: int64\n"
     ]
    }
   ],
   "source": [
    "print(\"Проверка пустых значений с помощью isnull():\")\n",
    "print(missing_df.isnull()) # True будет там, где находятся NaN\n",
    "\n",
    "print(\"\\nЧисло пропущенных значений на колонку:\")\n",
    "print(missing_df.isnull().sum())"
   ]
  },
  {
   "cell_type": "code",
   "execution_count": 71,
   "id": "1c4a9e51-99f9-43f6-b1d8-26d64010a527",
   "metadata": {},
   "outputs": [
    {
     "name": "stdout",
     "output_type": "stream",
     "text": [
      "Датафрейм после очистки строк с NaN:\n",
      "     Объект  Величина  Красное смещение\n",
      "0  Звезда A       2.1             0.001\n",
      "1  Звезда Б       3.5             0.002\n"
     ]
    }
   ],
   "source": [
    "# Вариант 1: убрать все строки, где есть хоть один NaN\n",
    "cleaned_df_dropped_rows = missing_df.dropna()\n",
    "print(\"Датафрейм после очистки строк с NaN:\")\n",
    "print(cleaned_df_dropped_rows)"
   ]
  },
  {
   "cell_type": "code",
   "execution_count": 72,
   "id": "d95a7164-68b6-4a8c-bd2e-3f49ed161fa8",
   "metadata": {},
   "outputs": [
    {
     "name": "stdout",
     "output_type": "stream",
     "text": [
      "Датафрейм без колонок с NaN:\n",
      "        Объект\n",
      "0     Звезда A\n",
      "1     Звезда Б\n",
      "2  Галактика В\n",
      "3     Звезда Г\n"
     ]
    }
   ],
   "source": [
    "# Вариант 2: убрать все колонки, где есть хоть один NaN\n",
    "cleaned_df_dropped_cols = missing_df.dropna(axis=1) # axis=1 означает колонки, axis=0 (по-умолчанию) - строки\n",
    "print(\"Датафрейм без колонок с NaN:\")\n",
    "print(cleaned_df_dropped_cols)"
   ]
  },
  {
   "cell_type": "code",
   "execution_count": 73,
   "id": "56c1c8a4-eca6-403a-9260-25b4af49065e",
   "metadata": {},
   "outputs": [
    {
     "name": "stdout",
     "output_type": "stream",
     "text": [
      "Датафрейм после замены NaN на 0:\n",
      "        Объект  Величина  Красное смещение\n",
      "0     Звезда A       2.1             0.001\n",
      "1     Звезда Б       3.5             0.002\n",
      "2  Галактика В       0.0             0.015\n",
      "3     Звезда Г       4.8             0.000\n"
     ]
    }
   ],
   "source": [
    "# Вариант 3: заменить NaN на что-то другое\n",
    "filled_df = missing_df.fillna(value=0) # заменяем на 0\n",
    "print(\"Датафрейм после замены NaN на 0:\")\n",
    "print(filled_df)"
   ]
  },
  {
   "cell_type": "code",
   "execution_count": 76,
   "id": "ac1c4e95-076e-4b8f-b203-95e572693ccb",
   "metadata": {},
   "outputs": [
    {
     "name": "stdout",
     "output_type": "stream",
     "text": [
      "Новый датафрейм:\n",
      "        Объект  Величина  Красное смещение\n",
      "0     Звезда A  2.100000             0.001\n",
      "1     Звезда Б  3.500000             0.002\n",
      "2  Галактика В  3.466667             0.015\n",
      "3     Звезда Г  4.800000               NaN\n"
     ]
    }
   ],
   "source": [
    "# Чуть сложнее: заполним NaN в колонке звездных величин средней величиной из колонки\n",
    "# mean() по-умолчанию игнорирует значения с NaN\n",
    "mean_magnitude = missing_df['Величина'].mean()\n",
    "filled_df_mean_mag = missing_df.fillna({'Величина': mean_magnitude}) # указываем словарь вида {'имя колонки': значение для замены}\n",
    "print(\"Новый датафрейм:\")\n",
    "print(filled_df_mean_mag)"
   ]
  },
  {
   "cell_type": "markdown",
   "id": "fd922857-fc75-4354-a9df-7a7792408727",
   "metadata": {},
   "source": [
    "**Дополнительные материалы**\n",
    "\n",
    "Шпаргалка по Pandas: <https://habr.com/ru/companies/ruvds/articles/494720/>\n",
    "\n",
    "Getting started with Pandas: <https://pandas.pydata.org/docs/getting_started/index.html#getting-started>\n",
    "\n",
    "Pandas user guide: <https://pandas.pydata.org/docs/user_guide/index.html#user-guide>\n",
    "\n",
    "Groupby with Pandas: <https://realpython.com/pandas-groupby/>\n",
    "\n",
    "Handling big data with pandas: <https://www.scaler.com/topics/pandas/handling-large-datasets-in-pandas/>"
   ]
  },
  {
   "cell_type": "markdown",
   "id": "31a29d4a-c041-48e2-acd4-8a4c5b278f6e",
   "metadata": {},
   "source": [
    "## Упражнения\n",
    "\n",
    "1. Загрузите по URL из Примера 9 таблицу в датафрейм `exoplanets_df`. Если не получается загрузить по URL, считайте с помощью `read_csv` файл `open_exoplanet_catalogue.csv`.\n",
    "2. Выведите из `exoplanets_df` только первые 5 значений колонки `mass`.\n",
    "3. Выведите из `exoplanets_df` только строку под номером 2470.\n",
    "4. Выведите радиус экзопланеты под номером 2471.\n",
    "5. Выведите названия и расстояния до тех экзопланет, что находятся ближе 10 пк (`system_distance` должно быть меньше 10)\n",
    "6. Выведите средний радиус экзопланеты из этого каталога в км (`radius` в каталоге дан в радиусах Юпитера, $R_J = 69 911$ км.)\n",
    "7. Создайте новый датафрейм `clean_exoplanets_df`, который дублирует колонки предыдущего датафрейма `name`, `mass` и  `radius`, но содержит только строки со всеми тремя значениями (без NaN).\n",
    "8. Создайте новую колонку `density` в `clean_exoplanets_df` со средней плотностью экзопланеты в г/см³ (`mass` приведены в массах Юпитера, $M_J = 1.9\\cdot10^{30}$ г)\n"
   ]
  },
  {
   "cell_type": "code",
   "execution_count": null,
   "id": "69514bee-5d4f-485d-b246-6773b4666c81",
   "metadata": {},
   "outputs": [],
   "source": []
  }
 ],
 "metadata": {
  "kernelspec": {
   "display_name": "Python 3 (ipykernel)",
   "language": "python",
   "name": "python3"
  },
  "language_info": {
   "codemirror_mode": {
    "name": "ipython",
    "version": 3
   },
   "file_extension": ".py",
   "mimetype": "text/x-python",
   "name": "python",
   "nbconvert_exporter": "python",
   "pygments_lexer": "ipython3",
   "version": "3.13.7"
  }
 },
 "nbformat": 4,
 "nbformat_minor": 5
}
