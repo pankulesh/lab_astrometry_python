{
 "cells": [
  {
   "cell_type": "markdown",
   "metadata": {},
   "source": [
    "# Функции в Python\n",
    "\n",
    "\n",
    "<div style=\"text-align: center;\">\n",
    "  <img src=\"https://i.pinimg.com/originals/62/54/61/625461863a4e43f81aa273eac4d16874.jpg\" width=\"400\"/>\n",
    "</div>\n",
    "\n",
    "В этом ноутбуке мы познакомимся с фундаментальным понятием функции.\n",
    "\n",
    "Функции используются для создания модульного и удобно используемого кода.\n",
    "\n",
    "**Задачи:**\n",
    "\n",
    "*   Понять предназначение и удобства использования функций.\n",
    "*   Определить функции, используя операцию `def`.\n",
    "*   Передавать функции аргументы разного типа, именованные аргументы и использовать аргументы по-умолчанию.\n",
    "*   Возвращать значения из функций.\n",
    "*   Описывать функции с помощью строк-описаний (docstrings)\n",
    "*   Понимать отличия между областями видимости переменных (глобальной и локальной)"
   ]
  },
  {
   "cell_type": "markdown",
   "metadata": {},
   "source": [
    "## Функции: инкапсуляция и переиспользование\n",
    "\n",
    "Рассмотрим задачу вычисления расстояния до звезды, используя её [параллактический угол](https://www.astronet.ru/db/msg/1166178):\n",
    "\n",
    "$$\n",
    "d = \\frac{1}{p}\n",
    "$$\n",
    "\n",
    "\n",
    "где $d$ — расстояние в парсеках, $p$ — параллактический угол (или кратко параллакс) в угловых секундах."
   ]
  },
  {
   "cell_type": "code",
   "execution_count": 1,
   "metadata": {},
   "outputs": [
    {
     "name": "stdout",
     "output_type": "stream",
     "text": [
      "Расстояние до звезды 1: 1.29 пк = 4.22 световых лет\n",
      "Расстояние до звезды 2: 246.31 пк = 802.96 световых лет\n"
     ]
    }
   ],
   "source": [
    "parallax_angle_star1 = 0.77233  # угловых секунд\n",
    "distance_star1_parsecs = 1 / parallax_angle_star1\n",
    "distance_star1_lightyears = distance_star1_parsecs * 3.26\n",
    "print(f\"Расстояние до звезды 1: {distance_star1_parsecs:.2f} пк = {distance_star1_lightyears:.2f} световых лет\")\n",
    "\n",
    "parallax_angle_star2 = 0.00406  # arcseconds\n",
    "distance_star2_parsecs = 1 / parallax_angle_star2\n",
    "distance_star2_lightyears = distance_star2_parsecs * 3.26\n",
    "print(f\"Расстояние до звезды 2: {distance_star2_parsecs:.2f} пк = {distance_star2_lightyears:.2f} световых лет\")"
   ]
  },
  {
   "cell_type": "markdown",
   "metadata": {},
   "source": [
    "Копировать блоки одного и того же кода, заменяя одно число — занятие неблагодарное и бессмысленное. Функции призваны избавить нас от этого страдания.\n",
    "\n",
    "## Преимущества функций:\n",
    "*   Повторное использование: избегаем избыточного кода, упаковывая необходимую логику в многоразовые модули.\n",
    "*   Модульность: разбиваем комплесные задачи на маленькие, легко понимаемые компоненты.\n",
    "*   Читаемость: увеличиваем понятность кода, называя блоки кода осмысленными именами.\n",
    "\n",
    "### Определяем функции с помощью `def`\n",
    "\n",
    "Функции определяются с использованием ключевого слова `def`, после которого следует название функции, скобки, внутри которых указаны аргументы функции (если таковые имяются), и двоеточие. Определение функции содержит отступ, как в случае с условными конструкциями и циклами.\n",
    "\n",
    "```python\n",
    "def function_name(argument1, argument2, ...):\n",
    "    \"\"\"описание функции\"\"\" # опционально, но очень желательно\n",
    "    <тело функции>\n",
    "    return value  # опционально: если функции нужно вернуть как значение некоторый результат\n",
    "```\n"
   ]
  },
  {
   "cell_type": "code",
   "execution_count": 3,
   "metadata": {},
   "outputs": [
    {
     "name": "stdout",
     "output_type": "stream",
     "text": [
      "Расстояние до звезды 1: 4.22 световых лет\n",
      "Расстояние до звезды 2: 802.96 световых лет\n"
     ]
    }
   ],
   "source": [
    "# Example 1: Функция для вычисления расстояния через параллакс\n",
    "\n",
    "def calculate_distance(parallax_angle_arcsec):\n",
    "    \"\"\"Вычисляет расстояние до звезды в световых годах, используя параллакс в секундах дуги\"\"\"\n",
    "    distance_parsecs = 1 / parallax_angle_arcsec\n",
    "    distance_lightyears = distance_parsecs * 3.26\n",
    "    return distance_lightyears\n",
    "\n",
    "star1_parallax = 0.77233\n",
    "star1_distance = calculate_distance(star1_parallax)\n",
    "print(f\"Расстояние до звезды 1: {star1_distance:.2f} световых лет\")\n",
    "\n",
    "star2_parallax = 0.00406\n",
    "star2_distance = calculate_distance(star2_parallax)\n",
    "print(f\"Расстояние до звезды 2: {star2_distance:.2f} световых лет\")\n",
    "\n",
    "# Функция скрывает от пользователя (инкапсулирует) вычисление расстояния. \n",
    "# Теперь, если расстояние будет вычисляться как-нибудь иначе (например, включая ошибку), достаточно заменить одно место в коде - определение функции"
   ]
  },
  {
   "cell_type": "markdown",
   "metadata": {
    "vscode": {
     "languageId": "plaintext"
    }
   },
   "source": [
    "## Аргументы функции (входные данные)\n",
    "\n",
    "Функции могут принимать на вход аргументы, над которыми можно проводить различные операции.\n",
    "\n",
    "К аргументу можно присвоить его значение по-умолчанию. Если при вызове функции этот аргумент не используется, функция использует его значение по-умолчанию.\n",
    "\n",
    "```python\n",
    "def function_name(argument1, argument2=default_value):\n",
    "    # argument2 будет равен default_value в случае, если его не используют при вызове функции\n",
    "    pass\n",
    "```\n",
    "\n",
    "Запишем ниже пример для функции, вычисляющей силу гравитационного ньютоновского притяжения:\n",
    "\n",
    "$$\n",
    "F = G \\frac{m_1 m_2}{r^2},\n",
    "$$\n",
    "\n",
    "**где:**\n",
    "\n",
    "- $F$ — искомая сила в Ньютонах, Н \n",
    "- $G$ — гравитационная постоянная (`6.674 × 10⁻¹¹ Н·м²/кг²`)  \n",
    "- $m_1$ и $m_2$ — массы взаимодействующих объектов в килограммах, кг  \n",
    "- $r$ — расстояние между этими массами в метрах, м. Сделаем его по умолчанию равным 1000 км, или 10⁶ м"
   ]
  },
  {
   "cell_type": "code",
   "execution_count": 9,
   "metadata": {},
   "outputs": [
    {
     "name": "stdout",
     "output_type": "stream",
     "text": [
      "Сила тяготения между двумя объектами массой 1 кг на 1000 км: 6.67e-23 Н\n",
      "Сила тяготения между Землей и Солнцем: 3.54e+22 Н\n",
      "Сила тяготения между Землей и Луной: 1.98e+20 Н\n"
     ]
    }
   ],
   "source": [
    "def calculate_gravitational_force(mass1, mass2, distance=1e6):\n",
    "    \"\"\"Вычисляет силу тяготения между двумя массами на определенном расстоянии.\n",
    "\n",
    "    Аргументы:\n",
    "        mass1 (float): Масса первого объекта (в кг).\n",
    "        mass2 (float): Масса второго объекта (в кг).\n",
    "        distance (float): Расстояние между объектами (в м), по-умолчанию 1e6\n",
    "\n",
    "    Возвращает:\n",
    "        float: Значение силы тяготения (в Н).\n",
    "    \"\"\"\n",
    "    G = 6.674e-11\n",
    "    force = (G * mass1 * mass2) / (distance ** 2)\n",
    "    return force\n",
    "\n",
    "earth_mass = 5.972e24  # кг\n",
    "moon_mass = 7.348e22  # кг\n",
    "sun_mass = 1.989e30 # кг\n",
    "earth_moon_distance = 3.844e8  # м\n",
    "earth_sun_distance = 1.496e11 # м\n",
    "\n",
    "print(f\"Сила тяготения между двумя объектами массой 1 кг на 1000 км: {calculate_gravitational_force(1, 1):.2e} Н\")\n",
    "print(f\"Сила тяготения между Землей и Солнцем: {calculate_gravitational_force(earth_mass, sun_mass, earth_sun_distance):.2e} Н\")\n",
    "print(f\"Сила тяготения между Землей и Луной: {calculate_gravitational_force(earth_mass, moon_mass, earth_moon_distance):.2e} Н\")\n",
    "# print(f\"Сила тяготения между Луной и Солнцем: {calculate_gravitational_force(sun_mass, moon_mass, earth_sun_distance):.2e} Н\") "
   ]
  },
  {
   "cell_type": "markdown",
   "metadata": {},
   "source": [
    "## Возврат значений (выходные данные)\n",
    "\n",
    "Функция может возвращать значения с помощью инструкции `return`. Возвращаемое значение может быть любого типа. \n",
    "\n",
    "Если такой инструкции нет в описании функции, функция возвращает \"пустой\" тип `None`.\n",
    "\n",
    "Пример ниже — функция определения спектрального типа звезды по её температуре. Для большей информации смотри, например, [статью на Википедии](https://ru.wikipedia.org/wiki/%D0%A1%D0%BF%D0%B5%D0%BA%D1%82%D1%80%D0%B0%D0%BB%D1%8C%D0%BD%D0%B0%D1%8F_%D0%BA%D0%BB%D0%B0%D1%81%D1%81%D0%B8%D1%84%D0%B8%D0%BA%D0%B0%D1%86%D0%B8%D1%8F_%D0%B7%D0%B2%D1%91%D0%B7%D0%B4)."
   ]
  },
  {
   "cell_type": "code",
   "execution_count": 10,
   "metadata": {},
   "outputs": [
    {
     "name": "stdout",
     "output_type": "stream",
     "text": [
      "Звезда с температурой 25000 K имеет спектральный тип B\n",
      "Звезда с температурой 4500 K имеет спектральный тип K\n"
     ]
    }
   ],
   "source": [
    "\n",
    "def classify_star(temperature_kelvin):\n",
    "    \"\"\"Классифицирует звезду на основе её температуры в Кельвинах.\n",
    "\n",
    "    Возвращает:\n",
    "        str: Спектральный тип (\"O\", \"B\", \"A\", \"F\", \"G\", \"K\", \"M\", or \"Неизвестный\").\n",
    "    \"\"\"\n",
    "    if temperature_kelvin >= 30000:\n",
    "        return \"O\"\n",
    "    elif 10000 <= temperature_kelvin < 30000:\n",
    "        return \"B\"\n",
    "    elif 7500 <= temperature_kelvin < 10000:\n",
    "        return \"A\"\n",
    "    elif 6000 <= temperature_kelvin < 7500:\n",
    "        return \"F\"\n",
    "    elif 5200 <= temperature_kelvin < 6000:\n",
    "        return \"G\"\n",
    "    elif 3700 <= temperature_kelvin < 5200:\n",
    "        return \"K\"\n",
    "    elif temperature_kelvin < 3700:\n",
    "        return \"M\"\n",
    "    else:\n",
    "        return \"Неизвестный\"\n",
    "\n",
    "star1_temperature = 25000\n",
    "star1_spectral_type = classify_star(star1_temperature)\n",
    "print(f\"Звезда с температурой {star1_temperature} K имеет спектральный тип {star1_spectral_type}\")\n",
    "\n",
    "star2_temperature = 4500\n",
    "star2_spectral_type = classify_star(star2_temperature)\n",
    "print(f\"Звезда с температурой {star2_temperature} K имеет спектральный тип {star2_spectral_type}\")"
   ]
  },
  {
   "cell_type": "markdown",
   "metadata": {},
   "source": [
    "## Строки документации: описание функций\n",
    "\n",
    "Так называемый docstring (documentation string) — специально встроенный функционал для описание действия функций, её аргументов и возвращаемых значений. Ведение таких строк документаций необходимо для поддержания кода, особенно несколькими людьми.\n",
    "\n",
    "Вводят их как строку, обрамленную тремя кавычками (`\"\"\"Вот сюда докстринг\"\"\"`).\n",
    "\n",
    "Для доступа к докстрингу используйте функцию `help` (например, `help(function_name)` или `function_name.__doc__`). У всех стандартных функций есть докстринги!"
   ]
  },
  {
   "cell_type": "code",
   "execution_count": 16,
   "metadata": {},
   "outputs": [
    {
     "name": "stdout",
     "output_type": "stream",
     "text": [
      "Help on function classify_star in module __main__:\n",
      "\n",
      "classify_star(temperature_kelvin)\n",
      "    Классифицирует звезду на основе её температуры в Кельвинах.\n",
      "\n",
      "    Возвращает:\n",
      "        str: Спектральный тип (\"O\", \"B\", \"A\", \"F\", \"G\", \"K\", \"M\", or \"Неизвестный\").\n",
      "\n"
     ]
    }
   ],
   "source": [
    "help(classify_star)"
   ]
  },
  {
   "cell_type": "code",
   "execution_count": 17,
   "metadata": {},
   "outputs": [
    {
     "data": {
      "text/plain": [
       "'Return the number of items in a container.'"
      ]
     },
     "execution_count": 17,
     "metadata": {},
     "output_type": "execute_result"
    }
   ],
   "source": [
    "len.__doc__"
   ]
  },
  {
   "cell_type": "markdown",
   "metadata": {},
   "source": [
    "## Область видимости переменных\n",
    "\n",
    "Область видимости ограничивает пространство, где можно обращаться к переменной.\n",
    "\n",
    "Переменные, определенные внутри функции, имеют *локальную область видимости* и доступны только внутри этой функции.\n",
    "\n",
    "Переменные, определенные извне функций, имеют *глобальную область видимости* и доступны везде.\n",
    "\n",
    "Внутри функций лучше минимизировать использование глобальных переменных для лучшей читаемости."
   ]
  },
  {
   "cell_type": "code",
   "execution_count": 19,
   "metadata": {},
   "outputs": [
    {
     "name": "stdout",
     "output_type": "stream",
     "text": [
      "Внутри функции:\n",
      "Видна глобально\n",
      "Видна локально\n",
      "Снаружи функции:\n",
      "Видна глобально\n"
     ]
    },
    {
     "ename": "NameError",
     "evalue": "name 'local_variable' is not defined",
     "output_type": "error",
     "traceback": [
      "\u001b[31m---------------------------------------------------------------------------\u001b[39m",
      "\u001b[31mNameError\u001b[39m                                 Traceback (most recent call last)",
      "\u001b[36mCell\u001b[39m\u001b[36m \u001b[39m\u001b[32mIn[19]\u001b[39m\u001b[32m, line 15\u001b[39m\n\u001b[32m     13\u001b[39m \u001b[38;5;28mprint\u001b[39m(\u001b[33m\"\u001b[39m\u001b[33mСнаружи функции:\u001b[39m\u001b[33m\"\u001b[39m)\n\u001b[32m     14\u001b[39m \u001b[38;5;28mprint\u001b[39m(global_variable)  \u001b[38;5;66;03m# Accessing global is allowed\u001b[39;00m\n\u001b[32m---> \u001b[39m\u001b[32m15\u001b[39m \u001b[38;5;28mprint\u001b[39m(\u001b[43mlocal_variable\u001b[49m)  \u001b[38;5;66;03m# Error: local_variable is not defined outside my_function\u001b[39;00m\n",
      "\u001b[31mNameError\u001b[39m: name 'local_variable' is not defined"
     ]
    }
   ],
   "source": [
    "# Пример: область видимости\n",
    "\n",
    "global_variable = \"Видна глобально\"\n",
    "\n",
    "def my_function():\n",
    "    local_variable = \"Видна локально\"\n",
    "    print(\"Внутри функции:\")\n",
    "    print(global_variable)  # Accessing global is allowed\n",
    "    print(local_variable)\n",
    "\n",
    "my_function()\n",
    "\n",
    "print(\"Снаружи функции:\")\n",
    "print(global_variable)  # Accessing global is allowed\n",
    "print(local_variable)  # Error: local_variable is not defined outside my_function"
   ]
  },
  {
   "cell_type": "markdown",
   "metadata": {},
   "source": [
    "## Примеры использования в астрономических вычислениях"
   ]
  },
  {
   "cell_type": "code",
   "execution_count": 20,
   "metadata": {},
   "outputs": [
    {
     "name": "stdout",
     "output_type": "stream",
     "text": [
      "Излучение абсолютно черного тела на длине волны 500.0 нм и 5778 K: 2.64e+13 Вт/м^2/ср/м\n"
     ]
    }
   ],
   "source": [
    "# Вычислим чернотельное излучение по функции Планка\n",
    "\n",
    "from math import exp, pi # используем определенные извне функции и константы из библиотеки math\n",
    "\n",
    "def calculate_blackbody_radiation(temperature, wavelength):\n",
    "    \"\"\"Calculates blackbody spectral radiance at a given temperature and wavelength.\n",
    "\n",
    "    Args:\n",
    "        temperature (float): Temperature (Kelvin).\n",
    "        wavelength (float): Wavelength (meters).\n",
    "\n",
    "    Returns:\n",
    "        float: Blackbody spectral radiance (W / m^2 / sr / m).\n",
    "    \"\"\"\n",
    "    c = 2.998e8   # скорость света (m/s)\n",
    "    h = 6.626e-34  # Постоянная Планка (J s)\n",
    "    k = 1.381e-23  # Постоянная Больцмана (J/K)\n",
    "\n",
    "    intensity = (2 * h * c**2 / wavelength**5) / (exp((h * c) / (wavelength * k * temperature)) - 1)\n",
    "    return intensity\n",
    "\n",
    "# Example usage:\n",
    "temperature = 5778  # Поверхностная температура Солнца (K)\n",
    "wavelength = 500e-9  # Длина волны зеленого света (m)\n",
    "radiance = calculate_blackbody_radiation(temperature, wavelength)\n",
    "print(f\"Излучение абсолютно черного тела на длине волны {wavelength*1e9:.1f} нм и {temperature} K: {radiance:.2e} Вт/м^2/ср/м\")"
   ]
  },
  {
   "cell_type": "markdown",
   "metadata": {},
   "source": [
    "## Для дополнительного чтения\n",
    "\n",
    "Встроенные в Python функции: <https://docs.python.org/3/library/functions.html>. \n",
    "\n",
    "Яндекс-учебник: раздел 4 <https://education.yandex.ru/handbook/python/article/funkcii-oblasti-vidimosti-peredacha-parametrov-v-funkcii>."
   ]
  },
  {
   "cell_type": "markdown",
   "metadata": {},
   "source": [
    "## Упражнения\n",
    "\n",
    "1.  Площадь сферы: создайте функцию, возвращающую площадь сферы по её радиусу в качестве аргумента.\n",
    "\n",
    "2.  Закон смещения Вина: создайте функцию для определения длины волны, на которую приходится максимум чернотельного излучения для черного тела определенной температуры, используя формулу Вина (длина волны = постоянная Вина / температура). Постоянная Вина ≈ 2.898e-3 м К. Длину волны принимайте в нанометрах.\n",
    "   \n",
    "3.  Високосный год: создайте функцию, которая по номеру года (> 2000) определяет, високосный этот год в григорианском календаре или нет.\n"
   ]
  },
  {
   "cell_type": "code",
   "execution_count": null,
   "metadata": {},
   "outputs": [],
   "source": []
  }
 ],
 "metadata": {
  "kernelspec": {
   "display_name": "Python 3 (ipykernel)",
   "language": "python",
   "name": "python3"
  },
  "language_info": {
   "codemirror_mode": {
    "name": "ipython",
    "version": 3
   },
   "file_extension": ".py",
   "mimetype": "text/x-python",
   "name": "python",
   "nbconvert_exporter": "python",
   "pygments_lexer": "ipython3",
   "version": "3.13.3"
  }
 },
 "nbformat": 4,
 "nbformat_minor": 4
}
