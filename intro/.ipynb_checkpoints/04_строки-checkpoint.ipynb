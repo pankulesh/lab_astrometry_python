{
 "cells": [
  {
   "cell_type": "markdown",
   "id": "0",
   "metadata": {},
   "source": [
    "# Строки и операции с ними\n",
    "\n",
    "\n",
    "<div style=\"text-align: center;\">\n",
    "  <img src=\"https://www.astroasheville.org/wp-content/uploads/2019/06/25BrightestStars_Jittasaiyapan_960.jpg\" width=\"800\"/>\n",
    "</div>\n",
    "\n",
    "## Содержание  \n",
    "\n",
    "Эта лекция посвящена строкам и операциям над ними. Python обладает мощным инструментарием операций с текстом, что помогает при анализе и форматировании текстовых данных для их более удобного чтения и записи.  \n",
    "\n",
    "## Задачи \n",
    "\n",
    "Освоение этого ноутбука поможет вам:  \n",
    "\n",
    "- Обрабатывать строки в Python, создавать их, объединять и повторять;\n",
    "- Использовать встроенные методы `lower()`, `upper()`, `strip()`, `replace()`, и `split()` для обработки данных.  \n",
    "- Форматировать строки методом `format()` и f-строками.  \n",
    "- Извлекать из строк конкретные значения, такие как координаты, аттрибуты или метаданные обзоров."
   ]
  },
  {
   "cell_type": "markdown",
   "id": "1",
   "metadata": {},
   "source": [
    "## 1. Создание строк\n",
    "Вы уже знаете, что строки могут быть созданы с помощью одиночных, двойных и тройных кавычек:"
   ]
  },
  {
   "cell_type": "code",
   "execution_count": 7,
   "id": "2",
   "metadata": {},
   "outputs": [
    {
     "name": "stdout",
     "output_type": "stream",
     "text": [
      "Бетельгейзе HD 39801\n",
      "Бетельгейзе — это красный сверхгигант.\n",
      "Она находится в созвездии Ориона.\n"
     ]
    }
   ],
   "source": [
    "object_name = \"Бетельгейзе\"\n",
    "catalog_entry = 'HD 39801'\n",
    "multiline_string = \"\"\"Бетельгейзе — это красный сверхгигант.\n",
    "Она находится в созвездии Ориона.\"\"\"\n",
    "print(object_name, catalog_entry)\n",
    "print(multiline_string)"
   ]
  },
  {
   "cell_type": "markdown",
   "id": "cdd33aa4-2e7e-43c2-9bf1-84bf1064c327",
   "metadata": {},
   "source": [
    "Со строкой можно обращаться также, как с кортежом из символов в плане индексации и срезов:"
   ]
  },
  {
   "cell_type": "code",
   "execution_count": 5,
   "id": "f98ad66d-0c2f-4d5c-a743-5a8e2f1a8d6f",
   "metadata": {},
   "outputs": [
    {
     "name": "stdout",
     "output_type": "stream",
     "text": [
      "А\n",
      "я\n",
      "метрия\n"
     ]
    }
   ],
   "source": [
    "title = 'Астрометрия'\n",
    "print(title[0]) # показать первый символ\n",
    "print(title[-1]) # показать последний символ\n",
    "print(title[5:]) # показать символы с шестого по третий с конца"
   ]
  },
  {
   "cell_type": "markdown",
   "id": "3",
   "metadata": {},
   "source": [
    "## 2. Соединение строк\n",
    "Часто нужно объединять множество строк в одну. Оператор `+` превращает левый и правый операнд в одну строку, \"склеивая\" их:"
   ]
  },
  {
   "cell_type": "code",
   "execution_count": 11,
   "id": "4",
   "metadata": {},
   "outputs": [
    {
     "name": "stdout",
     "output_type": "stream",
     "text": [
      "Созвездие Орион является домом для Бетельгейзе и множества других ярких звезд.\n"
     ]
    }
   ],
   "source": [
    "constellation = \"Орион\"\n",
    "description = \" является домом для \" + object_name + \" и множества других ярких звезд.\"\n",
    "print(\"Созвездие \" + constellation + description)"
   ]
  },
  {
   "cell_type": "markdown",
   "id": "5",
   "metadata": {},
   "source": [
    "## Использование f-строк\n",
    "\n",
    "Вы уже встречали обозначения в виде f-строк в прошлых ноутбуках. Если перед кавычками с объявлением строки написать f, то внутри строки в фигурных скобках можно записывать названия переменных, что позволит вставлять их значение на указанное место:"
   ]
  },
  {
   "cell_type": "code",
   "execution_count": 12,
   "id": "6",
   "metadata": {},
   "outputs": [
    {
     "name": "stdout",
     "output_type": "stream",
     "text": [
      "Звезда Бетельгейзе является частью созвездия Орион.\n"
     ]
    }
   ],
   "source": [
    "concatenated_string = f\"Звезда {object_name} является частью созвездия {constellation}.\"\n",
    "print(concatenated_string)"
   ]
  },
  {
   "cell_type": "markdown",
   "id": "62b2aa56",
   "metadata": {},
   "source": [
    "## 3. Повторение строк с помощью оператора `*`\n",
    "Оператор `*` позволяет повторить строку целое число раз:"
   ]
  },
  {
   "cell_type": "code",
   "execution_count": 17,
   "id": "6635027e",
   "metadata": {},
   "outputs": [
    {
     "name": "stdout",
     "output_type": "stream",
     "text": [
      "------------------------------\n",
      "ВАЖНОЕ СООБЩЕНИЕ! ВАЖНОЕ СООБЩЕНИЕ! ВАЖНОЕ СООБЩЕНИЕ! \n"
     ]
    }
   ],
   "source": [
    "separator = \"-\" * 30\n",
    "print(separator)\n",
    "message = (\"ВАЖНОЕ СООБЩЕНИЕ! \" * 3)\n",
    "print(message)"
   ]
  },
  {
   "cell_type": "markdown",
   "id": "96d05709",
   "metadata": {},
   "source": [
    "## 4. Методы строк\n",
    "Давайте познакомимся с основными методами строк. Их огромное количество, со всеми можно ознакомиться в официальной документации <https://docs.python.org/3/library/stdtypes.html#string-methods>.\n"
   ]
  },
  {
   "cell_type": "code",
   "execution_count": 22,
   "id": "d720fcb8",
   "metadata": {},
   "outputs": [
    {
     "name": "stdout",
     "output_type": "stream",
     "text": [
      "Сириус А-----\n",
      "-----Сириус А\n",
      "Сириус А\n",
      "-----Сириус А-----\n"
     ]
    }
   ],
   "source": [
    "star_name = \"-----Сириус А-----\"  # Допустим, у нас есть строка с лишним обрамлением. Встроенными методами её можно \"почистить\":\n",
    "print(star_name.lstrip('-'))  # Убрать слева\n",
    "print(star_name.rstrip('-'))  # Убрать справа\n",
    "print(star_name.strip('-'))  # Убрать с обоих сторон"
   ]
  },
  {
   "cell_type": "code",
   "execution_count": 21,
   "id": "713dac83",
   "metadata": {},
   "outputs": [
    {
     "name": "stdout",
     "output_type": "stream",
     "text": [
      "главная последовательность\n",
      "ГЛАВНАЯ ПОСЛЕДОВАТЕЛЬНОСТЬ\n"
     ]
    }
   ],
   "source": [
    "# Можно быстро преобразовывать строчные и заглавные буквы\n",
    "star_type = \"Главная последовательность\"\n",
    "print(star_type.lower())  # все в строчные\n",
    "print(star_type.upper())  # все в заглавные"
   ]
  },
  {
   "cell_type": "code",
   "execution_count": 25,
   "id": "58951f4d",
   "metadata": {},
   "outputs": [
    {
     "name": "stdout",
     "output_type": "stream",
     "text": [
      "Вега — это звезда главной последовательности.\n"
     ]
    }
   ],
   "source": [
    "# Замена подстроки на строку осуществляется методом replace\n",
    "star_description = \"Вега — это белый карлик.\"\n",
    "corrected_description = star_description.replace(\"белый карлик\", \"звезда главной последовательности\")\n",
    "print(corrected_description)"
   ]
  },
  {
   "cell_type": "markdown",
   "id": "32cde173",
   "metadata": {},
   "source": [
    "## 5. Поиск индекса подстроки"
   ]
  },
  {
   "cell_type": "code",
   "execution_count": 28,
   "id": "4a316c5d",
   "metadata": {},
   "outputs": [
    {
     "name": "stdout",
     "output_type": "stream",
     "text": [
      "Индекс 'спиральная' в строке: 42\n",
      "Галактика Андромеды — это ближайшая к нам \n"
     ]
    }
   ],
   "source": [
    "galaxy_description = \"Галактика Андромеды — это ближайшая к нам спиральная галактика.\"\n",
    "position = galaxy_description.find(\"спиральная\")\n",
    "print(\"Индекс 'спиральная' в строке:\", position)\n",
    "print(galaxy_description[:position]) # показать подстроку, начиная с этой позиции и до конца "
   ]
  },
  {
   "cell_type": "markdown",
   "id": "736ba453",
   "metadata": {},
   "source": [
    "## 6. Считаем число вхождений подстроки в строку"
   ]
  },
  {
   "cell_type": "code",
   "execution_count": 29,
   "id": "d1be1c56",
   "metadata": {},
   "outputs": [
    {
     "name": "stdout",
     "output_type": "stream",
     "text": [
      "Число вхождений слова 'спираль': 2\n"
     ]
    }
   ],
   "source": [
    "text_data = \"Млечный путь является спиральной галактикой. Галактика Андромеда тоже является спиральной.\"\n",
    "count_spiral = text_data.count(\"спираль\")\n",
    "print(\"Число вхождений слова 'спираль':\", count_spiral)"
   ]
  },
  {
   "cell_type": "markdown",
   "id": "35fe9f4e",
   "metadata": {},
   "source": [
    "## 7. Форматирование строк\n",
    "С операторами форматирования вы тоже встречались в предыдущих ноутбуках:"
   ]
  },
  {
   "cell_type": "code",
   "execution_count": 37,
   "id": "6fed7253",
   "metadata": {},
   "outputs": [
    {
     "name": "stdout",
     "output_type": "stream",
     "text": [
      "Координаты Сириуса:\n",
      " RA:    06h 45m 08.9s\n",
      "Dec:          -16.716°\n"
     ]
    }
   ],
   "source": [
    "declination = -16.7161\n",
    "right_ascension = \"06h 45m 08.9s\"\n",
    "formatted_string = f\"\"\"Координаты Сириуса:\n",
    "{\"RA:\":^5}{right_ascension:>16}\n",
    "{\"Dec:\":^5}{declination:>16.3f}°\"\"\"\n",
    "print(formatted_string)"
   ]
  },
  {
   "cell_type": "markdown",
   "id": "bdeee6b0",
   "metadata": {},
   "source": [
    "## 8. Разбиение строк\n",
    "Метод `split(sep)` возвращает список из подстрок строки, которые разделены символами `sep`:"
   ]
  },
  {
   "cell_type": "code",
   "execution_count": 39,
   "id": "470d39d7",
   "metadata": {},
   "outputs": [
    {
     "name": "stdout",
     "output_type": "stream",
     "text": [
      "['NGC 224', 'Andromeda Galaxy']\n",
      "Object ID: NGC 224\n",
      "Object Name: Andromeda Galaxy\n"
     ]
    }
   ],
   "source": [
    "catalog_entry = \"NGC 224 - Andromeda Galaxy\"\n",
    "parts = catalog_entry.split(\" - \")  # Разбиваем по строке \" - \"\n",
    "print(parts)\n",
    "print(\"Object ID:\", parts[0])  \n",
    "print(\"Object Name:\", parts[1])"
   ]
  },
  {
   "cell_type": "markdown",
   "id": "70b5fae7",
   "metadata": {},
   "source": [
    "## 9. Объединение списка строк в одну с помощью `join()`\n",
    "Метод `join(list)` позволяет объединить список строк в одну строку:"
   ]
  },
  {
   "cell_type": "code",
   "execution_count": 45,
   "id": "2c405b9a",
   "metadata": {},
   "outputs": [
    {
     "name": "stdout",
     "output_type": "stream",
     "text": [
      "Млечный Путь | Треугольник | БМО | ММО | Андромеда\n"
     ]
    }
   ],
   "source": [
    "word_list = [\"Млечный Путь\", \"Треугольник\", \"БМО\", \"ММО\", \"Андромеда\"]\n",
    "joined_string = \" | \".join(word_list)\n",
    "print(joined_string)"
   ]
  },
  {
   "cell_type": "markdown",
   "id": "f0fa565c",
   "metadata": {},
   "source": [
    "## 10. Считаем из строки координат сами координаты:"
   ]
  },
  {
   "cell_type": "code",
   "execution_count": 51,
   "id": "9dfbee40",
   "metadata": {},
   "outputs": [
    {
     "name": "stdout",
     "output_type": "stream",
     "text": [
      "['10h', '56m', '29s']\n",
      "['-07°', \"00'\", '52\"']\n",
      "Прямое восхождение: 10.94139h\n",
      "Склонение: -6.98556°\n"
     ]
    }
   ],
   "source": [
    "coordinates = \"\"\"RA: 10h 56m 29s, Dec: +07° 00' 52\" \"\"\"  # Проверочная строка, преобразуем её в десятичные часы и градусы:\n",
    "ra_dec_split = coordinates.split(\", \") # разбиваем по запятой\n",
    "\n",
    "ra_list = ra_dec_split[0].replace(\"RA: \", \"\").split() #убираем RA: и разбиваем по пробелам\n",
    "print(ra_list)\n",
    "\n",
    "ra = int(ra_list[0][:-1]) + int(ra_list[1][:-1]) / 60 + int(ra_list[2][:-1]) / 3600 # вытаскиваем последовательно часы, минуты и секунды\n",
    "\n",
    "dec_list = ra_dec_split[1].replace(\"Dec: \", \"\").split() # убираем Dec: и разбиваем по пробелам\n",
    "print(dec_list)\n",
    "dec = int(dec_list[0][:-1]) + int(dec_list[1][:-1]) / 60 + int(dec_list[2][:-1]) / 3600 # вытаскиваем последовательно градусы, минуты и секунды. Знак игнорируем\n",
    "\n",
    "print(f\"Прямое восхождение: {ra:.5f}h\")\n",
    "print(f\"Склонение: {dec:.5f}°\")"
   ]
  },
  {
   "cell_type": "markdown",
   "id": "4cc91747",
   "metadata": {},
   "source": [
    "## 11. Проверка на вхождение в строку\n",
    "Оператор `in` позволяет проверить вхождение элемента в строку (работает и с другими коллекциями тоже):"
   ]
  },
  {
   "cell_type": "code",
   "execution_count": 37,
   "id": "d2f9afbb",
   "metadata": {},
   "outputs": [
    {
     "name": "stdout",
     "output_type": "stream",
     "text": [
      "В этой строке есть что-то про нашу Галактику!\n"
     ]
    }
   ],
   "source": [
    "object_info = \"Галактика Млечный Путь, Солнечная система\"\n",
    "if \"Млечный Путь\" in object_info:\n",
    "    print(\"В этой строке есть что-то про нашу Галактику!\")\n",
    "else:\n",
    "    print(\"В этой строке нет ничего про Млечный путь...\")"
   ]
  },
  {
   "cell_type": "markdown",
   "id": "41f0c275",
   "metadata": {},
   "source": [
    "## Вопросы и упражнения\n",
    "\n",
    "1. Создайте строку `celestial_body` с названием и типом какого-нибудь небесного тела, которые разделены пробелом.\n",
    "2. Преобразуйте и выведите строку `celestial_body` так, чтобы только название было из строчных букв.\n",
    "3. Извлеките и выведите из строки `celestial_body` только тип объекта с помощью встроенных методов.\n",
    "4. В переменной `amount` лежит целое неотрицательное число. Выведите строку `celestial_body` `amount` раз.\n",
    "5. Выведите `celestial_body` в виде таблицы, где название отформатировано по левому краю, а тип объекта - по правому, и пусть у неё будет `amount + 1` строк.\n",
    "\n",
    "   Пример для `celestial_body == 'Солнце Звезда'` и `amount == 3`:\n",
    "   ```\n",
    "   | Название | Тип объекта |\n",
    "   | Солнце   |      Звезда |\n",
    "   | Солнце   |      Звезда |\n",
    "   | Солнце   |      Звезда |\n",
    "   ```\n",
    "8. В .csv файлах первая строка состоит из строки, которая начинается с символа `#` и дальше содержит названия колонок, разделенные запятыми(например, ). Предположим, что в переменной `first_line` лежит такая первая строка. Как создать список `header`, содержащий в себе названия колонок и только их? Считайте, что в названиях колонок могут быть любые символы, кроме запятых.\n",
    "\n",
    "   Пример: если `first_line = #Name,type,B_mag,distance`, то в `header` должно содержаться `['Name', 'type', 'B_mag', 'distance']`.\n",
    "9. В пункте 10 мы считали прямое восхождение и склонение из строки без учета знака склонения. Как при считывании произвольной строки `coordinates` в том же формате можно учесть и положительные, и отрицательные склонения? \n",
    "\n",
    "   Пример: для `coordinates = \"\"\"RA: 10h 56m 29s, Dec: -07° 00' 52\" \"\"\"`\n",
    "\n",
    "   Вывод: ``` Прямое восхождение: 10.94139h, Склонение: -7.01444°```\n",
    "\n",
    "Ответы на каждое упражнение запишите в ячейки ниже и сохраните."
   ]
  },
  {
   "cell_type": "code",
   "execution_count": null,
   "id": "28",
   "metadata": {},
   "outputs": [],
   "source": []
  }
 ],
 "metadata": {
  "kernelspec": {
   "display_name": "Python 3 (ipykernel)",
   "language": "python",
   "name": "python3"
  },
  "language_info": {
   "codemirror_mode": {
    "name": "ipython",
    "version": 3
   },
   "file_extension": ".py",
   "mimetype": "text/x-python",
   "name": "python",
   "nbconvert_exporter": "python",
   "pygments_lexer": "ipython3",
   "version": "3.13.7"
  }
 },
 "nbformat": 4,
 "nbformat_minor": 5
}
