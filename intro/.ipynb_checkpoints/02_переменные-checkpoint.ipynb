{
 "cells": [
  {
   "cell_type": "markdown",
   "id": "0",
   "metadata": {},
   "source": [
    "# Переменные и типы данных\n",
    "\n",
    "\n",
    "<div style=\"text-align: center;\">\n",
    "  <img src=\"https://physicsworld.com/wp-content/uploads/2022/03/Planets-in-Alpha-Centauri-system-could-be-carbon-rich-%E2%80%93-if-they-exist.jpg\" width=\"800\"/>\n",
    "</div>\n",
    "\n",
    "\n",
    "\n",
    "## Обзор\n",
    "\n",
    "Эта лекция знакомит с базовыми понятиями переменных и типов данных в Python. Также рассматриваются их приложения в астрономии. Это станет основой для последующих тем, связанных с обработкой астрономических данных, так как переменные позволяют хранить и изменять информацию, а типы данных определяют, какие операции можно выполнять с этой информацией. В лекции будут рассмотрены присваивание переменных, правила их наименования и различные типы данных, доступные в Python, с практическими астрономическими примерами.\n",
    "\n",
    "## Задачи\n",
    "\n",
    "По завершению этого ноутбука вы научитесь:\n",
    "\n",
    "- Определять и использовать переменные в Python согласно соглашениям об их именах и присвоении.\n",
    "- Идентифицировать и использовать различные типы данных Python, включая целые числа, числа с плавающей запятой, строки, булевы переменные, списки и словари.\n",
    "- Понимать, какие типы данных применяются в астрономическом контексте, таком как координаты и физические характеристики.\n",
    "- Проделывать базовые операции на различных типах данных.\n",
    "- Применять понятия переменных в решении реальных задач."
   ]
  },
  {
   "cell_type": "markdown",
   "id": "1",
   "metadata": {},
   "source": [
    "## Что такое переменная?\n",
    "Переменная — это распространённый термин в программировании для хранения информации. В Python переменная — это символическое имя, которое ссылается на объект или указывает на него. Как только объект присвоен переменной, вы можете обращаться к этому объекту по имени переменной (как \"ярлык\" для объекта, в котором записаны данные)\n",
    "\n",
    "Ниже приведён пример создания переменной строкового типа. Кстати, это ближайшая к нам звездная система."
   ]
  },
  {
   "cell_type": "code",
   "execution_count": 1,
   "id": "2",
   "metadata": {},
   "outputs": [],
   "source": [
    "star_name = \"Проксима Центавра\""
   ]
  },
  {
   "cell_type": "markdown",
   "id": "3",
   "metadata": {},
   "source": [
    "Теперь переменная `star_name` содержит строку `Альфа Центавра`\n",
    "\n",
    "Чтобы просмотреть содержание переменной, можно воспользоваться функцией `print()`:"
   ]
  },
  {
   "cell_type": "code",
   "execution_count": 2,
   "id": "4",
   "metadata": {},
   "outputs": [
    {
     "name": "stdout",
     "output_type": "stream",
     "text": [
      "Проксима Центавра\n"
     ]
    }
   ],
   "source": [
    "print (star_name)"
   ]
  },
  {
   "cell_type": "markdown",
   "id": "5",
   "metadata": {},
   "source": [
    "Внутри ячеек Jupyter Notebook можно просто указать имя переменной, и ячейка выведет её содержимое:"
   ]
  },
  {
   "cell_type": "code",
   "execution_count": 3,
   "id": "1f743837-92eb-4b58-8ba0-98c0223c657d",
   "metadata": {},
   "outputs": [
    {
     "data": {
      "text/plain": [
       "'Проксима Центавра'"
      ]
     },
     "execution_count": 3,
     "metadata": {},
     "output_type": "execute_result"
    }
   ],
   "source": [
    "star_name"
   ]
  },
  {
   "cell_type": "markdown",
   "id": "b6bd9e0c-84a1-4e37-88ba-1135d94b52c7",
   "metadata": {},
   "source": [
    "Регистр названия (большие или маленькие буквы) важен, как и регистр команд:"
   ]
  },
  {
   "cell_type": "code",
   "execution_count": 45,
   "id": "9dabe7e0-4bff-4073-8dc7-dfbada684107",
   "metadata": {},
   "outputs": [
    {
     "ename": "NameError",
     "evalue": "name 'Print' is not defined",
     "output_type": "error",
     "traceback": [
      "\u001b[31m---------------------------------------------------------------------------\u001b[39m",
      "\u001b[31mNameError\u001b[39m                                 Traceback (most recent call last)",
      "\u001b[36mCell\u001b[39m\u001b[36m \u001b[39m\u001b[32mIn[45]\u001b[39m\u001b[32m, line 1\u001b[39m\n\u001b[32m----> \u001b[39m\u001b[32m1\u001b[39m \u001b[43mPrint\u001b[49m(star_name)\n",
      "\u001b[31mNameError\u001b[39m: name 'Print' is not defined"
     ]
    }
   ],
   "source": [
    "Print(star_name)"
   ]
  },
  {
   "cell_type": "code",
   "execution_count": 46,
   "id": "09e2da2d-bbf5-4703-b6fb-0ff6c2bdfa48",
   "metadata": {},
   "outputs": [
    {
     "name": "stdout",
     "output_type": "stream",
     "text": [
      "Проксима Центавра\n"
     ]
    },
    {
     "ename": "NameError",
     "evalue": "name 'Star_Name' is not defined",
     "output_type": "error",
     "traceback": [
      "\u001b[31m---------------------------------------------------------------------------\u001b[39m",
      "\u001b[31mNameError\u001b[39m                                 Traceback (most recent call last)",
      "\u001b[36mCell\u001b[39m\u001b[36m \u001b[39m\u001b[32mIn[46]\u001b[39m\u001b[32m, line 2\u001b[39m\n\u001b[32m      1\u001b[39m \u001b[38;5;28mprint\u001b[39m(star_name)\n\u001b[32m----> \u001b[39m\u001b[32m2\u001b[39m \u001b[38;5;28mprint\u001b[39m(\u001b[43mStar_Name\u001b[49m)\n",
      "\u001b[31mNameError\u001b[39m: name 'Star_Name' is not defined"
     ]
    }
   ],
   "source": [
    "print(star_name)\n",
    "print(Star_Name)"
   ]
  },
  {
   "cell_type": "markdown",
   "id": "af31fd4a-2270-4980-abca-41fde6d570e2",
   "metadata": {},
   "source": [
    "Переменные можно именовать даже кириллицей (но не желательно):"
   ]
  },
  {
   "cell_type": "code",
   "execution_count": 5,
   "id": "6e6c9a14-08f6-4f83-ab36-9fc681a359e8",
   "metadata": {},
   "outputs": [
    {
     "name": "stdout",
     "output_type": "stream",
     "text": [
      "Star\n"
     ]
    }
   ],
   "source": [
    "звезда = 'Star' \n",
    "print(звезда)"
   ]
  },
  {
   "cell_type": "markdown",
   "id": "7",
   "metadata": {},
   "source": [
    "## Правила именования переменных\n",
    "\n",
    "- Имя переменной должно начинаться на букву (любого алфавита, в предпочтении латиница для универсальности) или нижнее подчеркивание `_`.\n",
    "- В хвосте имени можно использовать буквы, цифры и нижние подчеркивания; дефисы, пробелы и прочие небуквенные символы запрещены.\n",
    "- Регистр имеет значение: `star_name` и `Star_Name` -- это разные переменные!\n",
    "- Имя переменной стоит делать содержательным: `star_name`, а не `sn` или `s` -- сами же запутаетесь потом.\n",
    "- Следующие ключевые слова зарезервированы Python и не могут быть использованы в качестве переменных: `print`, `sum`, `list`, `dict`, `str`, `int`, `float`, `bool`, `set`, `tuple`, `range`, `type`, `object`, `None`, `True`, `False`, `and`, `or`, `not`, `if`, `else`, `elif`, `for`, `while`, `break`, `continue`, `pass`, `def`, `return`, `lambda`, `class`, `import`, `from`, `as`, `with`, `try`, `except`, `finally`, `raise`, `assert`, `del`, `in`, `is`, `global`, `nonlocal`, `yield`, `async`, `await`."
   ]
  },
  {
   "cell_type": "markdown",
   "id": "8",
   "metadata": {},
   "source": [
    "## Типы данных\n",
    "\n",
    "Типы данных — это различные способы представления информации. Python поддерживает различные типы данных, понимание которых необходимо перед работой с астрономическими данными. Тип данных переменной можно проверять с помощью функции `type()`. Наиболее распространённые типы данных включают:\n",
    "\n",
    "**а) Целые числа (int):** Этот тип данных представляет целые числа, например, `1, 150, -4`. Они могут быть положительными или отрицательными, но не имеют дробной части (десятичных знаков)."
   ]
  },
  {
   "cell_type": "code",
   "execution_count": 6,
   "id": "9",
   "metadata": {},
   "outputs": [
    {
     "data": {
      "text/plain": [
       "str"
      ]
     },
     "execution_count": 6,
     "metadata": {},
     "output_type": "execute_result"
    }
   ],
   "source": [
    "number = \"Привет!\"  # Количество параметров в каталоге\n",
    "type(number)"
   ]
  },
  {
   "cell_type": "markdown",
   "id": "10",
   "metadata": {},
   "source": [
    "**б) Числа с плавающей точкой (float):** Этот тип данных представляет числа с десятичной точкой, например, 3.14, -0.1, 100.5 и т.д. \n",
    "\n",
    "В одной ячейке кода можно писать несколько строк кода. Результат будет отображён для последней строки кода."
   ]
  },
  {
   "cell_type": "code",
   "execution_count": 7,
   "id": "11",
   "metadata": {},
   "outputs": [
    {
     "data": {
      "text/plain": [
       "float"
      ]
     },
     "execution_count": 7,
     "metadata": {},
     "output_type": "execute_result"
    }
   ],
   "source": [
    "RA = 219.9021  # Значение прямого восхождения Альфы Центавры\n",
    "Dec = -60.8340 # Значение склонения Альфы Центавры\n",
    "type(RA)"
   ]
  },
  {
   "cell_type": "markdown",
   "id": "12",
   "metadata": {},
   "source": [
    "**в) Строки (str):** Строки -- наборы символов, таких как \"Привет\", \"Astronomy\", \"1254\", \"αβγ\"."
   ]
  },
  {
   "cell_type": "code",
   "execution_count": 8,
   "id": "13",
   "metadata": {},
   "outputs": [
    {
     "data": {
      "text/plain": [
       "str"
      ]
     },
     "execution_count": 8,
     "metadata": {},
     "output_type": "execute_result"
    }
   ],
   "source": [
    "coordinate_system = \"   \"  # Самая частоиспользуемая координатная система\n",
    "type(coordinate_system)"
   ]
  },
  {
   "cell_type": "markdown",
   "id": "14",
   "metadata": {},
   "source": [
    "Для отличия от переменных строки должны быть окаймлены одинарными (`'`) или двойными кавычками (`\"`). Можно также использовать тройные кавычки (`'''` or `\"\"\"`) для строк из нескольких абзацев:"
   ]
  },
  {
   "cell_type": "code",
   "execution_count": 9,
   "id": "85c127da-e21f-49da-be49-4aa45756aaa1",
   "metadata": {},
   "outputs": [
    {
     "name": "stdout",
     "output_type": "stream",
     "text": [
      "Пожилой господин в Касабланке\n",
      "Был поклонником жидкой овсянки.\n",
      "      Чтобы было вкусней,\n",
      "      В чашку пару мышей\n",
      "Добавлял господин в Касабланке\n"
     ]
    }
   ],
   "source": [
    "limerick = '''Пожилой господин в Касабланке\n",
    "Был поклонником жидкой овсянки.\n",
    "      Чтобы было вкусней,\n",
    "      В чашку пару мышей\n",
    "Добавлял господин в Касабланке'''\n",
    "type(limerick)\n",
    "print(limerick)"
   ]
  },
  {
   "cell_type": "markdown",
   "id": "15",
   "metadata": {},
   "source": [
    "**г) Булевы переменные (bool):** Булевы переменные могут принимать только два значения: правда (True) или ложь (False)"
   ]
  },
  {
   "cell_type": "code",
   "execution_count": 10,
   "id": "16",
   "metadata": {},
   "outputs": [
    {
     "name": "stdout",
     "output_type": "stream",
     "text": [
      "10\n"
     ]
    }
   ],
   "source": [
    "is_galaxy = 10  # Переменная-\"флажок\" для отличения галактик от не-галактик\n",
    "print(is_galaxy)"
   ]
  },
  {
   "cell_type": "markdown",
   "id": "17",
   "metadata": {},
   "source": [
    "**д) Списки:** Списки -- упорядоченное множество элементов, элементы которого могут быть любым типом данных:"
   ]
  },
  {
   "cell_type": "code",
   "execution_count": 11,
   "id": "18",
   "metadata": {},
   "outputs": [
    {
     "data": {
      "text/plain": [
       "list"
      ]
     },
     "execution_count": 11,
     "metadata": {},
     "output_type": "execute_result"
    }
   ],
   "source": [
    "coordinates = [10, \"Dec\"]  # список с координатами\n",
    "type(coordinates)"
   ]
  },
  {
   "cell_type": "markdown",
   "id": "19",
   "metadata": {},
   "source": [
    "**е) Словари (dict):** Словари -- это коллекция из элементов вида ключ-значение:"
   ]
  },
  {
   "cell_type": "code",
   "execution_count": 12,
   "id": "20",
   "metadata": {},
   "outputs": [
    {
     "data": {
      "text/plain": [
       "dict"
      ]
     },
     "execution_count": 12,
     "metadata": {},
     "output_type": "execute_result"
    }
   ],
   "source": [
    "feature_attributes = {\n",
    "    \"name\": \"Alpha Centauri A\",\n",
    "    \"B_mag\": 0.4,\n",
    "    \"type\": \"Star\",\n",
    "    \"coordinates\": [219.9021, -60.8340,]\n",
    "}\n",
    "type(feature_attributes)"
   ]
  },
  {
   "cell_type": "markdown",
   "id": "21",
   "metadata": {},
   "source": [
    "## Служебные символы\n",
    "\n",
    "Служебные символы используются для вставки символов, которые недопустимы в строке. Например, можно использовать служебный символ `\\n` для вставки символа новой строки."
   ]
  },
  {
   "cell_type": "code",
   "execution_count": 13,
   "id": "22",
   "metadata": {},
   "outputs": [
    {
     "name": "stdout",
     "output_type": "stream",
     "text": [
      "Привет!\n",
      "Эта строчка разделена.\n"
     ]
    }
   ],
   "source": [
    "print(\"Привет!\\nЭта строчка разделена.\")"
   ]
  },
  {
   "cell_type": "markdown",
   "id": "23",
   "metadata": {},
   "source": [
    "Другой частоиспользуемый служебный символ -- символ табуляции `\\t`:"
   ]
  },
  {
   "cell_type": "code",
   "execution_count": 14,
   "id": "24",
   "metadata": {},
   "outputs": [
    {
     "name": "stdout",
     "output_type": "stream",
     "text": [
      "Это первая строка.\n",
      "\tА это вторая. Смотри, она с отступом!\n"
     ]
    }
   ],
   "source": [
    "print(\"Это первая строка.\\n\\tА это вторая. Смотри, она с отступом!\")"
   ]
  },
  {
   "cell_type": "markdown",
   "id": "25",
   "metadata": {},
   "source": [
    "Если хочется вставить в строку кавычку, значит, стоит её окаймить другими кавычками или воспользоваться служебным символом `\\` для экранирования:"
   ]
  },
  {
   "cell_type": "code",
   "execution_count": 15,
   "id": "c1a5abe5-9cec-47df-881d-f699243ee4e2",
   "metadata": {},
   "outputs": [
    {
     "name": "stdout",
     "output_type": "stream",
     "text": [
      "C:\\Users\\User\n"
     ]
    }
   ],
   "source": [
    "print(\"C:\\\\Users\\\\User\")"
   ]
  },
  {
   "cell_type": "code",
   "execution_count": 16,
   "id": "26",
   "metadata": {},
   "outputs": [
    {
     "name": "stdout",
     "output_type": "stream",
     "text": [
      "Угловые минуты часто обозначаются одним штрихом ', а угловые секунды - двумя штрихами \".\n"
     ]
    }
   ],
   "source": [
    "print(\"Угловые минуты часто обозначаются одним штрихом \\', а угловые секунды - двумя штрихами \\\".\")"
   ]
  },
  {
   "cell_type": "markdown",
   "id": "28",
   "metadata": {},
   "source": [
    "## Комментарии\n",
    "\n",
    "Комментарии используются для объяснения фрагментов кода и служат большей читаемости. В Python комментарии начинаются с символа хэштега `#`. Всё, что находится после `#` игнорируется интерпретатором и не выполняется."
   ]
  },
  {
   "cell_type": "code",
   "execution_count": 17,
   "id": "29",
   "metadata": {},
   "outputs": [
    {
     "name": "stdout",
     "output_type": "stream",
     "text": [
      "120\n"
     ]
    }
   ],
   "source": [
    "# Вот комментарий на отдельной строке\n",
    "num_points = 120  # а вот на той же самой, что и код\n",
    "print(num_points) # вот это выведет значение переменной num_points\n",
    "# print('А вот эта строчка не выведется')"
   ]
  },
  {
   "cell_type": "code",
   "execution_count": 18,
   "id": "f56f70db-cb8d-4582-a696-0514f9739172",
   "metadata": {},
   "outputs": [
    {
     "data": {
      "text/plain": [
       "4"
      ]
     },
     "execution_count": 18,
     "metadata": {},
     "output_type": "execute_result"
    }
   ],
   "source": [
    "number = 2\n",
    "number ** number"
   ]
  },
  {
   "cell_type": "markdown",
   "id": "30",
   "metadata": {},
   "source": [
    "## Операторы\n",
    "\n",
    "Операторы — это специальные символы или ключевые слова в Python, которые выполняют операции над значениями (называемыми операндами). Считайте их как математические символы `(+, -, *, /)` и логические вентили (and, or, not), которые используются при вычислениях и принятии решений, но адаптированные для программирования. Понимание операторов является основой для выполнения вычислений, сравнения значений и управления ходом решения ваших задач.\n",
    "\n",
    "\n",
    "### Арифметические операторы\n",
    "Их используют для вычисления стандартных математических операций.\n",
    "\n",
    "* `+` : Сложение (выводит сумму двух операндов)\n",
    "* `-` : Вычитание (выводит разность двух операндов)\n",
    "* `*` : Умножение (Умножает операнды)\n",
    "* `/` : Деление (Делит левый операнд на правый, возвращает частное, результат всегда float)\n",
    "* `//`: Целочисленное деление (Делит, возвращает частное и округляет его вниз до ближайшего целого числа)\n",
    "* `%` : Остаток от деления (Делит левый операнд на правый и возвращает остаток)\n",
    "* `**`: Возведение в степень (Возводит левый операнд в степень правого)\n",
    "\n",
    "### Примеры использования"
   ]
  },
  {
   "cell_type": "code",
   "execution_count": 19,
   "id": "31",
   "metadata": {},
   "outputs": [
    {
     "name": "stdout",
     "output_type": "stream",
     "text": [
      "Приблизительное расстояние от Земли до Юпитера: 6.2 а.е.\n"
     ]
    }
   ],
   "source": [
    "# расстояния между планетами и Солнцем в астрономических единицах (а.е.)\n",
    "distance_earth_sun = 1.0\n",
    "distance_mars_sun = 1.52\n",
    "distance_jupiter_sun = 5.2\n",
    "\n",
    "# Сложением найдем расстояние между Землей и Юпитером, если они в противоположных сторонах от Солнца\n",
    "total_distance = distance_earth_sun + distance_jupiter_sun\n",
    "print(f\"Приблизительное расстояние от Земли до Юпитера: {total_distance} а.е.\") # обратите внимание на букву f перед строкой"
   ]
  },
  {
   "cell_type": "code",
   "execution_count": 20,
   "id": "92d66bac-3f84-4d4e-8a2d-ef4e65e9883f",
   "metadata": {},
   "outputs": [
    {
     "name": "stdout",
     "output_type": "stream",
     "text": [
      "Разность расстояний (Марс - Земля): 0.52 а.е.\n"
     ]
    }
   ],
   "source": [
    "# Вычитанием найдем, на сколько Марс дальше от Солнца, чем Земля\n",
    "distance_difference = distance_mars_sun - distance_earth_sun\n",
    "print(f\"Разность расстояний (Марс - Земля): {distance_difference:.2f} а.е.\") # :.Nf после переменной позволяет округлять результат до N знаков"
   ]
  },
  {
   "cell_type": "code",
   "execution_count": 21,
   "id": "33",
   "metadata": {},
   "outputs": [
    {
     "name": "stdout",
     "output_type": "stream",
     "text": [
      "Расстояние от Юпитера до Солнца: 7.80e+08 км\n"
     ]
    }
   ],
   "source": [
    "# Умножением найдем расстояние от Солнца до Юпитера в километрах (1 а.е. ≈ 150 миллионов км)\n",
    "distance_jupiter_km = distance_jupiter_sun * 150e6 # 150e6 означает 150, умноженное на 10 в 6 степени\n",
    "print(f\"Расстояние от Юпитера до Солнца: {distance_jupiter_km:.2e} км\") # Экспоненциальная запись числа"
   ]
  },
  {
   "cell_type": "code",
   "execution_count": 22,
   "id": "547794c0-1a73-49c6-988c-7a57efb9a719",
   "metadata": {},
   "outputs": [
    {
     "name": "stdout",
     "output_type": "stream",
     "text": [
      "Юпитер в 3.421 раз дальше от Солнца, чем Марс\n"
     ]
    }
   ],
   "source": [
    "# Делением найдем, во сколько раз Юпитер дальше от Солнца, чем Марс:\n",
    "jupiter_mars_ratio = distance_jupiter_sun / distance_mars_sun\n",
    "print(f\"Юпитер в {jupiter_mars_ratio:.3f} раз дальше от Солнца, чем Марс\")"
   ]
  },
  {
   "cell_type": "code",
   "execution_count": 23,
   "id": "35",
   "metadata": {},
   "outputs": [
    {
     "name": "stdout",
     "output_type": "stream",
     "text": [
      "Чтобы долететь от Солнца до Юпитера на скорости 0.5 а.е./год, потребуется 10 лет\n"
     ]
    }
   ],
   "source": [
    "# Деление нацело: положим, АМС летит от Солнца со скоростью 0.5 а.е/год. Сколько полных лет он потратит, летя к Юпитеру?\n",
    "travel_speed_au_year = 0.5\n",
    "full_years_to_jupiter = distance_jupiter_sun // travel_speed_au_year\n",
    "print(f\"Чтобы долететь от Солнца до Юпитера на скорости {travel_speed_au_year} а.е./год, потребуется {full_years_to_jupiter:.0f} лет\")"
   ]
  },
  {
   "cell_type": "code",
   "execution_count": 24,
   "id": "1fc2f9d4-2227-40f3-9768-38f457b634e1",
   "metadata": {},
   "outputs": [
    {
     "name": "stdout",
     "output_type": "stream",
     "text": [
      "Спустя 10.0 лет АМС нужно будет пролететь ещё 0.20 а.е.\n"
     ]
    }
   ],
   "source": [
    "# Остаток от деления: сколько а.е. ещё останется спустя ровно 10 лет?\n",
    "remainder_distance = distance_jupiter_sun % travel_speed_au_year\n",
    "print(f\"Спустя {full_years_to_jupiter} лет АМС нужно будет пролететь ещё {remainder_distance:.2f} а.е.\")"
   ]
  },
  {
   "cell_type": "code",
   "execution_count": 25,
   "id": "37",
   "metadata": {},
   "outputs": [
    {
     "name": "stdout",
     "output_type": "stream",
     "text": [
      "Период обращения Юпитера: 11.858 лет\n",
      "Период обращения Марса: 1.874 лет\n"
     ]
    }
   ],
   "source": [
    "# Возведение в степень: период обращения планеты вокруг Солнца в годах можно оценить, \n",
    "# если возвести расстояние от планеты до Солнца в а.е в степень 1.5 (T² ≈ a³)\n",
    "\n",
    "period_jupyter_year = distance_jupiter_sun ** 1.5\n",
    "period_mars_year = distance_mars_sun ** 1.5\n",
    "print(f\"Период обращения Юпитера: {period_jupyter_year:.3f} лет\")\n",
    "print(f\"Период обращения Марса: {period_mars_year:.3f} лет\")"
   ]
  },
  {
   "cell_type": "markdown",
   "id": "38",
   "metadata": {},
   "source": [
    "### Операторы сравнения\n",
    "Эти операторы сравнивают два значения и возвращают True, если проверка выполняется, и False в ином случае:\n",
    "\n",
    "* `==`: Проверка равенства двух значений (знак двойной для отличия от оператора присваивания `=`)\n",
    "* `!=`: Проверка неравенства\n",
    "* `>` : Больше\n",
    "* `<` : Меньше\n",
    "* `>=`: Больше или равно\n",
    "* `<=`: Меньше или равно\n",
    "\n",
    "Чаще всего операторы сравнения пользуются вместе с **условной конструкцией** `if-else`, позволяющей изменять выполнение кода в зависимости от значения переменной:\n",
    "```\n",
    "if (условие, возвращающее True или False):\n",
    "___%выполняется, если условие True%\n",
    "else:\n",
    "___%выполняется, если условие False%\n",
    "```\n",
    "\n",
    "Обязательными являются двоеточие `:` в конце условия и отступы в виде табуляции или тройного пробела -- именно ими Python отличает, какой блок кода выполнять в каком случае. \n",
    "\n",
    "### Примеры использования операторов сравнения"
   ]
  },
  {
   "cell_type": "code",
   "execution_count": 26,
   "id": "8877990b",
   "metadata": {},
   "outputs": [
    {
     "name": "stdout",
     "output_type": "stream",
     "text": [
      "Температура Солнца в точности равна 5800 K\n"
     ]
    }
   ],
   "source": [
    "sun_temp_kelvin = 5800\n",
    "sirius_temp_kelvin = 9940\n",
    "earth_mass_relative = 1.0\n",
    "jupiter_mass_relative = 317.8\n",
    "\n",
    "# ==: проверка, температура Солнца равна в точности 5800 K?\n",
    "if (sun_temp_kelvin == 5800):\n",
    "    print(\"Температура Солнца в точности равна 5800 K\")\n",
    "else:\n",
    "    print(\"Температура Солнца не равна в точности 5800 K\")"
   ]
  },
  {
   "cell_type": "code",
   "execution_count": 27,
   "id": "698a4fa8-6bd2-4eb8-85db-32ac69bfe9ea",
   "metadata": {},
   "outputs": [
    {
     "name": "stdout",
     "output_type": "stream",
     "text": [
      "Юпитер и Земля имеют разные массы\n"
     ]
    }
   ],
   "source": [
    "# !=: Масса Юпитера не равна массе Земли?\n",
    "if (jupiter_mass_relative != earth_mass_relative):\n",
    "    print(\"Юпитер и Земля имеют разные массы\")\n",
    "else:\n",
    "    print(\"Юпитер и Земля имеют одинаковые массы!\")"
   ]
  },
  {
   "cell_type": "code",
   "execution_count": 28,
   "id": "125b8168-5805-49aa-95c9-16e753e2cc6b",
   "metadata": {},
   "outputs": [
    {
     "name": "stdout",
     "output_type": "stream",
     "text": [
      "Сириус горячее Солнца\n"
     ]
    }
   ],
   "source": [
    "# >: Сириус горячее Солнца?\n",
    "if (sirius_temp_kelvin > sun_temp_kelvin):\n",
    "    print(\"Сириус горячее Солнца\")\n",
    "else:\n",
    "    print(\"Сириус не горячее Солнца\")"
   ]
  },
  {
   "cell_type": "code",
   "execution_count": 29,
   "id": "3a946abb-0b13-4518-a556-d8cc527c2166",
   "metadata": {},
   "outputs": [
    {
     "name": "stdout",
     "output_type": "stream",
     "text": [
      "Земля менее массивна, чем Юпитер\n"
     ]
    }
   ],
   "source": [
    "# <: Земля менее массивна, чем Юпитер?\n",
    "if (earth_mass_relative < jupiter_mass_relative):\n",
    "    print(\"Земля менее массивна, чем Юпитер\")\n",
    "else:\n",
    "    print(\"Земля не менее массивнее Юпитера\")"
   ]
  },
  {
   "cell_type": "code",
   "execution_count": 30,
   "id": "41",
   "metadata": {},
   "outputs": [
    {
     "name": "stdout",
     "output_type": "stream",
     "text": [
      "Температура Солнца ≥ 5500 K? True\n"
     ]
    }
   ],
   "source": [
    "# >=: Температура Солнца >= 5500 K?\n",
    "is_sun_temp_ge_5500 = (sun_temp_kelvin >= 5500)\n",
    "print(f\"Температура Солнца ≥ 5500 K? {is_sun_temp_ge_5500}\")"
   ]
  },
  {
   "cell_type": "code",
   "execution_count": 31,
   "id": "8bf06f4f-3855-4c88-b7fc-978b261ec397",
   "metadata": {},
   "outputs": [
    {
     "name": "stdout",
     "output_type": "stream",
     "text": [
      "Масса Земли <= 1? True\n"
     ]
    }
   ],
   "source": [
    "# Меньше или равно: Масса Земли <= 1?\n",
    "is_earth_mass_le_1 = (earth_mass_relative <= 1.0)\n",
    "print(f\"Масса Земли <= 1? {is_earth_mass_le_1}\")"
   ]
  },
  {
   "cell_type": "markdown",
   "id": "757d8977-65d9-4a52-afce-4c5c0473d0df",
   "metadata": {},
   "source": [
    "### Логические операторы\n",
    "Эти операторы соединяют несколько условий, преобразуя булевы переменные по заданным правилам.\n",
    "\n",
    "* `and`: Возвращает True тогда и только тогда, когда оба операнда True.\n",
    "* `or` : Возвращает False тогда и только тогда, когда оба операнда False.\n",
    "* `not`: Инвертирует операнд справа (заменяет True на False и False на True).\n",
    "\n",
    "### Примеры использования логических операторов"
   ]
  },
  {
   "cell_type": "code",
   "execution_count": 32,
   "id": "45148a24-9de8-4cf8-88d0-2e3dda964ad6",
   "metadata": {},
   "outputs": [
    {
     "name": "stdout",
     "output_type": "stream",
     "text": [
      "Планета потенциально обитаема\n"
     ]
    }
   ],
   "source": [
    "# Квазипланеты\n",
    "planet_distance_au = 6.0 # Расстояние как у Земли\n",
    "planet_has_liquid_water = True # есть ли жидкая вода? есть\n",
    "planet_is_gas_giant = False # газовый гигант? нет\n",
    "planet_is_rocky = True # твердая планета? да\n",
    "\n",
    "# 'and': Планета потенциально обитаема (каменная И с жидкой водой)?\n",
    "is_potentially_habitable = (planet_is_rocky and planet_has_liquid_water)\n",
    "if is_potentially_habitable:\n",
    "    print(\"Планета потенциально обитаема\")\n",
    "else:\n",
    "    print(\"Планета необитаема\")"
   ]
  },
  {
   "cell_type": "code",
   "execution_count": 33,
   "id": "65364d09-24cb-4844-8021-6a440bd8a168",
   "metadata": {},
   "outputs": [
    {
     "name": "stdout",
     "output_type": "stream",
     "text": [
      "Планета далеко от своей звезды ИЛИ является газовым гигантом? True\n"
     ]
    }
   ],
   "source": [
    "# 'or': Планета далеко от своей звезды ( > 5 а.е.) ИЛИ является газовым гигантом?\n",
    "is_far_or_gas = (planet_distance_au > 5.0) or planet_is_gas_giant\n",
    "print(f\"Планета далеко от своей звезды ИЛИ является газовым гигантом? {is_far_or_gas}\")"
   ]
  },
  {
   "cell_type": "code",
   "execution_count": 34,
   "id": "c1749500-458e-49b4-b9c3-3410396cdba4",
   "metadata": {},
   "outputs": [
    {
     "name": "stdout",
     "output_type": "stream",
     "text": [
      "Планета НЕ газовый гигант? True\n"
     ]
    }
   ],
   "source": [
    "# 'not': Планета НЕ газовый гигант?\n",
    "is_not_gas_giant = not planet_is_gas_giant\n",
    "print(f\"Планета НЕ газовый гигант? {is_not_gas_giant}\")"
   ]
  },
  {
   "cell_type": "code",
   "execution_count": 35,
   "id": "e2818067-f990-478a-9c19-88c7d7305f87",
   "metadata": {},
   "outputs": [
    {
     "name": "stdout",
     "output_type": "stream",
     "text": [
      "Планета обитаема И не слишком далеко от своей звезды? False\n"
     ]
    }
   ],
   "source": [
    "# Сочетаем: планета обитаема И не слишком далеко от своей звезды ( < 1.5 a.e.)?\n",
    "habitable_and_close = is_potentially_habitable and (planet_distance_au < 1.5)\n",
    "print(f\"Планета обитаема И не слишком далеко от своей звезды? {habitable_and_close}\")"
   ]
  },
  {
   "cell_type": "markdown",
   "id": "70e3184a-d551-4910-964a-edd35e9b7817",
   "metadata": {},
   "source": [
    "### Операторы присваивания\n",
    "Этими операторами переменным присваиваются конкретные значения. Основной это `=`, однако есть сокращения для сочетания арифметических операторов и операторов присваивания. Особняком стоит моржевой оператор `:=`:\n",
    "\n",
    "* `=`  : Присвоить значение справа переменной слева.\n",
    "* `+=` : Добавить правый операнд к левому операнду и присвоить результат левому операнду (например, `x += 1` полностью аналогично `x = x + 1`).\n",
    "* `-=` : Вычесть правый операнд из левого операнда и присвоить результат левому операнду.\n",
    "* `*=` : Умножить правый операнд на левый операнд и присвоить результат левому операнду.\n",
    "* `/=` : Разделить правый операнд на левый операнд и присвоить частное левому операнду.\n",
    "* `//=`: Разделить правый операнд на левый операнд нацело и присвоить частное левому операнду.\n",
    "* `%=` : Разделить правый операнд на левый операнд нацело и присвоить остаток левому операнду.\n",
    "* `**=`: Возвести правый операнд в степень, равную левому операнду, и присвоить результат левому операнду.\n",
    "* `:=` : Присвоить значение справа переменной слева и **вернуть его как результат операции**.\n",
    "\n",
    "### Примеры использования"
   ]
  },
  {
   "cell_type": "code",
   "execution_count": 36,
   "id": "748ff34b-7778-40d6-a0ab-291c468d5598",
   "metadata": {},
   "outputs": [
    {
     "name": "stdout",
     "output_type": "stream",
     "text": [
      "В солнечной системе 9 планет\n",
      "Полное число звезд в скоплении: 7\n"
     ]
    }
   ],
   "source": [
    "# Положим, мы считаем число планет в Солнечной системе\n",
    "number_of_planets = 8\n",
    "number_of_planets += 1 # number_of_planets = number_of_planets + 1\n",
    "print(\"В солнечной системе\", number_of_planets, \"планет\")\n",
    "\n",
    "# +=: Положим, что в звездном скоплении из 5 звезд открыли ещё две:\n",
    "stars_in_cluster = 5\n",
    "stars_in_cluster += 2\n",
    "print(\"Полное число звезд в скоплении:\", stars_in_cluster)"
   ]
  },
  {
   "cell_type": "code",
   "execution_count": 37,
   "id": "d5b003e6-72b5-46fa-a29d-5865762b928d",
   "metadata": {},
   "outputs": [
    {
     "name": "stdout",
     "output_type": "stream",
     "text": [
      "Оставшихся галактик-спутниц: 3\n"
     ]
    }
   ],
   "source": [
    "# -= : Галактика потеряла одну свою спутницу из-за сближения\n",
    "satellite_galaxies = 4\n",
    "satellite_galaxies -= 1\n",
    "print(\"Оставшихся галактик-спутниц:\", satellite_galaxies)"
   ]
  },
  {
   "cell_type": "code",
   "execution_count": 38,
   "id": "1b7b923b-2462-449b-acb6-02da52d4df69",
   "metadata": {},
   "outputs": [
    {
     "name": "stdout",
     "output_type": "stream",
     "text": [
      "Новое расстояние до звезды: 12 световых лет\n"
     ]
    }
   ],
   "source": [
    "# *= : Расстояние до звезды измерили по новой и оно увеличилось втрое\n",
    "distance_to_star = 4  # в световых годах\n",
    "distance_to_star *= 3\n",
    "print(\"Новое расстояние до звезды:\", distance_to_star, \"световых лет\")"
   ]
  },
  {
   "cell_type": "code",
   "execution_count": 39,
   "id": "3bd7513f-2bb7-4de5-9fbf-e72fbb41d0a6",
   "metadata": {},
   "outputs": [
    {
     "name": "stdout",
     "output_type": "stream",
     "text": [
      "Масса одного галактического сектора: 100.0 миллиардов солнечных масс\n"
     ]
    }
   ],
   "source": [
    "# /= : Полная масса галактики распределена по её секторам\n",
    "total_mass = 300  # в миллиардах солнечных масс\n",
    "sectors = 3\n",
    "mass_per_sector = total_mass\n",
    "mass_per_sector /= sectors\n",
    "print(\"Масса одного галактического сектора:\", mass_per_sector, \"миллиардов солнечных масс\")"
   ]
  },
  {
   "cell_type": "code",
   "execution_count": 40,
   "id": "32801cea-12d9-497b-9eba-26d21c2c5629",
   "metadata": {},
   "outputs": [
    {
     "name": "stdout",
     "output_type": "stream",
     "text": [
      "Каждый телескоп наблюдает 4 экзопланеты\n"
     ]
    }
   ],
   "source": [
    "# //= : Распределеим внесолнечные планеты (экзопланеты) поровну среди телескопов для наблюдений\n",
    "exoplanets = 22\n",
    "telescopes = 5\n",
    "exoplanets_per_telescope = exoplanets\n",
    "exoplanets_per_telescope //= telescopes\n",
    "print(\"Каждый телескоп наблюдает\", exoplanets_per_telescope, \"экзопланеты\")"
   ]
  },
  {
   "cell_type": "code",
   "execution_count": 41,
   "id": "e9a0a938-5957-4d54-ae79-e30cae0d717a",
   "metadata": {},
   "outputs": [
    {
     "name": "stdout",
     "output_type": "stream",
     "text": [
      "Новый год сместится на 1 дней в неделе\n"
     ]
    }
   ],
   "source": [
    "# %= : Планета обращается вокруг своей звезды за 365 дней. На сколько дней недели смещается Новый Год каждый год?\n",
    "orbit_day = 365\n",
    "orbit_day %= 7  # дней в неделе\n",
    "print(\"Новый год сместится на\", orbit_day, \"дней в неделе\")"
   ]
  },
  {
   "cell_type": "code",
   "execution_count": 42,
   "id": "e907386b-2061-44fb-b2d4-e551cb819ec9",
   "metadata": {},
   "outputs": [
    {
     "name": "stdout",
     "output_type": "stream",
     "text": [
      "Интенсивность света упала в 4 раза\n"
     ]
    }
   ],
   "source": [
    "# **= : Интенсивность света падает обратно пропорционально квадрату расстояния\n",
    "distance_factor = 2\n",
    "intensity_factor = distance_factor\n",
    "intensity_factor **= 2  # квадрат расстояния\n",
    "print(\"Интенсивность света упала в\", intensity_factor, \"раза\")"
   ]
  },
  {
   "cell_type": "markdown",
   "id": "45",
   "metadata": {},
   "source": [
    "## Выводы\n",
    "\n",
    "Понятия переменных и типов данных являются ключевыми в анализе любых данных.\n",
    "Именно они будут являться фундаментом для вашей дальнейшей работы.\n",
    "Продолжайте практиковаться, и понимание придет."
   ]
  },
  {
   "cell_type": "markdown",
   "id": "42",
   "metadata": {},
   "source": [
    "## Дополнительные материалы\n",
    "\n",
    "Для большей информации про типы данных и переменные: \n",
    "\n",
    "* (англ) Раздел **Basics** в книге A Byte of Python:  <https://python.swaroopch.com/basics.html>, <https://python.swaroopch.com/op_exp.html> или \\\n",
    "официальной документации <https://docs.python.org/3/tutorial/introduction.html>.\n",
    "* https://education.yandex.ru/handbook/python, разделы 1 и 2.1\n"
   ]
  },
  {
   "cell_type": "markdown",
   "id": "43",
   "metadata": {},
   "source": [
    "## Вопросы и упражнения\n",
    "\n",
    "1.  Создайте переменную `planet_name`, запишите в неё строчку `\"Юпитер\"`. Выведите её содержимое с помощью функции `print`.\n",
    "2.  Создайте переменную `distance_to_sun` и запишите туда значение `149.6`.\n",
    "3.  Объявите целочисленную переменную `star_temp = 5500`. Как изменить её содержимое на число `6000`? \n",
    "4.  Создайте булеву переменную-флажок `is_gas_giant`. Используйте её в качестве условия в условной конструкции, выводящей `Это газовый гигант` когда `is_gas_giant` содержит `True` и `Это не газовый гигант`, когда `False`.\n",
    "5.  Создайте переменную `moon_count = 2` и выведите сообщение \"У Марса 2 спутника.\", используя f-строки и эту переменную.\n",
    "6.  Имя переменной вида `Число Звезд` подходит под стандарты именования в Python? Почему? Как можно видоизменить её название, чтобы она подходила под стандарты?\n",
    "7.  Двумя разными способами создайте строковую переменную `song` с переносом строк. Запишите туда в несколько строк первое четверостишье из песни Земляне - Трава у Дома:\n",
    "   ```\n",
    "Земля в иллюминаторе,\n",
    "Земля в иллюминаторе,\n",
    "Земля в иллюминаторе\n",
    "Видна\n",
    "```\n",
    "8.  Земля находится на расстоянии 1.0 а.е. от Солнца, а Марс на расстоянии 1.52 а.е. Как с помощью оператора `-` посчитать разницу между двумя этими расстояниями?\n",
    "9.  Юпитер обращается вокруг Солнца за 11.86 земных лет. Земной год содержит 365.26 дней. Как сосчитать период обращения Юпитера в днях с помощью Python?\n",
    "10.  Как увеличить численно значение переменной `jupiter_moons` на `3`? Приведите два разных способа.\n",
    "11.  Если в переменных `venus_temperature` и `earth_temperature` содержатся температуры Венеры и Земли соответственно, как проверить, какая из них больше? С помощью каких операторов это можно сделать? Проверьте результат, если переменные содержат `462` и `15` градусов, соответственно.\n",
    "12.  Как оператором `==` проверить, равно ли значение переменной `planet_name` в точности строке `\"Земля\"`?\n",
    "13.  Планета обитаема, если у планеты есть и вода, и атмосфера. Используя булевы переменные `has_water`, которая принимает `True`, если у планеты есть вода, и `False` в обратном случае, и аналогичную про атмосферу `has_atmosphere`, создайте условие `is_habitable`, которое будет содержать `True`, если планета обитаема, и `False`, если нет. *(Подсказка: используйте оператор `and`)*\n",
    "14. Наблюдения возможны на солнечном телескопе днем или на обычном телескопе ночью. Используя булевы переменные `is_night` (сейчас ночь?),`is_solar_telescope` (телескоп солнечный?), и операторы `and`, `not` и `or`, создайте условие `can_observe`, принимающее `True`, если наблюдения возможны, и `False` в обратном случае."
   ]
  },
  {
   "cell_type": "code",
   "execution_count": 43,
   "id": "a56da83e-6edc-48f7-bfd5-148e421160b7",
   "metadata": {},
   "outputs": [],
   "source": [
    "# Каждую задачу оформить в отдельную ячейку\n",
    "# 1.\n",
    "planet_name = 'Юпитер'"
   ]
  },
  {
   "cell_type": "code",
   "execution_count": null,
   "id": "68cd3a06-36b9-4934-af63-a80ba4f5040c",
   "metadata": {},
   "outputs": [],
   "source": []
  }
 ],
 "metadata": {
  "kernelspec": {
   "display_name": "Python 3 (ipykernel)",
   "language": "python",
   "name": "python3"
  },
  "language_info": {
   "codemirror_mode": {
    "name": "ipython",
    "version": 3
   },
   "file_extension": ".py",
   "mimetype": "text/x-python",
   "name": "python",
   "nbconvert_exporter": "python",
   "pygments_lexer": "ipython3",
   "version": "3.13.7"
  }
 },
 "nbformat": 4,
 "nbformat_minor": 5
}
