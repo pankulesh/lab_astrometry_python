{
 "cells": [
  {
   "cell_type": "markdown",
   "id": "0",
   "metadata": {},
   "source": [
    "# Как начать\n",
    "\n",
    "Предварительно нужно установить на ваш локальный компьютер среду с Jupyter Notebook (а также Python и всеми сопутствующими библиотеками: notebook, numpy, scipy, pandas, matplotlib, и pyplot)\n",
    "\n",
    "---\n",
    "\n",
    "## Инструкция для тех, у кого нет Python\n",
    "\n",
    "1. Скачиваем Python с официального сайта\n",
    "2. Устанавливаем с флагами в PATH от админа\n",
    "3. С помощью Win+R вызываем консоль cmd.exe\n",
    "4. Создаем в домашней папке виртуальное окружение командой `py -m venv .venv`\n",
    "5. Активируем его: `.venv\\Scripts\\activate`\n",
    "7. Проверяем, что оно создалось командой\n",
    "`where python`\n",
    "8. Устанавливаем необходимые пакеты:\n",
    "`pip install numpy pandas scipy matplotlib notebook astropy`\n",
    "9. Запускаем jupyter-notebook\n",
    "\n",
    "---\n",
    "\n",
    "## Если Python уже установлен\n",
    "\n",
    "1. Ищем, куда он установлен, проверяем в `cmd.exe`, работает ли команды py или python\n",
    "2. Если работают, cоздаем в домашней папке виртуальное окружение командой `py -m venv .venv`\n",
    "3. Активируем его: `.venv\\Scripts\\activate`\n",
    "4. Проверяем, что оно создалось командой\n",
    "`where python`\n",
    "5. Устанавливаем необходимые пакеты:\n",
    "`pip install numpy pandas scipy matplotlib notebook astropy`\n",
    "6. Запускаем jupyter-notebook\n",
    "\n",
    "## Если не работает py(thon) в консоли:\n",
    "1. Поискать в `C:\\Users\\<имяпользователя>\\AppData\\Local\\Programs\\Python` исполняемый файл python.exe\n",
    "2. Перейдите в Этот компьютер и выберите Свойства через контекстное меню.\n",
    "3. Откройте Дополнительные параметры системы и перейдите на вкладку Дополнительно.\n",
    "4. Щелкните Переменные среды.\n",
    "5. В списке Системные переменные найдите строку с именем Path и выберите Изменить.\n",
    "6. Нажмите Создать и введите путь к каталогу, где установлена ваша версия Python, например: C:\\Python39\\.\n",
    "7. Нажмите ОК для сохранения изменений. \n",
    "\n",
    "---\n",
    "\n",
    "После этого процедура запуска следующая:\n",
    "1. `Win+R` - в контекстном окне `cmd.exe`\n",
    "2. `.venv\\Scripts\\activate`\n",
    "3. `jupyter-notebook`\n",
    "\n",
    "---\n",
    "Для среды Linux-подобных систем инструкция аналогичная, за исключением команды создания виртуального окружения:\n",
    "1. `python -m venv .venv`\n",
    "2. `source .venv/bin/activate`\n",
    "3. `pip install notebook`\n",
    "4. `jupyter-notebook`"
   ]
  },
  {
   "cell_type": "markdown",
   "id": "17bab096-fb7b-43bb-bb0f-323f579fa9fe",
   "metadata": {},
   "source": [
    "## Как запускать код в Jupyter Notebook\n",
    "\n",
    "Фишка Jupyter Notebook в разделяемых ячейках, в которых может быть написан и код, и язык разметки Markdown (вот тут есть справка и интерактивный туториал на английском: <https://commonmark.org/help/>)\n",
    "\n",
    "Для запуска кода, кликни на ячейку, чтобы её выделить, а затем нажми `SHIFT+ENTER` или треугольную кнопку Play сверху.\n",
    "\n",
    "Запусти следующую ячейку с помощью `SHIFT+ENTER`."
   ]
  },
  {
   "cell_type": "markdown",
   "id": "346d3ee2",
   "metadata": {},
   "source": [
    "Для дополнительной информации можно посмотреть <https://www.codecademy.com/article/how-to-use-jupyter-notebooks> (англ) или <https://ru.linux-terminal.com/?p=4307>."
   ]
  },
  {
   "cell_type": "code",
   "execution_count": 1,
   "id": "beea8d23-8211-40e2-a760-75cc72f37ca9",
   "metadata": {},
   "outputs": [
    {
     "name": "stdout",
     "output_type": "stream",
     "text": [
      "Привет, Python!\n"
     ]
    }
   ],
   "source": [
    "print(\"Привет, Python!\")"
   ]
  },
  {
   "cell_type": "code",
   "execution_count": null,
   "id": "68222a30-546e-4b6e-abfd-7dfb6fd77955",
   "metadata": {},
   "outputs": [],
   "source": []
  }
 ],
 "metadata": {
  "kernelspec": {
   "display_name": "Python 3 (ipykernel)",
   "language": "python",
   "name": "python3"
  },
  "language_info": {
   "codemirror_mode": {
    "name": "ipython",
    "version": 3
   },
   "file_extension": ".py",
   "mimetype": "text/x-python",
   "name": "python",
   "nbconvert_exporter": "python",
   "pygments_lexer": "ipython3",
   "version": "3.13.7"
  }
 },
 "nbformat": 4,
 "nbformat_minor": 5
}
