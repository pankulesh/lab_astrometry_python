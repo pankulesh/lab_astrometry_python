{
 "cells": [
  {
   "cell_type": "markdown",
   "id": "0",
   "metadata": {},
   "source": [
    "# Структуры\n",
    "\n",
    "<div style=\"text-align: center;\">\n",
    "  <img src=\"https://www.americanscientist.org/sites/americanscientist.org/files/2018-08-28-fromthestaff-frederick-aulicino-1-figcap.jpg\" width=\"800\"/>\n",
    "</div>\n",
    "\n",
    "\n",
    "\n",
    "## Содержание\n",
    "\n",
    "В этом ноутбуке рассмотрим основные структуры данных в Python: кортежи (tuples), списки (lists), множества (sets) и словари (dictionaries). Именно с помощью этих структур можно эффективно оперировать многомерными численными и текстовыми данными, хранить их и преобразовывать. Освоение этих структур позволит вам в будущем более комфортно оперировать с комплексными таблицами и датасетами, решать более сложные задачи и осуществлять более комплексный анализ.\n",
    "\n",
    "## Задачи\n",
    "\n",
    "Освоение этого ноутбука поможет вам:\n",
    "\n",
    "- Понимать основные свойства кортежей, списков, множеств и словарей в Python и уметь их использовать;\n",
    "- Применять эти структуры данных для хранения и манипуляций координат, путей и аттрибутов;\n",
    "- Различать изменяемые (mutable) и неизменяемые (immutable) структуры данных;\n",
    "- Применять основные операции на структурах данных: индексация, срезы, добавление и удаление элементов, обновление значений."
   ]
  },
  {
   "cell_type": "markdown",
   "id": "1",
   "metadata": {},
   "source": [
    "## Кортежи (Tuples)\n",
    "\n",
    "Кортежи являются упорядоченными неизменяемыми (immutable) последовательностями — после создания их элементы нельзя изменить. Кортежи удобно использовать для хранения информации, которая не будет обновляться.\n",
    "\n",
    "Например, в кортеж можно записать пару чисел с плавающей точкой - координаты одной звезды, уже знакомой Альфы Центавра:"
   ]
  },
  {
   "cell_type": "code",
   "execution_count": 2,
   "id": "2",
   "metadata": {},
   "outputs": [],
   "source": [
    "source_coords = (\n",
    "    219.9021,\n",
    "    -60.8340\n",
    ")  # Кортеж из экваториальных координат (RA, Dec) Альфы Центавра в десятичных градусах"
   ]
  },
  {
   "cell_type": "markdown",
   "id": "7552df29-3541-4341-ac25-9ce42b0465e8",
   "metadata": {},
   "source": [
    "К элементам кортежа (как и к элементам списка) можно обращаться с помощью индекса. Нумерация индексов начинается с 0.\n",
    "\n",
    "Чтобы обратиться к элементу кортежа, укажите его индекс в квадратных скобках:"
   ]
  },
  {
   "cell_type": "code",
   "execution_count": 3,
   "id": "4",
   "metadata": {},
   "outputs": [
    {
     "name": "stdout",
     "output_type": "stream",
     "text": [
      "RA: 219.9021, Dec: -60.834\n"
     ]
    }
   ],
   "source": [
    "right_ascension = source_coords[0]\n",
    "declination = source_coords[1]\n",
    "print(f\"RA: {right_ascension}, Dec: {declination}\")"
   ]
  },
  {
   "cell_type": "markdown",
   "id": "4c804070-b34f-4a61-9b9a-5fc3464e0548",
   "metadata": {},
   "source": [
    "Количество элементов внутри любой структуры данных можно получить с помощью функции `len()`:"
   ]
  },
  {
   "cell_type": "code",
   "execution_count": 5,
   "id": "89858384-d5da-4f01-8ff9-7ace5bfc1af7",
   "metadata": {},
   "outputs": [
    {
     "data": {
      "text/plain": [
       "2"
      ]
     },
     "execution_count": 5,
     "metadata": {},
     "output_type": "execute_result"
    }
   ],
   "source": [
    "len(source_coords)"
   ]
  },
  {
   "cell_type": "markdown",
   "id": "3",
   "metadata": {},
   "source": [
    "**Основные методы кортежей**\n",
    "\n",
    "Кортежи — это неизменяемый тип данных, и число методов, которыми можно с ними взаимодействовать, невелико:\n",
    "\n",
    "\n",
    "| Метод        | Описание                                                                 | Пример                    |\n",
    "|---------------|-----------------------------------------------------------------------------|----------------------------|\n",
    "| `count(value)`| Возвращает количество раз, которое `value` встречается внутри кортежа                   | `(1, 2, 2, 3).count(2)` → `2` |\n",
    "| `index(value[, start[, stop]])` | Возвращает первый индекс, где встречается `value` внутри опциональных ограничений `start` и `stop`| `(1, 2, 3).index(2)` → `1`   |\n"
   ]
  },
  {
   "cell_type": "markdown",
   "id": "5",
   "metadata": {},
   "source": [
    "## Списки\n",
    "\n",
    "Списки являются упорядоченными и изменяемыми последовательностями, что означает, что вы можете их изменять, добавлять или удалять элементы после создания списка. Списки очень гибкие и могут хранить несколько типов данных одновременно.\n",
    "\n",
    "Например, вот так можно создать список названий ярчайших звезд:"
   ]
  },
  {
   "cell_type": "code",
   "execution_count": 81,
   "id": "6",
   "metadata": {},
   "outputs": [],
   "source": [
    "star_names = [\n",
    "    \"Сириус\",\n",
    "    \"Канопус\",\n",
    "    \"Альфа Центавра\",\n",
    "    \"Арктур\"]  # список обрамляется квадратными скобками"
   ]
  },
  {
   "cell_type": "markdown",
   "id": "5f79d26b-3280-4799-8649-30659b11f0f3",
   "metadata": {},
   "source": [
    "**Основные методы списков**\n",
    "\n",
    "Списки в Python **изменяемые**, что означает, что можно изменять, добавлять или удалять элементы внутри списка после его создания. Большая часть методов видоизменяют список, для которого вызывался метод, и только некоторые возвращают новую сущность.\n",
    "\n",
    "| Метод                      | Описание                                                                 | Пример                                 |\n",
    "|-----------------------------|-----------------------------------------------------------------------------|-----------------------------------------|\n",
    "| `append(x)`                 | Добавить `x` в конец списка                                                | `[1, 2].append(3)` → `[1, 2, 3]`        |\n",
    "| `extend(iterable)`          | Расширить список, добавив в его конец элементы из `iterable`               | `[1, 2].extend([3, 4])` → `[1, 2, 3, 4]`|\n",
    "| `insert(i, x)`              | Вставить `x` в список, чтобы его индекс был `i`                            | `[1, 3].insert(1, 2)` → `[1, 2, 3]`     |\n",
    "| `remove(x)`                 | Убрать первое вхождение элемента `x`                                       | `[1, 2, 3].remove(2)` → `[1, 3]`        |\n",
    "| `pop([i])`                  | Убрать и вывести элемент по индексу `i` (последний по-умолчанию)           | `[1, 2, 3].pop()` → returns `3`         |\n",
    "| `clear()`                   | Очистить список                                                            | `[1, 2, 3].clear()` → `[]`              |\n",
    "| `sort()`                    | Отсортировать список (по-умолчанию по возрастанию)                         | `[3, 1, 2].sort()` → `[1, 2, 3]`        |\n",
    "| `reverse()`                 | Инвертировать список                                                       | `[1, 2, 3].reverse()` → `[3, 2, 1]`     |\n",
    "| `index(x[, start[, end]])`  | Возвращает индекс первого вхождения элемента `x`                           | `[1, 2, 3].index(2)` → `1`              |\n",
    "| `count(x)`                  | Возвращает количество раз, которое элемент `x` встречается внутри списка   | `[1, 2, 2, 3].count(2)` → `2`           |\n",
    "| `copy()`                    | Возвращает поверхностную копию списка (не работает с двумерными списками)  | `a = [1, 2, 3]; b = a.copy()`           |\n"
   ]
  },
  {
   "cell_type": "markdown",
   "id": "7",
   "metadata": {},
   "source": [
    "Рассмотрим применение этих методов:"
   ]
  },
  {
   "cell_type": "code",
   "execution_count": 85,
   "id": "916a3894-1aaa-45de-a42e-483341e05e33",
   "metadata": {},
   "outputs": [
    {
     "name": "stdout",
     "output_type": "stream",
     "text": [
      "Канопус\n",
      "['Альфа Центавра', 'Арктур']\n"
     ]
    }
   ],
   "source": [
    "# Обычная индексация\n",
    "\n",
    "print(star_names[1]) # вернуть второй элемент\n",
    "print(star_names[2:4]) # вернуть элементы с третьего по четвертый"
   ]
  },
  {
   "cell_type": "code",
   "execution_count": 28,
   "id": "8",
   "metadata": {},
   "outputs": [
    {
     "name": "stdout",
     "output_type": "stream",
     "text": [
      "Обновленный список: ['Сириус', 'Канопус', 'Альфа Центавра', 'Арктур', 'Вега']\n"
     ]
    }
   ],
   "source": [
    "# 1. append()\n",
    "\n",
    "star_names.append(\"Вега\")  # Добавляем новую звезду в список\n",
    "print(\"Обновленный список:\", star_names)"
   ]
  },
  {
   "cell_type": "code",
   "execution_count": 29,
   "id": "5dbc79d9-3fb5-405c-b1df-51913295b1ae",
   "metadata": {},
   "outputs": [
    {
     "name": "stdout",
     "output_type": "stream",
     "text": [
      "После расширения: ['Сириус', 'Канопус', 'Альфа Центавра', 'Арктур', 'Вега', 'Капелла', 'Ригель']\n"
     ]
    }
   ],
   "source": [
    "# 2. extend()\n",
    "star_names.extend([\"Капелла\", \"Ригель\"]) #добавляем сразу несколько звезд, \"склеивая\" два списка\n",
    "print(\"После расширения:\", star_names)"
   ]
  },
  {
   "cell_type": "code",
   "execution_count": 30,
   "id": "9c8847ab-6eb5-46ff-8e61-e7692649564d",
   "metadata": {},
   "outputs": [
    {
     "name": "stdout",
     "output_type": "stream",
     "text": [
      "После вставки по индексу 5: ['Сириус', 'Канопус', 'Альфа Центавра', 'Арктур', 'Вега', 'Солнце', 'Капелла', 'Ригель']\n"
     ]
    }
   ],
   "source": [
    "# 3. insert() - Вставляем звезду по индексу 5\n",
    "star_names.insert(5, \"Солнце\")\n",
    "print(\"После вставки по индексу 5:\", star_names)"
   ]
  },
  {
   "cell_type": "code",
   "execution_count": 31,
   "id": "1891fe35-5aa3-4d61-b147-dc1742f6a06c",
   "metadata": {},
   "outputs": [
    {
     "name": "stdout",
     "output_type": "stream",
     "text": [
      "After remove: ['Сириус', 'Канопус', 'Альфа Центавра', 'Арктур', 'Вега', 'Капелла', 'Ригель']\n"
     ]
    }
   ],
   "source": [
    "# 4. remove() - Remove a specific star coordinate\n",
    "star_names.remove(\"Солнце\")\n",
    "print(\"After remove:\", star_names)"
   ]
  },
  {
   "cell_type": "code",
   "execution_count": 33,
   "id": "3b024b9d-dffd-45e0-9dab-6cd059dd0c35",
   "metadata": {},
   "outputs": [
    {
     "name": "stdout",
     "output_type": "stream",
     "text": [
      "Вытащенный элемент: Альфа Центавра\n",
      "Список после вытаскивания: ['Сириус', 'Канопус', 'Арктур', 'Вега', 'Капелла', 'Ригель']\n"
     ]
    }
   ],
   "source": [
    "# 5. pop() - вытащим из списка звезду по индексу 7\n",
    "removed = star_names.pop(2)\n",
    "print(\"Вытащенный элемент:\", removed)\n",
    "print(\"Список после вытаскивания:\", star_names)"
   ]
  },
  {
   "cell_type": "code",
   "execution_count": 34,
   "id": "f91c5aa9-17e8-435a-bd88-a56cc21c5cb3",
   "metadata": {},
   "outputs": [
    {
     "name": "stdout",
     "output_type": "stream",
     "text": [
      "Индекс Капеллы в списке: 4\n"
     ]
    }
   ],
   "source": [
    "# 6. index() - найдем индекс одной из звезд\n",
    "index = star_names.index(\"Капелла\")\n",
    "print(\"Индекс Капеллы в списке:\", index)"
   ]
  },
  {
   "cell_type": "code",
   "execution_count": 36,
   "id": "2211d8c3-8551-43eb-afc7-10df6c41310d",
   "metadata": {},
   "outputs": [
    {
     "name": "stdout",
     "output_type": "stream",
     "text": [
      "Количество Арктуров в списке: 1\n"
     ]
    }
   ],
   "source": [
    "# 7. count() - сосчитаем, сколько раз встречается Арктур в списке:\n",
    "count = star_names.count(\"Арктур\")\n",
    "print(\"Количество Арктуров в списке:\", count)"
   ]
  },
  {
   "cell_type": "code",
   "execution_count": 38,
   "id": "b5d4053b-4eb3-4ff4-b8f9-074cbfacd874",
   "metadata": {},
   "outputs": [
    {
     "name": "stdout",
     "output_type": "stream",
     "text": [
      "Копия списка звезд: ['Сириус', 'Процион', 'Арктур', 'Вега', 'Капелла', 'Ригель']\n",
      "Предыдущий список: ['Сириус', 'Канопус', 'Арктур', 'Вега', 'Капелла', 'Ригель']\n"
     ]
    }
   ],
   "source": [
    "# 8. copy() - сделаем поверхностную копию списка, чтобы его можно было менять независимо\n",
    "copy_names = star_names.copy()\n",
    "copy_names[1] = 'Процион'\n",
    "print(\"Копия списка звезд:\", copy_names)\n",
    "print(\"Предыдущий список:\", star_names)"
   ]
  },
  {
   "cell_type": "code",
   "execution_count": 39,
   "id": "bc62d38f-d57f-4d19-93dc-0fd35a088ade",
   "metadata": {},
   "outputs": [
    {
     "name": "stdout",
     "output_type": "stream",
     "text": [
      "После разворачивания: ['Ригель', 'Капелла', 'Вега', 'Арктур', 'Канопус', 'Сириус']\n"
     ]
    }
   ],
   "source": [
    "# 9. reverse() - развернем список\n",
    "star_names.reverse()\n",
    "print(\"После разворачивания:\", star_names)"
   ]
  },
  {
   "cell_type": "code",
   "execution_count": 40,
   "id": "c3ffcf09-0ae1-4c4b-bcc5-678e0f9604fc",
   "metadata": {},
   "outputs": [
    {
     "name": "stdout",
     "output_type": "stream",
     "text": [
      "После очистки: []\n"
     ]
    }
   ],
   "source": [
    "# 10. clear() - очистим список, убрав из него все элементы\n",
    "star_names.clear()\n",
    "print(\"После очистки:\", star_names)"
   ]
  },
  {
   "cell_type": "markdown",
   "id": "11",
   "metadata": {},
   "source": [
    "## Множества (Sets)\n",
    "\n",
    "Множества — это неупорядоченные коллекции из уникальных элементов. Множества полезны, когда порядок неважен, а от дубликатов хочется избавиться.\n",
    "\n",
    "Множество можно задать с помощью фигурных скобок или с помощью функции `set()`:"
   ]
  },
  {
   "cell_type": "code",
   "execution_count": 43,
   "id": "12",
   "metadata": {},
   "outputs": [
    {
     "name": "stdout",
     "output_type": "stream",
     "text": [
      "{'Вега', 'Сириус', 'Канопус'}\n",
      "{'Процион', 'Арктур', 'Вега', 'Ригель', 'Сириус', 'Капелла'}\n"
     ]
    }
   ],
   "source": [
    "stars = {\"Вега\", \"Сириус\", \"Вега\", \"Канопус\"}  # задание с помощью скобок\n",
    "print(stars)\n",
    "stars = set(copy_names)\n",
    "print(stars)"
   ]
  },
  {
   "cell_type": "markdown",
   "id": "13",
   "metadata": {},
   "source": [
    "**Основные методы множеств**\n",
    "\n",
    "| Метод                 | Описание                                                                               |\n",
    "|-----------------------|----------------------------------------------------------------------------------------|\n",
    "| `add(elem)`           | Добавить `elem` в множество                                                            |\n",
    "| `update(iterable)`    | Добавить несколько элементов из коллекции `iterable`                                   |\n",
    "| `remove(elem)`        | Удалить `elem` из множества (выдает исключение `KeyError` если такого элемента нет)    |\n",
    "| `discard(elem)`       | Удалить `elem` из множества (не выдает исключений, если такого элемента нет)           |\n",
    "| `pop()`               | Извлечь случайный элемент из множества                                                 |\n",
    "| `clear()`             | Очистить множество                                                                     |\n",
    "| `union(other)`        | Вернуть новое множество, являющееся объединением с множеством `other`                  |\n",
    "| `intersection(other)` | Вернуть новое множество, являющееся пересечением с множеством `other`                  |\n",
    "| `difference(other)`   | Вернуть новое множество, являющееся разностью с множеством `other`                     |\n",
    "| `symmetric_difference(other)` | Вернуть новое множество, являющееся симметричной разностью с множеством `other`|\n",
    "| `copy()`              | Вернуть поверхностную копию множества                                                  |\n"
   ]
  },
  {
   "cell_type": "code",
   "execution_count": 45,
   "id": "14",
   "metadata": {},
   "outputs": [
    {
     "name": "stdout",
     "output_type": "stream",
     "text": [
      "Обновленные звезды: {'Процион', 'Эта Киля', 'Арктур', 'Вега', 'Ригель', 'Сириус', 'Капелла'}\n"
     ]
    }
   ],
   "source": [
    "# 1. Добавим одну звезду\n",
    "stars.add(\"Эта Киля\")\n",
    "print(\"Обновленное множество:\", stars)"
   ]
  },
  {
   "cell_type": "code",
   "execution_count": 46,
   "id": "d8b2f596-c5a6-4c97-ac77-2f889edbafbd",
   "metadata": {},
   "outputs": [
    {
     "name": "stdout",
     "output_type": "stream",
     "text": [
      "Обновленные звезды: {'Процион', 'Эта Киля', 'Арктур', 'Вега', 'Бета Лиры', 'Ригель', 'Мира Кита', 'Сириус', 'Капелла'}\n"
     ]
    }
   ],
   "source": [
    "# 2. Добавим несколько звезд\n",
    "stars.update([\"Мира Кита\", \"Бета Лиры\"])\n",
    "print(\"Обновленное множество:\", stars)"
   ]
  },
  {
   "cell_type": "code",
   "execution_count": 48,
   "id": "9bce442f-870e-4b3b-80ed-45429f30238b",
   "metadata": {},
   "outputs": [
    {
     "name": "stdout",
     "output_type": "stream",
     "text": [
      "Обновленное множество: {'Процион', 'Эта Киля', 'Арктур', 'Вега', 'Ригель', 'Мира Кита', 'Сириус', 'Капелла'}\n"
     ]
    }
   ],
   "source": [
    "# 3. Уберем звезду из множества\n",
    "stars.discard(\"Бета Лиры\")\n",
    "print(\"Обновленное множество:\", stars)"
   ]
  },
  {
   "cell_type": "code",
   "execution_count": 50,
   "id": "9d23c3a1-d0dd-4523-bf00-b08303ad6118",
   "metadata": {},
   "outputs": [
    {
     "name": "stdout",
     "output_type": "stream",
     "text": [
      "Вытащено: Процион\n",
      "Остатки:  {'Эта Киля', 'Арктур', 'Вега', 'Ригель', 'Мира Кита', 'Сириус', 'Капелла'}\n"
     ]
    }
   ],
   "source": [
    "# 4. Вытащим из множества произвольную звезду\n",
    "print(\"Вытащено:\", stars.pop())\n",
    "print(\"Остатки: \", stars)"
   ]
  },
  {
   "cell_type": "code",
   "execution_count": 51,
   "id": "2ac80e41-fda6-4dad-b744-cdf34d3af912",
   "metadata": {},
   "outputs": [
    {
     "name": "stdout",
     "output_type": "stream",
     "text": [
      "set()\n"
     ]
    }
   ],
   "source": [
    "# 5. Очистим множество\n",
    "stars.clear()\n",
    "print(stars)"
   ]
  },
  {
   "cell_type": "code",
   "execution_count": 52,
   "id": "cea67bf8-812e-45f1-8339-a38b001e6576",
   "metadata": {},
   "outputs": [
    {
     "name": "stdout",
     "output_type": "stream",
     "text": [
      "Объединение: {1, 2, 3, 4, 5}\n",
      "Пересечение: {3}\n",
      "Разность: {1, 2}\n",
      "Симметричная разность: {1, 2, 4, 5}\n",
      "Копия a: {1, 2, 3}\n"
     ]
    }
   ],
   "source": [
    "# Теоретико-множественные операции\n",
    "a = {1, 2, 3}\n",
    "b = {3, 4, 5}\n",
    "\n",
    "print(\"Объединение:\", a.union(b))\n",
    "print(\"Пересечение:\", a.intersection(b))\n",
    "print(\"Разность:\", a.difference(b))\n",
    "print(\"Симметричная разность:\", a.symmetric_difference(b))\n",
    "print(\"Копия a:\", a.copy())"
   ]
  },
  {
   "cell_type": "markdown",
   "id": "17",
   "metadata": {},
   "source": [
    "## Словари (Dictionaries)\n",
    "\n",
    "Словари -- это особые структуры из наборов пар \"ключ-значение\", причем каждый ключ уникален. Словари чрезвычайно полезны для хранения \"табличных\" данных, где каждая строка ассоциированна со своим идентификатором.\n",
    "\n",
    "Словарь, как и множество, можно задать через фигурные скобки, а можно через функцию `dict()`. Например, вот так можно задать словарь, который хранит в себе множество параметров одной звезды:"
   ]
  },
  {
   "cell_type": "code",
   "execution_count": 87,
   "id": "18",
   "metadata": {},
   "outputs": [],
   "source": [
    "star_attributes = {\n",
    "    \"name\": \"Альфа Центавра А\", # имя\n",
    "    \"B_mag\": 0.4, # звездная величина в полосе B\n",
    "    \"Sp\": \"G2V\", # спектральный класс\n",
    "    \"coordinates\": (219.9021, -60.8340) # экваториальные координаты\n",
    "}"
   ]
  },
  {
   "cell_type": "markdown",
   "id": "ba95f765-9c29-4015-b7e2-842e04759f4c",
   "metadata": {},
   "source": [
    "**Основные методы словарей**\n",
    "\n",
    "| Метод                    | Описание                                                                    |\n",
    "|--------------------------|-----------------------------------------------------------------------------|\n",
    "| `get(key[, default])`    | Вернуть значение, соответствующее ключу `key`; вернуть `default`, если такого ключа нет       |\n",
    "| `keys()`                 | Вернуть список всех ключей в словаре                               |\n",
    "| `values()`               | Вернуть список всех значений в словаре                             |\n",
    "| `items()`                | Вернуть список всех пар (ключ, значение) в виде кортежей                            |\n",
    "| `update([other])`        | Обновить словарь парами \"ключ-значение\" из словаря `other`        |\n",
    "| `pop(key[, default])`    | Вытащить из словаря ключ `key` и вернуть его значение; вернуть `default`, если такого ключа нет  |\n",
    "| `popitem()`              | Вытащить из словаря последнюю добавленную в словарь пару \"ключ-значение\"                       |\n",
    "| `setdefault(key[, default])` | Вернуть значение, соответствующее ключу `key`; добавить пару для этого ключа со значением `default`, если такого ключа нет |\n",
    "| `clear()`                | Очистить словарь                                      |\n",
    "| `copy()`                 | Сделать поверхностную копию словаря                                   |\n"
   ]
  },
  {
   "cell_type": "code",
   "execution_count": 89,
   "id": "f0fd44cd-9eb6-4d9a-b330-c5990c0faeb7",
   "metadata": {},
   "outputs": [
    {
     "data": {
      "text/plain": [
       "'Альфа Центавра А'"
      ]
     },
     "execution_count": 89,
     "metadata": {},
     "output_type": "execute_result"
    }
   ],
   "source": [
    "# индексация похожа на списочную, но производится по ключам, а не числам\n",
    "star_attributes['name']"
   ]
  },
  {
   "cell_type": "code",
   "execution_count": 70,
   "id": "ddb5e4f4-720b-46d1-98cf-d097776c9658",
   "metadata": {},
   "outputs": [
    {
     "name": "stdout",
     "output_type": "stream",
     "text": [
      "Альфа Центавра А\n",
      "Unknown\n"
     ]
    }
   ],
   "source": [
    "# 1. Получить значение из словаря\n",
    "print(star_attributes.get(\"name\", \"Unknown\"))\n",
    "print(star_attributes.get(\"distance\", \"Unknown\"))"
   ]
  },
  {
   "cell_type": "code",
   "execution_count": 71,
   "id": "cf52929e-cab5-4d83-9317-d3cd7b1c1ddd",
   "metadata": {},
   "outputs": [
    {
     "name": "stdout",
     "output_type": "stream",
     "text": [
      "dict_keys(['name', 'B_mag', 'Sp', 'coordinates'])\n"
     ]
    }
   ],
   "source": [
    "# 2. Просмотреть ключи в словаре\n",
    "print(star_attributes.keys()) "
   ]
  },
  {
   "cell_type": "code",
   "execution_count": 72,
   "id": "0f63129a-46ef-409e-ab12-81ebebe4a7c1",
   "metadata": {},
   "outputs": [
    {
     "name": "stdout",
     "output_type": "stream",
     "text": [
      "dict_values(['Альфа Центавра А', 0.4, 'G2V', (219.9021, -60.834)])\n"
     ]
    }
   ],
   "source": [
    "# 3. Просмотреть значения в словаре\n",
    "print(star_attributes.values())"
   ]
  },
  {
   "cell_type": "code",
   "execution_count": 73,
   "id": "56c8ad87-b0ff-4fc6-90e3-03f000032d17",
   "metadata": {},
   "outputs": [
    {
     "name": "stdout",
     "output_type": "stream",
     "text": [
      "dict_items([('name', 'Альфа Центавра А'), ('B_mag', 0.4), ('Sp', 'G2V'), ('coordinates', (219.9021, -60.834))])\n"
     ]
    }
   ],
   "source": [
    "# 4. Просмотреть пары ключ-значение\n",
    "print(star_attributes.items())"
   ]
  },
  {
   "cell_type": "code",
   "execution_count": 74,
   "id": "0ec34170-56a2-433c-b7bf-3bb20ac2bc71",
   "metadata": {},
   "outputs": [
    {
     "name": "stdout",
     "output_type": "stream",
     "text": [
      "{'name': 'Альфа Центавра А', 'B_mag': 0.4, 'Sp': 'G2V', 'coordinates': (219.9021, -60.834), 'distance': 4.37}\n"
     ]
    }
   ],
   "source": [
    "# 5. Обновить словарь\n",
    "star_attributes.update({\"distance\": 4.37}) # в световых годах\n",
    "print(star_attributes)"
   ]
  },
  {
   "cell_type": "code",
   "execution_count": 75,
   "id": "b62cc02b-d087-4be0-8456-1432b260f95a",
   "metadata": {},
   "outputs": [
    {
     "name": "stdout",
     "output_type": "stream",
     "text": [
      "Вытащенное B_mag: 0.4\n"
     ]
    }
   ],
   "source": [
    "# 6. Вытащить ключ и значение и записать значение в переменную\n",
    "b_mag = star_attributes.pop(\"B_mag\")\n",
    "print(\"Вытащенное B_mag:\", b_mag)"
   ]
  },
  {
   "cell_type": "code",
   "execution_count": 76,
   "id": "c1f996cd-9c60-4956-9e41-9d9212f1eb08",
   "metadata": {},
   "outputs": [
    {
     "name": "stdout",
     "output_type": "stream",
     "text": [
      "Вытащен последний добавленный элемент: ('distance', 4.37)\n"
     ]
    }
   ],
   "source": [
    "# 7. Вытащить последний элемент словаря\n",
    "last_item = star_attributes.popitem()\n",
    "print(\"Вытащен последний добавленный элемент:\", last_item)"
   ]
  },
  {
   "cell_type": "code",
   "execution_count": 77,
   "id": "75a880f6-74e0-4789-8391-8f56e6ceaf94",
   "metadata": {},
   "outputs": [
    {
     "name": "stdout",
     "output_type": "stream",
     "text": [
      "{'name': 'Альфа Центавра А', 'Sp': 'G2V', 'coordinates': (219.9021, -60.834), 'luminosity': '1.519'}\n",
      "1.519\n"
     ]
    }
   ],
   "source": [
    "# 8. Получить значение по ключу или добавить значение, если такого ключа нет ещё нет\n",
    "luminocity = star_attributes.setdefault(\"luminosity\", \"1.519\") # в солнечных светимостях\n",
    "print(star_attributes)\n",
    "print(luminocity)"
   ]
  },
  {
   "cell_type": "code",
   "execution_count": 78,
   "id": "bc8b7231-480f-4d7e-8804-0fcd4862814f",
   "metadata": {},
   "outputs": [
    {
     "name": "stdout",
     "output_type": "stream",
     "text": [
      "Копия: {'name': 'Альфа Центавра А', 'Sp': 'G2V', 'coordinates': (219.9021, -60.834), 'luminosity': '1.519'}\n"
     ]
    }
   ],
   "source": [
    "# 9. Сделать копию словаря\n",
    "star_copy = star_attributes.copy()\n",
    "print(\"Копия:\", star_copy)"
   ]
  },
  {
   "cell_type": "code",
   "execution_count": 79,
   "id": "8d80c6b6-d4ce-40e7-ae99-a6f2504f4017",
   "metadata": {},
   "outputs": [
    {
     "name": "stdout",
     "output_type": "stream",
     "text": [
      "Очищено: {}\n"
     ]
    }
   ],
   "source": [
    "# 10. Очистить словарь\n",
    "star_attributes.clear()\n",
    "print(\"Очищено:\", star_attributes)"
   ]
  },
  {
   "cell_type": "markdown",
   "id": "25",
   "metadata": {},
   "source": [
    "**Для дополнительного чтения**\n",
    "\n",
    "* Раздел 3 из учебника Яндекса: <https://education.yandex.ru/handbook/python>\n",
    "\n",
    "* Официальная документация: <https://docs.python.org/3/tutorial/datastructures.html>.\n",
    "\n"
   ]
  },
  {
   "cell_type": "markdown",
   "id": "23",
   "metadata": {},
   "source": [
    "## Вопросы и упражнения\n",
    "\n",
    "1.  Как создать список `planets`, хранящий в себе 4 ближайшие к Солнцу планеты Солнечной системы?\n",
    "2.  Как, имея список `planets` из предыдущего пункта, получить имя `\"Земля\"`?\n",
    "3.  Как добавить в конец списка `planets` название планеты Юпитер?\n",
    "4.  Как узнать количество элементов списка `planets`?\n",
    "5.  Как изменить название третьей планеты в списке `planets` на \"Гая\"?\n",
    "\n",
    "\n",
    "6.  Как создать неизменную последовательность `moons` лун планет земной группы: Луна, Фобос, Деймос?\n",
    "7.  Как достать из последовательности `moons` только спутники Марса?\n",
    "\n",
    "   \n",
    "8.  Как создать словарь `star_info` со следующей информацией: ключ - name, значение - Сириус, ключ -  \"color\", значение - бело-голубой?\n",
    "9.  Как обратиться к этому словарю по ключу \"color\"? Предложите как минимум два варианта.\n",
    "10.  Как добавить в этот словарь данные о том, что расстояние `distance` до Сириуса 8.6 световых лет?\n",
    "11.  Как вывести все доступные ключи из этого словаря?\n",
    "\n",
    "\n",
    "12. Как создать множество `giants`, состоящее из 4 планет-гигантов Солнечной системы?\n",
    "13. Как добавить к множеству `giants` планету Земля?\n",
    "14. Как создать множество из списка `planets` из заданий 1-5?\n",
    "15. Как выглядит объединение множеств `planets` и `giants`?"
   ]
  },
  {
   "cell_type": "code",
   "execution_count": null,
   "id": "d40bf978-e55d-4795-b2d9-3fb7eed03dea",
   "metadata": {},
   "outputs": [],
   "source": []
  }
 ],
 "metadata": {
  "kernelspec": {
   "display_name": "Python 3 (ipykernel)",
   "language": "python",
   "name": "python3"
  },
  "language_info": {
   "codemirror_mode": {
    "name": "ipython",
    "version": 3
   },
   "file_extension": ".py",
   "mimetype": "text/x-python",
   "name": "python",
   "nbconvert_exporter": "python",
   "pygments_lexer": "ipython3",
   "version": "3.13.3"
  }
 },
 "nbformat": 4,
 "nbformat_minor": 5
}
